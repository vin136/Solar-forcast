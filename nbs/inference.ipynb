{
 "cells": [
  {
   "cell_type": "code",
   "execution_count": 2,
   "metadata": {},
   "outputs": [
    {
     "name": "stderr",
     "output_type": "stream",
     "text": [
      "/common/home/vk405/miniconda3/envs/Crossmdl/lib/python3.8/site-packages/tqdm/auto.py:22: TqdmWarning: IProgress not found. Please update jupyter and ipywidgets. See https://ipywidgets.readthedocs.io/en/stable/user_install.html\n",
      "  from .autonotebook import tqdm as notebook_tqdm\n"
     ]
    }
   ],
   "source": [
    "#inference code\n",
    "\n",
    "import torch\n",
    "import numpy as np\n",
    "import os\n",
    "import json\n",
    "import joblib\n",
    "from torch.utils.data import Dataset,DataLoader\n",
    "from itertools import repeat\n",
    "import pandas as pd\n",
    "import math\n",
    "import torch.nn as nn\n",
    "import torch.nn.functional as F\n",
    "import pytorch_lightning as pl\n",
    "from pytorch_lightning.loggers import CSVLogger\n",
    "from sklearn.preprocessing import MinMaxScaler\n",
    "from tqdm import tqdm\n",
    "from pathlib import Path\n",
    "data_dir =Path('/common/home/vk405/Projects/EnergyLab/Solar-forcast/Data/')\n",
    "image_dir = Path('/common/users/vk405/EnergyLab/Data')\n",
    "proc_data_dir = Path('/common/users/vk405/EnergyLab/Data/ProcData')\n",
    "df = pd.read_csv(f'{data_dir}/tgtimgs.csv')\n",
    "\n"
   ]
  },
  {
   "cell_type": "code",
   "execution_count": 2,
   "metadata": {},
   "outputs": [],
   "source": [
    "class Dset(Dataset):\n",
    "    def __init__(self,split= 'train',data_dir='/common/home/vk405/Projects/EnergyLab/Solar-forcast/Data/',\n",
    "    image_dir='/common/users/vk405/EnergyLab/Data/ProcData'):\n",
    "        self.split = split\n",
    "\n",
    "        #hardcoded dir locs \n",
    "        self.data_dir = Path(data_dir)\n",
    "        self.image_dir = Path(image_dir) \n",
    "        \n",
    "        base_df = pd.read_csv(f'{self.data_dir}/tgtimgs.csv')\n",
    "        base_df.loc[base_df.index[base_df['Target']>=1250.0],'Target'] = 1250.0\n",
    "        \n",
    "        trn_df = pd.DataFrame(base_df.loc[pd.to_datetime(base_df['Date']).dt.year <= 2014])\n",
    "        self.scalar = MinMaxScaler().fit(trn_df['Target'].values.reshape(-1,1))\n",
    "        #splits are hardcoded as per the original paper\n",
    "        if self.split == 'train':\n",
    "            self.df = pd.DataFrame(base_df.loc[pd.to_datetime(base_df['Date']).dt.year <= 2014])\n",
    "            \n",
    "        elif self.split == 'valid':\n",
    "            self.df = pd.DataFrame(base_df.loc[pd.to_datetime(base_df['Date']).dt.year == 2015])\n",
    "            \n",
    "        else:\n",
    "            self.df = pd.DataFrame(base_df.loc[pd.to_datetime(base_df['Date']).dt.year > 2015])\n",
    "        #set an upper-threshold.\n",
    "        self.df.loc[self.df.index[self.df['Target']>=1250.0],'Target'] = 1250.0\n",
    "        #self.df[self.df['Target']>=1300.0]['Target'] = 1300.0\n",
    "        rescaled = self.scalar.transform(self.df['Target'].values.reshape(-1,1))\n",
    "        self.df['Target'] = np.squeeze(rescaled)\n",
    "        \n",
    "        \n",
    "    def __len__(self):\n",
    "        return len(self.df)\n",
    "\n",
    "    def __getitem__(self,ind):\n",
    "        try:\n",
    "            imgs = sorted(eval(self.df.iloc[ind]['Imgs']),key = lambda x: int(x.split('/')[-1].split('.')[0]))\n",
    "            target = self.df.iloc[ind]['Target']\n",
    "            #image_dir = Path('/common/users/vk405/EnergyLab/Data/ProcData') \n",
    "            proc_imgs = [self.image_dir/(x.split('/')[-1].split('.')[0]+'.joblib') for x in imgs]\n",
    "            proc_arrays = [joblib.load(ele) for ele in proc_imgs]\n",
    "        except:\n",
    "            print(ind)\n",
    "            \n",
    "        return (np.concatenate(proc_arrays,-1).reshape(-1,256,256))/255.0,target\n",
    "\n",
    "\n",
    "\n",
    "\n",
    "    "
   ]
  },
  {
   "cell_type": "code",
   "execution_count": 3,
   "metadata": {},
   "outputs": [],
   "source": [
    "def SCNN(n_ch=6):\n",
    "    \n",
    "    model = []\n",
    "    model.append(nn.Conv2d(in_channels=n_ch, out_channels=64, kernel_size=(3, 3), padding=\"same\"))\n",
    "    model.append(nn.ReLU())\n",
    "    model.append(nn.Conv2d(in_channels=64, out_channels=64, kernel_size=(3, 3), padding=\"same\"))\n",
    "    model.append(nn.ReLU())\n",
    "    model.append(nn.MaxPool2d((2,2),stride=(2,2)))\n",
    "    \n",
    "    model.append(nn.Conv2d(in_channels=64, out_channels=128, kernel_size=(3, 3), padding=\"same\"))\n",
    "    model.append(nn.ReLU())\n",
    "    model.append(nn.Conv2d(in_channels=128, out_channels=128, kernel_size=(3, 3), padding=\"same\"))\n",
    "    model.append(nn.ReLU())\n",
    "    model.append(nn.MaxPool2d((2,2),stride=(2,2)))\n",
    "\n",
    "    model.append(nn.Conv2d(in_channels=128, out_channels=256, kernel_size=(3, 3), padding=\"same\"))\n",
    "    model.append(nn.ReLU())\n",
    "    model.append(nn.Conv2d(in_channels=256, out_channels=256, kernel_size=(3, 3), padding=\"same\"))\n",
    "    model.append(nn.ReLU())\n",
    "    model.append(nn.Conv2d(in_channels=256, out_channels=256, kernel_size=(3, 3), padding=\"same\"))\n",
    "    model.append(nn.ReLU())\n",
    "    model.append(nn.MaxPool2d((2,2),stride=(2,2)))\n",
    "\n",
    "    model.append(nn.Conv2d(in_channels=256, out_channels=512, kernel_size=(3, 3), padding=\"same\"))\n",
    "    model.append(nn.ReLU())\n",
    "    model.append(nn.Conv2d(in_channels=512, out_channels=512, kernel_size=(3, 3), padding=\"same\"))\n",
    "    model.append(nn.ReLU())\n",
    "    #model.append(nn.Conv2d(in_channels=512, out_channels=512, kernel_size=(3, 3), padding=\"same\"))\n",
    "    #model.append(nn.ReLU())\n",
    "    model.append(nn.MaxPool2d((2,2),stride=(2,2)))\n",
    "\n",
    "    model.append(nn.Conv2d(in_channels=512, out_channels=512, kernel_size=(3, 3), padding=\"same\"))\n",
    "    model.append(nn.ReLU())\n",
    "    model.append(nn.Conv2d(in_channels=512, out_channels=512, kernel_size=(3, 3), padding=\"same\"))\n",
    "    model.append(nn.ReLU())\n",
    "    #model.append(nn.Conv2d(in_channels=512, out_channels=512, kernel_size=(3, 3), padding=\"same\"))\n",
    "    #model.append(nn.ReLU())\n",
    "    model.append(nn.MaxPool2d((2,2),stride=(2,2)))\n",
    "\n",
    "    model.append(nn.Conv2d(in_channels=512, out_channels=512, kernel_size=(3, 3), padding=\"same\"))\n",
    "    model.append(nn.ReLU())\n",
    "    model.append(nn.Conv2d(in_channels=512, out_channels=512, kernel_size=(3, 3), padding=\"same\"))\n",
    "    model.append(nn.ReLU())\n",
    "    model.append(nn.MaxPool2d((2,2),stride=(2,2)))\n",
    "\n",
    "\n",
    "\n",
    "\n",
    "    return nn.Sequential(*model)\n",
    "\n",
    "\n",
    "\n",
    "\n",
    "class VggModel(pl.LightningModule):\n",
    "    def __init__(self,hparams,dset=None):\n",
    "        super().__init__()\n",
    "        self.save_hyperparameters()\n",
    "\n",
    "        \n",
    "        if hparams.framecnt != 2:\n",
    "            raise NotImplementedError\n",
    "\n",
    "        #get the complete model\n",
    "        base_model = [SCNN(hparams.framecnt*3)]\n",
    "        base_model.extend([nn.Flatten(),nn.Dropout(hparams.dropoutp),nn.Linear(8192,256),nn.Dropout(hparams.dropoutp),nn.Linear(256,1)])\n",
    "        self.net = nn.Sequential(*base_model)\n",
    "\n",
    "    def forward(self,x):\n",
    "        #keep this for inference\n",
    "        out = self.net(x)\n",
    "        return out\n",
    "\n",
    "    \n",
    "    def training_step(self,batch,batch_idx):\n",
    "        #for training\n",
    "        x,y = batch\n",
    "        y_hat = torch.squeeze(self.net(x.float()))\n",
    "\n",
    "        loss = F.l1_loss(y_hat,y.float())\n",
    "        self.log(\"train_loss\",loss,on_step=True)\n",
    "        return loss\n",
    "\n",
    "    \n",
    "    def validation_step(self,batch,batch_idx):\n",
    "        #for training\n",
    "        x,y = batch\n",
    "        y_hat = torch.squeeze(self.net(x.float()))\n",
    "\n",
    "        loss = F.l1_loss(y_hat,y.float())\n",
    "        self.log(\"val_loss\",loss,on_step=False, on_epoch=True)\n",
    "        return loss\n",
    "    \n",
    "    def configure_optimizers(self):\n",
    "        lr = self.hparams.lr if 'lr' in self.hparams else 1e-5\n",
    "        #lr=0.00001, beta_1=0.9, beta_2=0.999, decay=0.0, amsgrad=False\n",
    "        optimizer = torch.optim.Adam(self.parameters(), lr=lr,betas=(0.9,0.999),amsgrad=False)\n",
    "        return optimizer\n",
    "\n",
    "\n",
    "\n",
    "\n",
    "    "
   ]
  },
  {
   "cell_type": "code",
   "execution_count": 4,
   "metadata": {},
   "outputs": [],
   "source": [
    "from argparse import Namespace\n",
    "cfg = Namespace(\n",
    "    version = 'trail',\n",
    "    artifacts_loc = \"/common/home/vk405/Projects/EnergyLab/Solar-forcast/artifacts/\",\n",
    "    data_dir = \"/common/home/vk405/Projects/EnergyLab/Solar-forcast/Data/\",\n",
    "    image_dir = \"/common/users/vk405/EnergyLab/Data/ProcData/\",\n",
    "    mode = 'train',\n",
    "    loggers = [\"csv\"],\n",
    "    seed = 0,\n",
    "    cbs = [\"checkpoint\"],\n",
    "    trainer = {'log_every_n_steps': 50,\n",
    "    'max_epochs': 30},\n",
    "    checkpoint = {\"save_top_k\": 5,\n",
    "    \"monitor\": \"val_loss\",\"mode\":\"min\"},\n",
    "    dropoutp=0.2,\n",
    "    framecnt=2,\n",
    "    lr = 1.5e-5,\n",
    "    batch_size=64\n",
    ")"
   ]
  },
  {
   "cell_type": "code",
   "execution_count": 5,
   "metadata": {},
   "outputs": [],
   "source": [
    "test_dset = Dset(split= 'test')"
   ]
  },
  {
   "cell_type": "code",
   "execution_count": 12,
   "metadata": {},
   "outputs": [],
   "source": []
  },
  {
   "cell_type": "code",
   "execution_count": 15,
   "metadata": {},
   "outputs": [
    {
     "data": {
      "text/plain": [
       "0.0875029172506183"
      ]
     },
     "execution_count": 15,
     "metadata": {},
     "output_type": "execute_result"
    }
   ],
   "source": []
  },
  {
   "cell_type": "code",
   "execution_count": 19,
   "metadata": {},
   "outputs": [
    {
     "data": {
      "text/plain": [
       "<AxesSubplot:xlabel='MST'>"
      ]
     },
     "execution_count": 19,
     "metadata": {},
     "output_type": "execute_result"
    },
    {
     "data": {
      "image/png": "[encoded data removed]",
      "text/plain": [
       "<Figure size 432x288 with 1 Axes>"
      ]
     },
     "metadata": {
      "needs_background": "light"
     },
     "output_type": "display_data"
    }
   ],
   "source": []
  },
  {
   "cell_type": "code",
   "execution_count": 6,
   "metadata": {},
   "outputs": [],
   "source": [
    "net = VggModel(cfg)"
   ]
  },
  {
   "cell_type": "code",
   "execution_count": 7,
   "metadata": {},
   "outputs": [],
   "source": [
    "#trained model\n",
    "weight_loc = '/common/home/vk405/Projects/EnergyLab/Solar-forcast/artifacts/ckpts/trail/epoch=27-val_loss=0.08.ckpt'\n",
    "trnd_net = net.load_from_checkpoint(weight_loc)"
   ]
  },
  {
   "cell_type": "code",
   "execution_count": 8,
   "metadata": {},
   "outputs": [],
   "source": [
    "test_loader = DataLoader(test_dset,\\\n",
    "            batch_size=64,shuffle=False,num_workers=4,pin_memory=True)"
   ]
  },
  {
   "cell_type": "code",
   "execution_count": 12,
   "metadata": {},
   "outputs": [],
   "source": [
    "sampl_batch,sampl_labels = None,None\n",
    "for x,y in test_loader:\n",
    "    sampl_batch,sampl_labels = x,y\n",
    "    break\n",
    "\n"
   ]
  },
  {
   "cell_type": "code",
   "execution_count": 15,
   "metadata": {},
   "outputs": [],
   "source": [
    "preds = trnd_net(x.float())"
   ]
  },
  {
   "cell_type": "code",
   "execution_count": 20,
   "metadata": {},
   "outputs": [
    {
     "data": {
      "text/plain": [
       "torch.Size([64])"
      ]
     },
     "execution_count": 20,
     "metadata": {},
     "output_type": "execute_result"
    }
   ],
   "source": [
    "y.shape"
   ]
  },
  {
   "cell_type": "code",
   "execution_count": 9,
   "metadata": {},
   "outputs": [],
   "source": [
    "def infer(model,loader):\n",
    "    preds_lis = []\n",
    "    truelabels = []\n",
    "    with torch.no_grad():\n",
    "        for x,y in tqdm(test_loader):\n",
    "            preds = model(x.float())\n",
    "            preds_lis.append(preds.squeeze().cpu().numpy())\n",
    "            truelabels.append(y.cpu().numpy())\n",
    "    return np.concatenate(preds_lis,axis=0),np.concatenate(truelabels,axis=0)\n",
    "    \n"
   ]
  },
  {
   "cell_type": "code",
   "execution_count": 10,
   "metadata": {},
   "outputs": [
    {
     "name": "stderr",
     "output_type": "stream",
     "text": [
      "  0%|          | 0/436 [00:13<?, ?it/s]\n"
     ]
    },
    {
     "ename": "RuntimeError",
     "evalue": "Caught RuntimeError in pin memory thread for device 0.\nOriginal Traceback (most recent call last):\n  File \"/common/home/vk405/.local/lib/python3.8/site-packages/torch/utils/data/_utils/pin_memory.py\", line 34, in _pin_memory_loop\n    data = pin_memory(data)\n  File \"/common/home/vk405/.local/lib/python3.8/site-packages/torch/utils/data/_utils/pin_memory.py\", line 58, in pin_memory\n    return [pin_memory(sample) for sample in data]\n  File \"/common/home/vk405/.local/lib/python3.8/site-packages/torch/utils/data/_utils/pin_memory.py\", line 58, in <listcomp>\n    return [pin_memory(sample) for sample in data]\n  File \"/common/home/vk405/.local/lib/python3.8/site-packages/torch/utils/data/_utils/pin_memory.py\", line 50, in pin_memory\n    return data.pin_memory()\nRuntimeError: cuda runtime error (2) : out of memory at ../aten/src/THC/THCCachingHostAllocator.cpp:280\n",
     "output_type": "error",
     "traceback": [
      "\u001b[0;31m---------------------------------------------------------------------------\u001b[0m",
      "\u001b[0;31mRuntimeError\u001b[0m                              Traceback (most recent call last)",
      "\u001b[0;32m<ipython-input-10-9df7f5ab0222>\u001b[0m in \u001b[0;36m<module>\u001b[0;34m\u001b[0m\n\u001b[0;32m----> 1\u001b[0;31m \u001b[0mp\u001b[0m\u001b[0;34m,\u001b[0m\u001b[0mg\u001b[0m \u001b[0;34m=\u001b[0m \u001b[0minfer\u001b[0m\u001b[0;34m(\u001b[0m\u001b[0mtrnd_net\u001b[0m\u001b[0;34m,\u001b[0m\u001b[0mtest_loader\u001b[0m\u001b[0;34m)\u001b[0m\u001b[0;34m\u001b[0m\u001b[0;34m\u001b[0m\u001b[0m\n\u001b[0m",
      "\u001b[0;32m<ipython-input-9-f87c48444ead>\u001b[0m in \u001b[0;36minfer\u001b[0;34m(model, loader)\u001b[0m\n\u001b[1;32m      3\u001b[0m     \u001b[0mtruelabels\u001b[0m \u001b[0;34m=\u001b[0m \u001b[0;34m[\u001b[0m\u001b[0;34m]\u001b[0m\u001b[0;34m\u001b[0m\u001b[0;34m\u001b[0m\u001b[0m\n\u001b[1;32m      4\u001b[0m     \u001b[0;32mwith\u001b[0m \u001b[0mtorch\u001b[0m\u001b[0;34m.\u001b[0m\u001b[0mno_grad\u001b[0m\u001b[0;34m(\u001b[0m\u001b[0;34m)\u001b[0m\u001b[0;34m:\u001b[0m\u001b[0;34m\u001b[0m\u001b[0;34m\u001b[0m\u001b[0m\n\u001b[0;32m----> 5\u001b[0;31m         \u001b[0;32mfor\u001b[0m \u001b[0mx\u001b[0m\u001b[0;34m,\u001b[0m\u001b[0my\u001b[0m \u001b[0;32min\u001b[0m \u001b[0mtqdm\u001b[0m\u001b[0;34m(\u001b[0m\u001b[0mtest_loader\u001b[0m\u001b[0;34m)\u001b[0m\u001b[0;34m:\u001b[0m\u001b[0;34m\u001b[0m\u001b[0;34m\u001b[0m\u001b[0m\n\u001b[0m\u001b[1;32m      6\u001b[0m             \u001b[0mpreds\u001b[0m \u001b[0;34m=\u001b[0m \u001b[0mmodel\u001b[0m\u001b[0;34m(\u001b[0m\u001b[0mx\u001b[0m\u001b[0;34m.\u001b[0m\u001b[0mfloat\u001b[0m\u001b[0;34m(\u001b[0m\u001b[0;34m)\u001b[0m\u001b[0;34m)\u001b[0m\u001b[0;34m\u001b[0m\u001b[0;34m\u001b[0m\u001b[0m\n\u001b[1;32m      7\u001b[0m             \u001b[0mpreds_lis\u001b[0m\u001b[0;34m.\u001b[0m\u001b[0mappend\u001b[0m\u001b[0;34m(\u001b[0m\u001b[0mpreds\u001b[0m\u001b[0;34m.\u001b[0m\u001b[0msqueeze\u001b[0m\u001b[0;34m(\u001b[0m\u001b[0;34m)\u001b[0m\u001b[0;34m.\u001b[0m\u001b[0mcpu\u001b[0m\u001b[0;34m(\u001b[0m\u001b[0;34m)\u001b[0m\u001b[0;34m.\u001b[0m\u001b[0mnumpy\u001b[0m\u001b[0;34m(\u001b[0m\u001b[0;34m)\u001b[0m\u001b[0;34m)\u001b[0m\u001b[0;34m\u001b[0m\u001b[0;34m\u001b[0m\u001b[0m\n",
      "\u001b[0;32m~/miniconda3/envs/Crossmdl/lib/python3.8/site-packages/tqdm/std.py\u001b[0m in \u001b[0;36m__iter__\u001b[0;34m(self)\u001b[0m\n\u001b[1;32m   1193\u001b[0m \u001b[0;34m\u001b[0m\u001b[0m\n\u001b[1;32m   1194\u001b[0m         \u001b[0;32mtry\u001b[0m\u001b[0;34m:\u001b[0m\u001b[0;34m\u001b[0m\u001b[0;34m\u001b[0m\u001b[0m\n\u001b[0;32m-> 1195\u001b[0;31m             \u001b[0;32mfor\u001b[0m \u001b[0mobj\u001b[0m \u001b[0;32min\u001b[0m \u001b[0miterable\u001b[0m\u001b[0;34m:\u001b[0m\u001b[0;34m\u001b[0m\u001b[0;34m\u001b[0m\u001b[0m\n\u001b[0m\u001b[1;32m   1196\u001b[0m                 \u001b[0;32myield\u001b[0m \u001b[0mobj\u001b[0m\u001b[0;34m\u001b[0m\u001b[0;34m\u001b[0m\u001b[0m\n\u001b[1;32m   1197\u001b[0m                 \u001b[0;31m# Update and possibly print the progressbar.\u001b[0m\u001b[0;34m\u001b[0m\u001b[0;34m\u001b[0m\u001b[0;34m\u001b[0m\u001b[0m\n",
      "\u001b[0;32m~/.local/lib/python3.8/site-packages/torch/utils/data/dataloader.py\u001b[0m in \u001b[0;36m__next__\u001b[0;34m(self)\u001b[0m\n\u001b[1;32m    519\u001b[0m             \u001b[0;32mif\u001b[0m \u001b[0mself\u001b[0m\u001b[0;34m.\u001b[0m\u001b[0m_sampler_iter\u001b[0m \u001b[0;32mis\u001b[0m \u001b[0;32mNone\u001b[0m\u001b[0;34m:\u001b[0m\u001b[0;34m\u001b[0m\u001b[0;34m\u001b[0m\u001b[0m\n\u001b[1;32m    520\u001b[0m                 \u001b[0mself\u001b[0m\u001b[0;34m.\u001b[0m\u001b[0m_reset\u001b[0m\u001b[0;34m(\u001b[0m\u001b[0;34m)\u001b[0m\u001b[0;34m\u001b[0m\u001b[0;34m\u001b[0m\u001b[0m\n\u001b[0;32m--> 521\u001b[0;31m             \u001b[0mdata\u001b[0m \u001b[0;34m=\u001b[0m \u001b[0mself\u001b[0m\u001b[0;34m.\u001b[0m\u001b[0m_next_data\u001b[0m\u001b[0;34m(\u001b[0m\u001b[0;34m)\u001b[0m\u001b[0;34m\u001b[0m\u001b[0;34m\u001b[0m\u001b[0m\n\u001b[0m\u001b[1;32m    522\u001b[0m             \u001b[0mself\u001b[0m\u001b[0;34m.\u001b[0m\u001b[0m_num_yielded\u001b[0m \u001b[0;34m+=\u001b[0m \u001b[0;36m1\u001b[0m\u001b[0;34m\u001b[0m\u001b[0;34m\u001b[0m\u001b[0m\n\u001b[1;32m    523\u001b[0m             \u001b[0;32mif\u001b[0m \u001b[0mself\u001b[0m\u001b[0;34m.\u001b[0m\u001b[0m_dataset_kind\u001b[0m \u001b[0;34m==\u001b[0m \u001b[0m_DatasetKind\u001b[0m\u001b[0;34m.\u001b[0m\u001b[0mIterable\u001b[0m \u001b[0;32mand\u001b[0m\u001b[0;31m \u001b[0m\u001b[0;31m\\\u001b[0m\u001b[0;34m\u001b[0m\u001b[0;34m\u001b[0m\u001b[0m\n",
      "\u001b[0;32m~/.local/lib/python3.8/site-packages/torch/utils/data/dataloader.py\u001b[0m in \u001b[0;36m_next_data\u001b[0;34m(self)\u001b[0m\n\u001b[1;32m   1201\u001b[0m             \u001b[0;32melse\u001b[0m\u001b[0;34m:\u001b[0m\u001b[0;34m\u001b[0m\u001b[0;34m\u001b[0m\u001b[0m\n\u001b[1;32m   1202\u001b[0m                 \u001b[0;32mdel\u001b[0m \u001b[0mself\u001b[0m\u001b[0;34m.\u001b[0m\u001b[0m_task_info\u001b[0m\u001b[0;34m[\u001b[0m\u001b[0midx\u001b[0m\u001b[0;34m]\u001b[0m\u001b[0;34m\u001b[0m\u001b[0;34m\u001b[0m\u001b[0m\n\u001b[0;32m-> 1203\u001b[0;31m                 \u001b[0;32mreturn\u001b[0m \u001b[0mself\u001b[0m\u001b[0;34m.\u001b[0m\u001b[0m_process_data\u001b[0m\u001b[0;34m(\u001b[0m\u001b[0mdata\u001b[0m\u001b[0;34m)\u001b[0m\u001b[0;34m\u001b[0m\u001b[0;34m\u001b[0m\u001b[0m\n\u001b[0m\u001b[1;32m   1204\u001b[0m \u001b[0;34m\u001b[0m\u001b[0m\n\u001b[1;32m   1205\u001b[0m     \u001b[0;32mdef\u001b[0m \u001b[0m_try_put_index\u001b[0m\u001b[0;34m(\u001b[0m\u001b[0mself\u001b[0m\u001b[0;34m)\u001b[0m\u001b[0;34m:\u001b[0m\u001b[0;34m\u001b[0m\u001b[0;34m\u001b[0m\u001b[0m\n",
      "\u001b[0;32m~/.local/lib/python3.8/site-packages/torch/utils/data/dataloader.py\u001b[0m in \u001b[0;36m_process_data\u001b[0;34m(self, data)\u001b[0m\n\u001b[1;32m   1227\u001b[0m         \u001b[0mself\u001b[0m\u001b[0;34m.\u001b[0m\u001b[0m_try_put_index\u001b[0m\u001b[0;34m(\u001b[0m\u001b[0;34m)\u001b[0m\u001b[0;34m\u001b[0m\u001b[0;34m\u001b[0m\u001b[0m\n\u001b[1;32m   1228\u001b[0m         \u001b[0;32mif\u001b[0m \u001b[0misinstance\u001b[0m\u001b[0;34m(\u001b[0m\u001b[0mdata\u001b[0m\u001b[0;34m,\u001b[0m \u001b[0mExceptionWrapper\u001b[0m\u001b[0;34m)\u001b[0m\u001b[0;34m:\u001b[0m\u001b[0;34m\u001b[0m\u001b[0;34m\u001b[0m\u001b[0m\n\u001b[0;32m-> 1229\u001b[0;31m             \u001b[0mdata\u001b[0m\u001b[0;34m.\u001b[0m\u001b[0mreraise\u001b[0m\u001b[0;34m(\u001b[0m\u001b[0;34m)\u001b[0m\u001b[0;34m\u001b[0m\u001b[0;34m\u001b[0m\u001b[0m\n\u001b[0m\u001b[1;32m   1230\u001b[0m         \u001b[0;32mreturn\u001b[0m \u001b[0mdata\u001b[0m\u001b[0;34m\u001b[0m\u001b[0;34m\u001b[0m\u001b[0m\n\u001b[1;32m   1231\u001b[0m \u001b[0;34m\u001b[0m\u001b[0m\n",
      "\u001b[0;32m~/.local/lib/python3.8/site-packages/torch/_utils.py\u001b[0m in \u001b[0;36mreraise\u001b[0;34m(self)\u001b[0m\n\u001b[1;32m    432\u001b[0m             \u001b[0;31m# instantiate since we don't know how to\u001b[0m\u001b[0;34m\u001b[0m\u001b[0;34m\u001b[0m\u001b[0;34m\u001b[0m\u001b[0m\n\u001b[1;32m    433\u001b[0m             \u001b[0;32mraise\u001b[0m \u001b[0mRuntimeError\u001b[0m\u001b[0;34m(\u001b[0m\u001b[0mmsg\u001b[0m\u001b[0;34m)\u001b[0m \u001b[0;32mfrom\u001b[0m \u001b[0;32mNone\u001b[0m\u001b[0;34m\u001b[0m\u001b[0;34m\u001b[0m\u001b[0m\n\u001b[0;32m--> 434\u001b[0;31m         \u001b[0;32mraise\u001b[0m \u001b[0mexception\u001b[0m\u001b[0;34m\u001b[0m\u001b[0;34m\u001b[0m\u001b[0m\n\u001b[0m\u001b[1;32m    435\u001b[0m \u001b[0;34m\u001b[0m\u001b[0m\n\u001b[1;32m    436\u001b[0m \u001b[0;34m\u001b[0m\u001b[0m\n",
      "\u001b[0;31mRuntimeError\u001b[0m: Caught RuntimeError in pin memory thread for device 0.\nOriginal Traceback (most recent call last):\n  File \"/common/home/vk405/.local/lib/python3.8/site-packages/torch/utils/data/_utils/pin_memory.py\", line 34, in _pin_memory_loop\n    data = pin_memory(data)\n  File \"/common/home/vk405/.local/lib/python3.8/site-packages/torch/utils/data/_utils/pin_memory.py\", line 58, in pin_memory\n    return [pin_memory(sample) for sample in data]\n  File \"/common/home/vk405/.local/lib/python3.8/site-packages/torch/utils/data/_utils/pin_memory.py\", line 58, in <listcomp>\n    return [pin_memory(sample) for sample in data]\n  File \"/common/home/vk405/.local/lib/python3.8/site-packages/torch/utils/data/_utils/pin_memory.py\", line 50, in pin_memory\n    return data.pin_memory()\nRuntimeError: cuda runtime error (2) : out of memory at ../aten/src/THC/THCCachingHostAllocator.cpp:280\n"
     ]
    }
   ],
   "source": [
    "p,g = infer(trnd_net,test_loader)"
   ]
  },
  {
   "cell_type": "code",
   "execution_count": 3,
   "metadata": {},
   "outputs": [
    {
     "data": {
      "text/plain": [
       "<AxesSubplot:xlabel='MST'>"
      ]
     },
     "execution_count": 3,
     "metadata": {},
     "output_type": "execute_result"
    },
    {
     "data": {
      "image/png": "[encoded data removed]",
      "text/plain": [
       "<Figure size 432x288 with 1 Axes>"
      ]
     },
     "metadata": {
      "needs_background": "light"
     },
     "output_type": "display_data"
    }
   ],
   "source": [
    "tst_preds = pd.read_csv(data_dir/'infered_vals.csv')\n",
    "\n",
    "sampled_day = '2016-01-01'\n",
    "tst_preds[tst_preds['Date'] ==sampled_day ].plot(x='MST',y=['pred','ground'])"
   ]
  },
  {
   "cell_type": "code",
   "execution_count": 4,
   "metadata": {},
   "outputs": [
    {
     "data": {
      "text/plain": [
       "0.0875029172506183"
      ]
     },
     "execution_count": 4,
     "metadata": {},
     "output_type": "execute_result"
    }
   ],
   "source": [
    "np.mean(np.abs(tst_preds['pred']-tst_preds['ground']))"
   ]
  },
  {
   "cell_type": "code",
   "execution_count": 21,
   "metadata": {},
   "outputs": [],
   "source": [
    "base_df = pd.read_csv(f'{data_dir}/tgtimgs.csv')\n",
    "trn_df = pd.DataFrame(base_df.loc[pd.to_datetime(base_df['Date']).dt.year <= 2014])\n",
    "scalar = MinMaxScaler().fit(trn_df['Target'].values.reshape(-1,1))"
   ]
  },
  {
   "cell_type": "code",
   "execution_count": 28,
   "metadata": {},
   "outputs": [],
   "source": [
    "pred_irradiance = scalar.inverse_transform(np.array(tst_preds[tst_preds['Date'] ==sampled_day]['pred']).reshape(-1,1))\n",
    "true_irradiance = scalar.inverse_transform(np.array(tst_preds[tst_preds['Date'] ==sampled_day]['ground']).reshape(-1,1))"
   ]
  },
  {
   "cell_type": "code",
   "execution_count": 34,
   "metadata": {},
   "outputs": [
    {
     "data": {
      "text/plain": [
       "<matplotlib.legend.Legend at 0x7f9a8a93ea60>"
      ]
     },
     "execution_count": 34,
     "metadata": {},
     "output_type": "execute_result"
    },
    {
     "data": {
      "image/png": "[encoded data removed]",
      "text/plain": [
       "<Figure size 432x288 with 1 Axes>"
      ]
     },
     "metadata": {
      "needs_background": "light"
     },
     "output_type": "display_data"
    }
   ],
   "source": [
    "import matplotlib.pyplot as plt\n",
    "import seaborn as sns\n",
    "\n",
    "plt.plot(tst_preds[tst_preds['Date'] ==sampled_day ]['MST'],np.squeeze(pred_irradiance),label='pred')\n",
    "\n",
    "plt.plot(tst_preds[tst_preds['Date'] ==sampled_day ]['MST'],np.squeeze(true_irradiance),label='true(nxt 10-min avg)')\n",
    "\n",
    "plt.legend()"
   ]
  },
  {
   "cell_type": "code",
   "execution_count": 37,
   "metadata": {},
   "outputs": [
    {
     "data": {
      "text/plain": [
       "array([[114.63905944]])"
      ]
     },
     "execution_count": 37,
     "metadata": {},
     "output_type": "execute_result"
    }
   ],
   "source": [
    "scalar.inverse_transform([[np.mean(np.abs(tst_preds['pred']-tst_preds['ground']))]])"
   ]
  },
  {
   "cell_type": "code",
   "execution_count": 39,
   "metadata": {},
   "outputs": [
    {
     "data": {
      "text/plain": [
       "<AxesSubplot:ylabel='Frequency'>"
      ]
     },
     "execution_count": 39,
     "metadata": {},
     "output_type": "execute_result"
    },
    {
     "data": {
      "image/png": "[encoded data removed]",
      "text/plain": [
       "<Figure size 432x288 with 1 Axes>"
      ]
     },
     "metadata": {
      "needs_background": "light"
     },
     "output_type": "display_data"
    }
   ],
   "source": [
    "tst_preds['Target'].plot.hist()"
   ]
  },
  {
   "cell_type": "code",
   "execution_count": 47,
   "metadata": {},
   "outputs": [
    {
     "data": {
      "text/plain": [
       "0.04148327552023407"
      ]
     },
     "execution_count": 47,
     "metadata": {},
     "output_type": "execute_result"
    }
   ],
   "source": [
    "#tst_preds['abs_error'] = np.abs(tst_preds['ground']-tst_preds['pred'])\n",
    "tst_preds['error'] = tst_preds['pred']-tst_preds['ground']\n",
    "tst_preds['error'].mean()"
   ]
  },
  {
   "cell_type": "code",
   "execution_count": 48,
   "metadata": {},
   "outputs": [],
   "source": [
    "\n",
    "small,med = tst_preds['Target'].quantile(0.33),tst_preds['Target'].quantile(0.66)\n",
    "\n",
    "cloudy = tst_preds[tst_preds['Target']<=small]\n",
    "normal = tst_preds[(tst_preds['Target']>small) & (tst_preds['Target']<=med)]\n",
    "sunny = tst_preds[(tst_preds['Target']>med)]"
   ]
  },
  {
   "cell_type": "code",
   "execution_count": 51,
   "metadata": {},
   "outputs": [
    {
     "data": {
      "text/plain": [
       "(0.12742802076543575, 0.06025311855898195)"
      ]
     },
     "execution_count": 51,
     "metadata": {},
     "output_type": "execute_result"
    }
   ],
   "source": [
    "# yes cloudy is bad(can do hypothesis testing for better confirmation.)\n",
    "cloudy['error'].abs().mean(),sunny['error'].abs().mean()"
   ]
  },
  {
   "cell_type": "code",
   "execution_count": 52,
   "metadata": {},
   "outputs": [
    {
     "data": {
      "text/plain": [
       "(0.12742802076543575, 0.0756505470010446)"
      ]
     },
     "execution_count": 52,
     "metadata": {},
     "output_type": "execute_result"
    }
   ],
   "source": [
    "cloudy['error'].abs().mean(),normal['error'].abs().mean()"
   ]
  },
  {
   "cell_type": "code",
   "execution_count": 1,
   "metadata": {},
   "outputs": [
    {
     "name": "stdout",
     "output_type": "stream",
     "text": [
      "hi\n"
     ]
    }
   ],
   "source": []
  },
  {
   "cell_type": "code",
   "execution_count": null,
   "metadata": {},
   "outputs": [],
   "source": []
  }
 ],
 "metadata": {
  "interpreter": {
   "hash": "ba0eaf5009993b745d4aa7d6cba132d7a7c20d53b6841ddae3db28e24457bb23"
  },
  "kernelspec": {
   "display_name": "Python 3.8.12 ('Crossmdl')",
   "language": "python",
   "name": "python3"
  },
  "language_info": {
   "codemirror_mode": {
    "name": "ipython",
    "version": 3
   },
   "file_extension": ".py",
   "mimetype": "text/x-python",
   "name": "python",
   "nbconvert_exporter": "python",
   "pygments_lexer": "ipython3",
   "version": "3.8.12"
  },
  "orig_nbformat": 4
 },
 "nbformat": 4,
 "nbformat_minor": 2
}
