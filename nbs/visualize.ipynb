{
 "cells": [
  {
   "cell_type": "code",
   "execution_count": 9,
   "metadata": {},
   "outputs": [],
   "source": [
    "import pandas as pd\n",
    "from pathlib import Path\n",
    "import os\n",
    "from base import *\n",
    "\n",
    "data_dir =Path('/common/home/vk405/Projects/EnergyLab/Solar-forcast/Data/')\n",
    "image_dir = Path('/common/users/vk405/EnergyLab/Data')\n",
    "proc_data_dir = Path('/common/users/vk405/EnergyLab/Data/ProcData')\n",
    "df = pd.read_csv(f'{data_dir}/tgtimgs.csv')\n",
    "\n",
    "\n",
    "\n",
    " "
   ]
  },
  {
   "cell_type": "code",
   "execution_count": 5,
   "metadata": {},
   "outputs": [],
   "source": [
    "# data_dir = \"/common/home/vk405/Projects/EnergyLab/Solar-forcast/Data/\"\n",
    "# image_dir = \"/common/users/vk405/EnergyLab/Data/ProcData/\"\n",
    "# seq_length = 10\n",
    "# tgt = 'csi'\n",
    "# mode = 'train'\n",
    "\n",
    "# trn_fdata = JDset(data_dir=data_dir,split=mode,image_dir= image_dir,seq_length=seq_length,tgt=tgt)"
   ]
  },
  {
   "cell_type": "code",
   "execution_count": null,
   "metadata": {},
   "outputs": [],
   "source": []
  },
  {
   "cell_type": "code",
   "execution_count": 6,
   "metadata": {},
   "outputs": [],
   "source": [
    "def dp(dist_mat):\n",
    "    \"\"\"\n",
    "    Find minimum-cost path through matrix `dist_mat` using dynamic programming.\n",
    "\n",
    "    The cost of a path is defined as the sum of the matrix entries on that\n",
    "    path. See the following for details of the algorithm:\n",
    "\n",
    "    - http://en.wikipedia.org/wiki/Dynamic_time_warping\n",
    "    - https://www.ee.columbia.edu/~dpwe/resources/matlab/dtw/dp.m\n",
    "\n",
    "    The notation in the first reference was followed, while Dan Ellis's code\n",
    "    (second reference) was used to check for correctness. Returns a list of\n",
    "    path indices and the cost matrix.\n",
    "    \"\"\"\n",
    "\n",
    "    N, M = dist_mat.shape\n",
    "    \n",
    "    # Initialize the cost matrix\n",
    "    cost_mat = np.zeros((N + 1, M + 1))\n",
    "    for i in range(1, N + 1):\n",
    "        cost_mat[i, 0] = np.inf\n",
    "    for i in range(1, M + 1):\n",
    "        cost_mat[0, i] = np.inf\n",
    "\n",
    "    # Fill the cost matrix while keeping traceback information\n",
    "    traceback_mat = np.zeros((N, M))\n",
    "    for i in range(N):\n",
    "        for j in range(M):\n",
    "            penalty = [\n",
    "                cost_mat[i, j],      # match (0)\n",
    "                cost_mat[i, j + 1],  # insertion (1)\n",
    "                cost_mat[i + 1, j]]  # deletion (2)\n",
    "            i_penalty = np.argmin(penalty)\n",
    "            cost_mat[i + 1, j + 1] = dist_mat[i, j] + penalty[i_penalty]\n",
    "            traceback_mat[i, j] = i_penalty\n",
    "\n",
    "    # Traceback from bottom right\n",
    "    i = N - 1\n",
    "    j = M - 1\n",
    "    path = [(i, j)]\n",
    "    while i > 0 or j > 0:\n",
    "        tb_type = traceback_mat[i, j]\n",
    "        if tb_type == 0:\n",
    "            # Match\n",
    "            i = i - 1\n",
    "            j = j - 1\n",
    "        elif tb_type == 1:\n",
    "            # Insertion\n",
    "            i = i - 1\n",
    "        elif tb_type == 2:\n",
    "            # Deletion\n",
    "            j = j - 1\n",
    "        path.append((i, j))\n",
    "\n",
    "    # Strip infinity edges from cost_mat before returning\n",
    "    cost_mat = cost_mat[1:, 1:]\n",
    "    return (path[::-1], cost_mat)\n",
    "\n",
    "\n",
    "\n",
    "def Area(path,N,M):\n",
    "    #y_path,x_path = zip(*path)\n",
    "    #x_true,y_true = zip(*zip(range(N+1),range(M+1)))\n",
    "    points = path\n",
    "    pos_area = 0\n",
    "    neg_area = 0\n",
    "    max_common = (N*M)/2\n",
    "    for i in range(1,len(points)):\n",
    "        lst_p = points[i-1]\n",
    "        p_p = points[i]\n",
    "        scnd_co_diff = p_p[-1]-lst_p[-1]\n",
    "        if scnd_co_diff>0:\n",
    "            base_area = (lst_p[-1]+1) + 0.5\n",
    "            cur_area = (lst_p[0]+1) + 0.5 if p_p[0]>lst_p[0] else 0.0\n",
    "            if cur_area>base_area:\n",
    "                pos_area += abs(cur_area-base_area)\n",
    "            else:\n",
    "                neg_area += abs(cur_area-base_area)\n",
    "    return (pos_area+neg_area)/max_common,pos_area/max_common,neg_area/max_common\n",
    "                \n",
    "\n",
    "\n",
    "def getAreas(x,y):\n",
    "    # Distance matrix\n",
    "    N = x.shape[0]\n",
    "    M = y.shape[0]\n",
    "    dist_mat = np.zeros((N, M))\n",
    "    for i in range(N):\n",
    "        for j in range(M):\n",
    "            dist_mat[i, j] = abs(x[i] - y[j])\n",
    "\n",
    "    path, cost_mat = dp(dist_mat)\n",
    "    tdi,pos_t,neg_t = Area(path,N,M)\n",
    "    return tdi,pos_t,neg_t\n",
    "    "
   ]
  },
  {
   "cell_type": "code",
   "execution_count": null,
   "metadata": {},
   "outputs": [],
   "source": []
  },
  {
   "cell_type": "code",
   "execution_count": 7,
   "metadata": {},
   "outputs": [
    {
     "data": {
      "text/html": [
       "<div>\n",
       "<style scoped>\n",
       "    .dataframe tbody tr th:only-of-type {\n",
       "        vertical-align: middle;\n",
       "    }\n",
       "\n",
       "    .dataframe tbody tr th {\n",
       "        vertical-align: top;\n",
       "    }\n",
       "\n",
       "    .dataframe thead th {\n",
       "        text-align: right;\n",
       "    }\n",
       "</style>\n",
       "<table border=\"1\" class=\"dataframe\">\n",
       "  <thead>\n",
       "    <tr style=\"text-align: right;\">\n",
       "      <th></th>\n",
       "      <th>DateTime</th>\n",
       "      <th>Date</th>\n",
       "      <th>Imgs</th>\n",
       "      <th>10ma_tgt</th>\n",
       "      <th>GHI</th>\n",
       "      <th>CSI</th>\n",
       "      <th>10ma_tgt_GHI</th>\n",
       "    </tr>\n",
       "  </thead>\n",
       "  <tbody>\n",
       "    <tr>\n",
       "      <th>0</th>\n",
       "      <td>2012-01-01 07:40</td>\n",
       "      <td>2012-01-01</td>\n",
       "      <td>['/common/users/vk405/EnergyLab/Data/20120101/...</td>\n",
       "      <td>1.000000</td>\n",
       "      <td>[0.014159200000000002, 0.0158264, 0.0154735999...</td>\n",
       "      <td>[1.0, 1.0, 1.0, 1.0, 1.0, 1.0, 1.0, 1.0, 1.0, ...</td>\n",
       "      <td>0.021270</td>\n",
       "    </tr>\n",
       "    <tr>\n",
       "      <th>1</th>\n",
       "      <td>2012-01-01 07:50</td>\n",
       "      <td>2012-01-01</td>\n",
       "      <td>['/common/users/vk405/EnergyLab/Data/20120101/...</td>\n",
       "      <td>0.579799</td>\n",
       "      <td>[0.0169704, 0.0179016, 0.018831999999999998, 0...</td>\n",
       "      <td>[0.9440693444197877, 0.8738464414035059, 0.813...</td>\n",
       "      <td>0.033984</td>\n",
       "    </tr>\n",
       "    <tr>\n",
       "      <th>2</th>\n",
       "      <td>2012-01-01 08:00</td>\n",
       "      <td>2012-01-01</td>\n",
       "      <td>['/common/users/vk405/EnergyLab/Data/20120101/...</td>\n",
       "      <td>0.489598</td>\n",
       "      <td>[0.027004000000000004, 0.028263999999999997, 0...</td>\n",
       "      <td>[0.5646406971309266, 0.5512776307119824, 0.539...</td>\n",
       "      <td>0.054753</td>\n",
       "    </tr>\n",
       "  </tbody>\n",
       "</table>\n",
       "</div>"
      ],
      "text/plain": [
       "           DateTime        Date  \\\n",
       "0  2012-01-01 07:40  2012-01-01   \n",
       "1  2012-01-01 07:50  2012-01-01   \n",
       "2  2012-01-01 08:00  2012-01-01   \n",
       "\n",
       "                                                Imgs  10ma_tgt  \\\n",
       "0  ['/common/users/vk405/EnergyLab/Data/20120101/...  1.000000   \n",
       "1  ['/common/users/vk405/EnergyLab/Data/20120101/...  0.579799   \n",
       "2  ['/common/users/vk405/EnergyLab/Data/20120101/...  0.489598   \n",
       "\n",
       "                                                 GHI  \\\n",
       "0  [0.014159200000000002, 0.0158264, 0.0154735999...   \n",
       "1  [0.0169704, 0.0179016, 0.018831999999999998, 0...   \n",
       "2  [0.027004000000000004, 0.028263999999999997, 0...   \n",
       "\n",
       "                                                 CSI  10ma_tgt_GHI  \n",
       "0  [1.0, 1.0, 1.0, 1.0, 1.0, 1.0, 1.0, 1.0, 1.0, ...      0.021270  \n",
       "1  [0.9440693444197877, 0.8738464414035059, 0.813...      0.033984  \n",
       "2  [0.5646406971309266, 0.5512776307119824, 0.539...      0.054753  "
      ]
     },
     "execution_count": 7,
     "metadata": {},
     "output_type": "execute_result"
    }
   ],
   "source": [
    "rawdata = pd.read_csv(os.path.join(data_dir,'rawdata.csv'))\n",
    "rawdata.head(3)"
   ]
  },
  {
   "cell_type": "code",
   "execution_count": 4,
   "metadata": {},
   "outputs": [
    {
     "name": "stderr",
     "output_type": "stream",
     "text": [
      "/common/home/vk405/miniconda3/envs/Crossmdl/lib/python3.8/site-packages/tqdm/auto.py:22: TqdmWarning: IProgress not found. Please update jupyter and ipywidgets. See https://ipywidgets.readthedocs.io/en/stable/user_install.html\n",
      "  from .autonotebook import tqdm as notebook_tqdm\n"
     ]
    }
   ],
   "source": [
    "#sample test-df\n",
    "\n",
    "tdset = JDset(split='test')"
   ]
  },
  {
   "cell_type": "code",
   "execution_count": 6,
   "metadata": {},
   "outputs": [
    {
     "data": {
      "text/html": [
       "<div>\n",
       "<style scoped>\n",
       "    .dataframe tbody tr th:only-of-type {\n",
       "        vertical-align: middle;\n",
       "    }\n",
       "\n",
       "    .dataframe tbody tr th {\n",
       "        vertical-align: top;\n",
       "    }\n",
       "\n",
       "    .dataframe thead th {\n",
       "        text-align: right;\n",
       "    }\n",
       "</style>\n",
       "<table border=\"1\" class=\"dataframe\">\n",
       "  <thead>\n",
       "    <tr style=\"text-align: right;\">\n",
       "      <th></th>\n",
       "      <th>DateTime</th>\n",
       "      <th>Date</th>\n",
       "      <th>Imgs</th>\n",
       "      <th>10ma_tgt</th>\n",
       "      <th>GHI</th>\n",
       "      <th>CSI</th>\n",
       "      <th>10ma_tgt_GHI</th>\n",
       "    </tr>\n",
       "  </thead>\n",
       "  <tbody>\n",
       "    <tr>\n",
       "      <th>72672</th>\n",
       "      <td>2016-01-01 10:10</td>\n",
       "      <td>2016-01-01</td>\n",
       "      <td>['/common/users/vk405/EnergyLab/Data/20160101/...</td>\n",
       "      <td>0.343060</td>\n",
       "      <td>[0.3273464, 0.32913919999999997, 0.330828, 0.3...</td>\n",
       "      <td>[0.3461501234431341, 0.34575891605487213, 0.34...</td>\n",
       "      <td>0.350612</td>\n",
       "    </tr>\n",
       "    <tr>\n",
       "      <th>72673</th>\n",
       "      <td>2016-01-01 10:20</td>\n",
       "      <td>2016-01-01</td>\n",
       "      <td>['/common/users/vk405/EnergyLab/Data/20160101/...</td>\n",
       "      <td>0.340027</td>\n",
       "      <td>[0.3434736, 0.34520239999999996, 0.3469184, 0....</td>\n",
       "      <td>[0.3427892377976651, 0.34249911744758565, 0.34...</td>\n",
       "      <td>0.365083</td>\n",
       "    </tr>\n",
       "  </tbody>\n",
       "</table>\n",
       "</div>"
      ],
      "text/plain": [
       "               DateTime        Date  \\\n",
       "72672  2016-01-01 10:10  2016-01-01   \n",
       "72673  2016-01-01 10:20  2016-01-01   \n",
       "\n",
       "                                                    Imgs  10ma_tgt  \\\n",
       "72672  ['/common/users/vk405/EnergyLab/Data/20160101/...  0.343060   \n",
       "72673  ['/common/users/vk405/EnergyLab/Data/20160101/...  0.340027   \n",
       "\n",
       "                                                     GHI  \\\n",
       "72672  [0.3273464, 0.32913919999999997, 0.330828, 0.3...   \n",
       "72673  [0.3434736, 0.34520239999999996, 0.3469184, 0....   \n",
       "\n",
       "                                                     CSI  10ma_tgt_GHI  \n",
       "72672  [0.3461501234431341, 0.34575891605487213, 0.34...      0.350612  \n",
       "72673  [0.3427892377976651, 0.34249911744758565, 0.34...      0.365083  "
      ]
     },
     "execution_count": 6,
     "metadata": {},
     "output_type": "execute_result"
    }
   ],
   "source": [
    "tdset.df.head(2)"
   ]
  },
  {
   "cell_type": "markdown",
   "metadata": {},
   "source": [
    "1. conv+lstm on GHI"
   ]
  },
  {
   "cell_type": "markdown",
   "metadata": {},
   "source": []
  },
  {
   "cell_type": "code",
   "execution_count": 23,
   "metadata": {},
   "outputs": [
    {
     "data": {
      "text/html": [
       "<div>\n",
       "<style scoped>\n",
       "    .dataframe tbody tr th:only-of-type {\n",
       "        vertical-align: middle;\n",
       "    }\n",
       "\n",
       "    .dataframe tbody tr th {\n",
       "        vertical-align: top;\n",
       "    }\n",
       "\n",
       "    .dataframe thead th {\n",
       "        text-align: right;\n",
       "    }\n",
       "</style>\n",
       "<table border=\"1\" class=\"dataframe\">\n",
       "  <thead>\n",
       "    <tr style=\"text-align: right;\">\n",
       "      <th></th>\n",
       "      <th>Date</th>\n",
       "      <th>DateTime</th>\n",
       "      <th>pred</th>\n",
       "      <th>ground</th>\n",
       "      <th>10ma_tgt_GHI</th>\n",
       "    </tr>\n",
       "  </thead>\n",
       "  <tbody>\n",
       "    <tr>\n",
       "      <th>0</th>\n",
       "      <td>2016-01-01</td>\n",
       "      <td>2016-01-01 10:10</td>\n",
       "      <td>0.443391</td>\n",
       "      <td>0.343060</td>\n",
       "      <td>0.350612</td>\n",
       "    </tr>\n",
       "    <tr>\n",
       "      <th>1</th>\n",
       "      <td>2016-01-01</td>\n",
       "      <td>2016-01-01 10:20</td>\n",
       "      <td>0.419984</td>\n",
       "      <td>0.340027</td>\n",
       "      <td>0.365083</td>\n",
       "    </tr>\n",
       "  </tbody>\n",
       "</table>\n",
       "</div>"
      ],
      "text/plain": [
       "         Date          DateTime      pred    ground  10ma_tgt_GHI\n",
       "0  2016-01-01  2016-01-01 10:10  0.443391  0.343060      0.350612\n",
       "1  2016-01-01  2016-01-01 10:20  0.419984  0.340027      0.365083"
      ]
     },
     "execution_count": 23,
     "metadata": {},
     "output_type": "execute_result"
    }
   ],
   "source": [
    "tst_preds = pd.read_csv(data_dir/'joint_csi_tgt_ghi_infered_vals.csv')\n",
    "tst_preds.head(2)\n"
   ]
  },
  {
   "cell_type": "code",
   "execution_count": 24,
   "metadata": {},
   "outputs": [
    {
     "data": {
      "text/plain": [
       "363.8855049588503"
      ]
     },
     "execution_count": 24,
     "metadata": {},
     "output_type": "execute_result"
    }
   ],
   "source": [
    "import numpy as np\n",
    "np.sqrt(np.mean(((tst_preds['pred']*1250.0-tst_preds['ground']*1250.0))**2))"
   ]
  },
  {
   "cell_type": "markdown",
   "metadata": {},
   "source": [
    "1. conv+lstm on CSI"
   ]
  },
  {
   "cell_type": "code",
   "execution_count": 10,
   "metadata": {},
   "outputs": [],
   "source": [
    "#bias\n",
    "tst_preds = pd.read_csv(data_dir/'joint_csi_infered_vals.csv')\n",
    "\n",
    "\n",
    "tst_preds['bias'] = tst_preds['pred_ghi'] - tst_preds['true_ghi']"
   ]
  },
  {
   "cell_type": "code",
   "execution_count": 11,
   "metadata": {},
   "outputs": [
    {
     "data": {
      "text/plain": [
       "120.39351677191178"
      ]
     },
     "execution_count": 11,
     "metadata": {},
     "output_type": "execute_result"
    }
   ],
   "source": [
    "import numpy as np\n",
    "np.sqrt(np.mean(((tst_preds['pred_ghi']-tst_preds['true_ghi']))**2))"
   ]
  },
  {
   "cell_type": "code",
   "execution_count": 12,
   "metadata": {},
   "outputs": [
    {
     "data": {
      "text/plain": [
       "<AxesSubplot:ylabel='Frequency'>"
      ]
     },
     "execution_count": 12,
     "metadata": {},
     "output_type": "execute_result"
    },
    {
     "data": {
      "image/png": "[encoded data removed]",
      "text/plain": [
       "<Figure size 432x288 with 1 Axes>"
      ]
     },
     "metadata": {
      "needs_background": "light"
     },
     "output_type": "display_data"
    }
   ],
   "source": [
    "tst_preds['bias'].plot.hist()"
   ]
  },
  {
   "cell_type": "code",
   "execution_count": null,
   "metadata": {},
   "outputs": [],
   "source": []
  },
  {
   "cell_type": "code",
   "execution_count": 18,
   "metadata": {},
   "outputs": [
    {
     "data": {
      "text/plain": [
       "(6.917294232768548, 120.19684708617856)"
      ]
     },
     "execution_count": 18,
     "metadata": {},
     "output_type": "execute_result"
    }
   ],
   "source": [
    "tst_preds['bias'].mean(),tst_preds['bias'].std()"
   ]
  },
  {
   "cell_type": "code",
   "execution_count": 13,
   "metadata": {},
   "outputs": [
    {
     "data": {
      "text/plain": [
       "(132.0738512582659, 5.91276225979754, -42.98329194904913, -67.34164391875258)"
      ]
     },
     "execution_count": 13,
     "metadata": {},
     "output_type": "execute_result"
    }
   ],
   "source": [
    "\n",
    "fstq,sndq,thirdq = tst_preds['10ma_tgt'].quantile(0.25),tst_preds['10ma_tgt'].quantile(0.5),tst_preds['10ma_tgt'].quantile(0.75)\n",
    "\n",
    "first = tst_preds[tst_preds['10ma_tgt']<=fstq]\n",
    "second  = tst_preds[(tst_preds['10ma_tgt']>fstq) & (tst_preds['10ma_tgt']<=sndq)]\n",
    "third = tst_preds[(tst_preds['10ma_tgt']>sndq) & (tst_preds['10ma_tgt']<=thirdq)]\n",
    "fourth = tst_preds[(tst_preds['10ma_tgt']>thirdq)]\n",
    "first.bias.mean(),second.bias.mean(),third.bias.mean(),fourth.bias.mean()"
   ]
  },
  {
   "cell_type": "code",
   "execution_count": 14,
   "metadata": {},
   "outputs": [
    {
     "data": {
      "text/plain": [
       "0.25977015118729857"
      ]
     },
     "execution_count": 14,
     "metadata": {},
     "output_type": "execute_result"
    }
   ],
   "source": [
    "sndq"
   ]
  },
  {
   "cell_type": "code",
   "execution_count": 20,
   "metadata": {},
   "outputs": [
    {
     "data": {
      "text/plain": [
       "(85.06847736928275, 32.44545186726027, -29.54995413573879, -60.29640970342685)"
      ]
     },
     "execution_count": 20,
     "metadata": {},
     "output_type": "execute_result"
    }
   ],
   "source": [
    "on = 'true_ghi'\n",
    "\n",
    "fstq,sndq,thirdq = tst_preds[on].quantile(0.25),tst_preds[on].quantile(0.5),tst_preds[on].quantile(0.75)\n",
    "\n",
    "first = tst_preds[tst_preds[on]<=fstq]\n",
    "second  = tst_preds[(tst_preds[on]>fstq) & (tst_preds[on]<=sndq)]\n",
    "third = tst_preds[(tst_preds[on]>sndq) & (tst_preds[on]<=thirdq)]\n",
    "fourth = tst_preds[(tst_preds[on]>thirdq)]\n",
    "first.bias.mean(),second.bias.mean(),third.bias.mean(),fourth.bias.mean()"
   ]
  },
  {
   "cell_type": "code",
   "execution_count": 12,
   "metadata": {},
   "outputs": [
    {
     "data": {
      "text/html": [
       "<div>\n",
       "<style scoped>\n",
       "    .dataframe tbody tr th:only-of-type {\n",
       "        vertical-align: middle;\n",
       "    }\n",
       "\n",
       "    .dataframe tbody tr th {\n",
       "        vertical-align: top;\n",
       "    }\n",
       "\n",
       "    .dataframe thead th {\n",
       "        text-align: right;\n",
       "    }\n",
       "</style>\n",
       "<table border=\"1\" class=\"dataframe\">\n",
       "  <thead>\n",
       "    <tr style=\"text-align: right;\">\n",
       "      <th></th>\n",
       "      <th>pred</th>\n",
       "      <th>ground</th>\n",
       "      <th>10ma_tgt</th>\n",
       "      <th>pred_ghi</th>\n",
       "      <th>true_ghi</th>\n",
       "      <th>bias</th>\n",
       "    </tr>\n",
       "    <tr>\n",
       "      <th>Date</th>\n",
       "      <th></th>\n",
       "      <th></th>\n",
       "      <th></th>\n",
       "      <th></th>\n",
       "      <th></th>\n",
       "      <th></th>\n",
       "    </tr>\n",
       "  </thead>\n",
       "  <tbody>\n",
       "    <tr>\n",
       "      <th>2017-09-02</th>\n",
       "      <td>0.012646</td>\n",
       "      <td>0.002216</td>\n",
       "      <td>0.002216</td>\n",
       "      <td>196.011458</td>\n",
       "      <td>184.745776</td>\n",
       "      <td>31.855896</td>\n",
       "    </tr>\n",
       "    <tr>\n",
       "      <th>2016-06-15</th>\n",
       "      <td>0.010334</td>\n",
       "      <td>0.002805</td>\n",
       "      <td>0.002805</td>\n",
       "      <td>157.449647</td>\n",
       "      <td>169.050880</td>\n",
       "      <td>36.029814</td>\n",
       "    </tr>\n",
       "    <tr>\n",
       "      <th>2016-06-18</th>\n",
       "      <td>0.008617</td>\n",
       "      <td>0.002823</td>\n",
       "      <td>0.002823</td>\n",
       "      <td>171.655548</td>\n",
       "      <td>157.872741</td>\n",
       "      <td>30.497616</td>\n",
       "    </tr>\n",
       "    <tr>\n",
       "      <th>2016-06-04</th>\n",
       "      <td>0.011529</td>\n",
       "      <td>0.003055</td>\n",
       "      <td>0.003055</td>\n",
       "      <td>166.114865</td>\n",
       "      <td>168.116086</td>\n",
       "      <td>34.714933</td>\n",
       "    </tr>\n",
       "    <tr>\n",
       "      <th>2017-06-26</th>\n",
       "      <td>0.008852</td>\n",
       "      <td>0.003090</td>\n",
       "      <td>0.003090</td>\n",
       "      <td>163.887698</td>\n",
       "      <td>162.446797</td>\n",
       "      <td>30.840838</td>\n",
       "    </tr>\n",
       "    <tr>\n",
       "      <th>...</th>\n",
       "      <td>...</td>\n",
       "      <td>...</td>\n",
       "      <td>...</td>\n",
       "      <td>...</td>\n",
       "      <td>...</td>\n",
       "      <td>...</td>\n",
       "    </tr>\n",
       "    <tr>\n",
       "      <th>2016-12-20</th>\n",
       "      <td>0.054114</td>\n",
       "      <td>0.265658</td>\n",
       "      <td>0.265658</td>\n",
       "      <td>138.348038</td>\n",
       "      <td>201.961180</td>\n",
       "      <td>106.482630</td>\n",
       "    </tr>\n",
       "    <tr>\n",
       "      <th>2017-11-26</th>\n",
       "      <td>0.068515</td>\n",
       "      <td>0.267426</td>\n",
       "      <td>0.267426</td>\n",
       "      <td>172.535288</td>\n",
       "      <td>152.804557</td>\n",
       "      <td>62.435938</td>\n",
       "    </tr>\n",
       "    <tr>\n",
       "      <th>2016-12-25</th>\n",
       "      <td>0.086122</td>\n",
       "      <td>0.268699</td>\n",
       "      <td>0.268699</td>\n",
       "      <td>79.986319</td>\n",
       "      <td>116.159053</td>\n",
       "      <td>69.581943</td>\n",
       "    </tr>\n",
       "    <tr>\n",
       "      <th>2016-12-09</th>\n",
       "      <td>0.047003</td>\n",
       "      <td>0.276624</td>\n",
       "      <td>0.276624</td>\n",
       "      <td>136.517351</td>\n",
       "      <td>114.846014</td>\n",
       "      <td>64.259271</td>\n",
       "    </tr>\n",
       "    <tr>\n",
       "      <th>2016-11-27</th>\n",
       "      <td>0.065461</td>\n",
       "      <td>0.283338</td>\n",
       "      <td>0.283338</td>\n",
       "      <td>125.783431</td>\n",
       "      <td>125.006491</td>\n",
       "      <td>86.501207</td>\n",
       "    </tr>\n",
       "  </tbody>\n",
       "</table>\n",
       "<p>700 rows × 6 columns</p>\n",
       "</div>"
      ],
      "text/plain": [
       "                pred    ground  10ma_tgt    pred_ghi    true_ghi        bias\n",
       "Date                                                                        \n",
       "2017-09-02  0.012646  0.002216  0.002216  196.011458  184.745776   31.855896\n",
       "2016-06-15  0.010334  0.002805  0.002805  157.449647  169.050880   36.029814\n",
       "2016-06-18  0.008617  0.002823  0.002823  171.655548  157.872741   30.497616\n",
       "2016-06-04  0.011529  0.003055  0.003055  166.114865  168.116086   34.714933\n",
       "2017-06-26  0.008852  0.003090  0.003090  163.887698  162.446797   30.840838\n",
       "...              ...       ...       ...         ...         ...         ...\n",
       "2016-12-20  0.054114  0.265658  0.265658  138.348038  201.961180  106.482630\n",
       "2017-11-26  0.068515  0.267426  0.267426  172.535288  152.804557   62.435938\n",
       "2016-12-25  0.086122  0.268699  0.268699   79.986319  116.159053   69.581943\n",
       "2016-12-09  0.047003  0.276624  0.276624  136.517351  114.846014   64.259271\n",
       "2016-11-27  0.065461  0.283338  0.283338  125.783431  125.006491   86.501207\n",
       "\n",
       "[700 rows x 6 columns]"
      ]
     },
     "execution_count": 12,
     "metadata": {},
     "output_type": "execute_result"
    }
   ],
   "source": [
    "tst_preds.groupby(['Date']).agg('std').sort_values('ground')"
   ]
  },
  {
   "cell_type": "code",
   "execution_count": null,
   "metadata": {},
   "outputs": [],
   "source": []
  },
  {
   "cell_type": "code",
   "execution_count": null,
   "metadata": {},
   "outputs": [],
   "source": []
  },
  {
   "cell_type": "code",
   "execution_count": 14,
   "metadata": {},
   "outputs": [
    {
     "data": {
      "text/plain": [
       "83.5393037566402"
      ]
     },
     "execution_count": 14,
     "metadata": {},
     "output_type": "execute_result"
    }
   ],
   "source": [
    "tst_preds['bias'].abs().mean()"
   ]
  },
  {
   "cell_type": "code",
   "execution_count": 14,
   "metadata": {},
   "outputs": [
    {
     "data": {
      "text/plain": [
       "<AxesSubplot:xlabel='DateTime'>"
      ]
     },
     "execution_count": 14,
     "metadata": {},
     "output_type": "execute_result"
    },
    {
     "data": {
      "image/png": "[encoded data removed]",
      "text/plain": [
       "<Figure size 432x288 with 1 Axes>"
      ]
     },
     "metadata": {
      "needs_background": "light"
     },
     "output_type": "display_data"
    }
   ],
   "source": [
    "tst_preds[tst_preds['Date'] == '2016-11-27'].plot(x='DateTime',y=['pred_ghi','true_ghi'])"
   ]
  },
  {
   "cell_type": "code",
   "execution_count": 15,
   "metadata": {},
   "outputs": [
    {
     "data": {
      "text/plain": [
       "<AxesSubplot:xlabel='DateTime'>"
      ]
     },
     "execution_count": 15,
     "metadata": {},
     "output_type": "execute_result"
    },
    {
     "data": {
      "image/png": "[encoded data removed]",
      "text/plain": [
       "<Figure size 432x288 with 1 Axes>"
      ]
     },
     "metadata": {
      "needs_background": "light"
     },
     "output_type": "display_data"
    }
   ],
   "source": [
    "tst_preds[tst_preds['Date'] == '2017-11-26'].plot(x='DateTime',y=['pred_ghi','true_ghi'])\n"
   ]
  },
  {
   "cell_type": "code",
   "execution_count": 17,
   "metadata": {},
   "outputs": [
    {
     "data": {
      "text/plain": [
       "<AxesSubplot:xlabel='DateTime'>"
      ]
     },
     "execution_count": 17,
     "metadata": {},
     "output_type": "execute_result"
    },
    {
     "data": {
      "image/png": "[encoded data removed]",
      "text/plain": [
       "<Figure size 432x288 with 1 Axes>"
      ]
     },
     "metadata": {
      "needs_background": "light"
     },
     "output_type": "display_data"
    }
   ],
   "source": [
    "tst_preds[tst_preds['Date'] == '2016-12-25'].plot(x='DateTime',y=['pred_ghi','true_ghi'])\n"
   ]
  },
  {
   "cell_type": "code",
   "execution_count": 18,
   "metadata": {},
   "outputs": [
    {
     "data": {
      "text/plain": [
       "<AxesSubplot:xlabel='DateTime'>"
      ]
     },
     "execution_count": 18,
     "metadata": {},
     "output_type": "execute_result"
    },
    {
     "data": {
      "image/png": "[encoded data removed]",
      "text/plain": [
       "<Figure size 432x288 with 1 Axes>"
      ]
     },
     "metadata": {
      "needs_background": "light"
     },
     "output_type": "display_data"
    }
   ],
   "source": [
    "tst_preds[tst_preds['Date'] == '2016-12-20'].plot(x='DateTime',y=['pred_ghi','true_ghi'])\n"
   ]
  },
  {
   "cell_type": "code",
   "execution_count": null,
   "metadata": {},
   "outputs": [],
   "source": [
    "tst_preds[tst_preds['Date'] == '2016-01-01'].plot(x='DateTime',y=['pred_ghi','true_ghi'])"
   ]
  },
  {
   "cell_type": "code",
   "execution_count": 52,
   "metadata": {},
   "outputs": [
    {
     "name": "stdout",
     "output_type": "stream",
     "text": [
      "Distance %f [363.         363.         636.           1.09009009]\n"
     ]
    }
   ],
   "source": [
    "# x = tst_preds['true_ghi'].iloc[:1000]\n",
    "\n",
    "# y = tst_preds['pred_ghi'].iloc[:1000]\n",
    "\n",
    "# d, c, ac, p = dtw.dtw(x, y)\n",
    "# dist = tam.tam(p)\n",
    "# print(\"Distance %f\", dist)"
   ]
  },
  {
   "cell_type": "code",
   "execution_count": 53,
   "metadata": {},
   "outputs": [
    {
     "data": {
      "text/plain": [
       "<AxesSubplot:xlabel='DateTime'>"
      ]
     },
     "execution_count": 53,
     "metadata": {},
     "output_type": "execute_result"
    },
    {
     "data": {
      "image/png": "[encoded data removed]",
      "text/plain": [
       "<Figure size 432x288 with 1 Axes>"
      ]
     },
     "metadata": {
      "needs_background": "light"
     },
     "output_type": "display_data"
    }
   ],
   "source": [
    "tst_preds[tst_preds['Date'] == '2016-01-01'].plot(x='DateTime',y=['pred_ghi','true_ghi'])"
   ]
  },
  {
   "cell_type": "markdown",
   "metadata": {},
   "source": [
    "LEAST STD\n"
   ]
  },
  {
   "cell_type": "code",
   "execution_count": 19,
   "metadata": {},
   "outputs": [
    {
     "data": {
      "text/plain": [
       "<AxesSubplot:xlabel='DateTime'>"
      ]
     },
     "execution_count": 19,
     "metadata": {},
     "output_type": "execute_result"
    },
    {
     "data": {
      "image/png": "[encoded data removed]",
      "text/plain": [
       "<Figure size 432x288 with 1 Axes>"
      ]
     },
     "metadata": {
      "needs_background": "light"
     },
     "output_type": "display_data"
    }
   ],
   "source": [
    "tst_preds[tst_preds['Date'] == '2017-09-02'].plot(x='DateTime',y=['pred_ghi','true_ghi'])"
   ]
  },
  {
   "cell_type": "code",
   "execution_count": null,
   "metadata": {},
   "outputs": [],
   "source": []
  },
  {
   "cell_type": "markdown",
   "metadata": {},
   "source": [
    "2. conv on CSI"
   ]
  },
  {
   "cell_type": "markdown",
   "metadata": {},
   "source": []
  },
  {
   "cell_type": "code",
   "execution_count": 4,
   "metadata": {},
   "outputs": [
    {
     "data": {
      "text/html": [
       "<div>\n",
       "<style scoped>\n",
       "    .dataframe tbody tr th:only-of-type {\n",
       "        vertical-align: middle;\n",
       "    }\n",
       "\n",
       "    .dataframe tbody tr th {\n",
       "        vertical-align: top;\n",
       "    }\n",
       "\n",
       "    .dataframe thead th {\n",
       "        text-align: right;\n",
       "    }\n",
       "</style>\n",
       "<table border=\"1\" class=\"dataframe\">\n",
       "  <thead>\n",
       "    <tr style=\"text-align: right;\">\n",
       "      <th></th>\n",
       "      <th>Date</th>\n",
       "      <th>MST</th>\n",
       "      <th>DateTime</th>\n",
       "      <th>pred_tgt</th>\n",
       "      <th>ground_tgt</th>\n",
       "      <th>10ma_tgt</th>\n",
       "      <th>pred_ghi</th>\n",
       "      <th>true_ghi</th>\n",
       "    </tr>\n",
       "  </thead>\n",
       "  <tbody>\n",
       "    <tr>\n",
       "      <th>0</th>\n",
       "      <td>2016-01-01</td>\n",
       "      <td>10:00</td>\n",
       "      <td>2016-01-01 10:00</td>\n",
       "      <td>0.330993</td>\n",
       "      <td>0.368719</td>\n",
       "      <td>0.368719</td>\n",
       "      <td>375.679809</td>\n",
       "      <td>418.4744</td>\n",
       "    </tr>\n",
       "    <tr>\n",
       "      <th>1</th>\n",
       "      <td>2016-01-01</td>\n",
       "      <td>10:10</td>\n",
       "      <td>2016-01-01 10:10</td>\n",
       "      <td>0.308397</td>\n",
       "      <td>0.365003</td>\n",
       "      <td>0.365003</td>\n",
       "      <td>370.311986</td>\n",
       "      <td>438.2645</td>\n",
       "    </tr>\n",
       "  </tbody>\n",
       "</table>\n",
       "</div>"
      ],
      "text/plain": [
       "         Date    MST          DateTime  pred_tgt  ground_tgt  10ma_tgt  \\\n",
       "0  2016-01-01  10:00  2016-01-01 10:00  0.330993    0.368719  0.368719   \n",
       "1  2016-01-01  10:10  2016-01-01 10:10  0.308397    0.365003  0.365003   \n",
       "\n",
       "     pred_ghi  true_ghi  \n",
       "0  375.679809  418.4744  \n",
       "1  370.311986  438.2645  "
      ]
     },
     "execution_count": 4,
     "metadata": {},
     "output_type": "execute_result"
    }
   ],
   "source": [
    "tst_preds = pd.read_csv(data_dir/'infered_vals_csi.csv')\n",
    "tst_preds.head(2)"
   ]
  },
  {
   "cell_type": "code",
   "execution_count": 5,
   "metadata": {},
   "outputs": [
    {
     "data": {
      "text/plain": [
       "127.34729547903837"
      ]
     },
     "execution_count": 5,
     "metadata": {},
     "output_type": "execute_result"
    }
   ],
   "source": [
    "import numpy as np\n",
    "np.sqrt(np.mean(((tst_preds['pred_ghi']-tst_preds['true_ghi']))**2))"
   ]
  },
  {
   "cell_type": "code",
   "execution_count": null,
   "metadata": {},
   "outputs": [],
   "source": []
  },
  {
   "cell_type": "code",
   "execution_count": 6,
   "metadata": {},
   "outputs": [
    {
     "data": {
      "text/plain": [
       "<AxesSubplot:ylabel='Frequency'>"
      ]
     },
     "execution_count": 6,
     "metadata": {},
     "output_type": "execute_result"
    },
    {
     "data": {
      "image/png": "[encoded data removed]",
      "text/plain": [
       "<Figure size 432x288 with 1 Axes>"
      ]
     },
     "metadata": {
      "needs_background": "light"
     },
     "output_type": "display_data"
    }
   ],
   "source": [
    "#bias\n",
    "\n",
    "tst_preds['bias'] = tst_preds['pred_ghi'] - tst_preds['true_ghi']\n",
    "tst_preds['bias'].plot.hist()"
   ]
  },
  {
   "cell_type": "code",
   "execution_count": 8,
   "metadata": {},
   "outputs": [
    {
     "data": {
      "text/plain": [
       "(11.63209324635435, 126.81721320720486)"
      ]
     },
     "execution_count": 8,
     "metadata": {},
     "output_type": "execute_result"
    }
   ],
   "source": [
    "tst_preds['bias'].mean(),tst_preds['bias'].std()"
   ]
  },
  {
   "cell_type": "code",
   "execution_count": 7,
   "metadata": {},
   "outputs": [
    {
     "data": {
      "text/plain": [
       "83.77535795667096"
      ]
     },
     "execution_count": 7,
     "metadata": {},
     "output_type": "execute_result"
    }
   ],
   "source": [
    "tst_preds.bias.abs().mean()"
   ]
  },
  {
   "cell_type": "code",
   "execution_count": 58,
   "metadata": {},
   "outputs": [],
   "source": [
    "import tam\n",
    "import dtw\n",
    "\n"
   ]
  },
  {
   "cell_type": "code",
   "execution_count": 59,
   "metadata": {},
   "outputs": [
    {
     "name": "stdout",
     "output_type": "stream",
     "text": [
      "Distance %f [306.         306.         693.           0.91891892]\n"
     ]
    }
   ],
   "source": [
    "# x = tst_preds['true_ghi'].iloc[:1000]\n",
    "\n",
    "# y = tst_preds['pred_ghi'].iloc[:1000]\n",
    "\n",
    "# d, c, ac, p = dtw.dtw(x, y)\n",
    "# dist = tam.tam(p)\n",
    "# print(\"Distance %f\", dist)"
   ]
  },
  {
   "cell_type": "code",
   "execution_count": 64,
   "metadata": {},
   "outputs": [],
   "source": [
    "\n",
    "fstq,sndq,thirdq = tst_preds['10ma_tgt'].quantile(0.25),tst_preds['10ma_tgt'].quantile(0.5),tst_preds['10ma_tgt'].quantile(0.75)\n",
    "\n",
    "first = tst_preds[tst_preds['10ma_tgt']<=fstq]\n",
    "second  = tst_preds[(tst_preds['10ma_tgt']>fstq) & (tst_preds['10ma_tgt']<=sndq)]\n",
    "third = tst_preds[(tst_preds['10ma_tgt']>sndq) & (tst_preds['10ma_tgt']<=thirdq)]\n",
    "fourth = tst_preds[(tst_preds['10ma_tgt']>thirdq)]"
   ]
  },
  {
   "cell_type": "code",
   "execution_count": 67,
   "metadata": {},
   "outputs": [
    {
     "data": {
      "text/plain": [
       "(131.35189346119398,\n",
       " 5.465553345415995,\n",
       " -30.200023953367698,\n",
       " -60.10624604711456)"
      ]
     },
     "execution_count": 67,
     "metadata": {},
     "output_type": "execute_result"
    }
   ],
   "source": [
    "first.bias.mean(),second.bias.mean(),third.bias.mean(),fourth.bias.mean()"
   ]
  },
  {
   "cell_type": "code",
   "execution_count": 26,
   "metadata": {},
   "outputs": [
    {
     "data": {
      "text/plain": [
       "(89.72629950250217, 34.58751172919388, -23.37694056837685, -54.41971488649936)"
      ]
     },
     "execution_count": 26,
     "metadata": {},
     "output_type": "execute_result"
    }
   ],
   "source": [
    "on = 'true_ghi'\n",
    "\n",
    "fstq,sndq,thirdq = tst_preds[on].quantile(0.25),tst_preds[on].quantile(0.5),tst_preds[on].quantile(0.75)\n",
    "\n",
    "first = tst_preds[tst_preds[on]<=fstq]\n",
    "second  = tst_preds[(tst_preds[on]>fstq) & (tst_preds[on]<=sndq)]\n",
    "third = tst_preds[(tst_preds[on]>sndq) & (tst_preds[on]<=thirdq)]\n",
    "fourth = tst_preds[(tst_preds[on]>thirdq)]\n",
    "first.bias.mean(),second.bias.mean(),third.bias.mean(),fourth.bias.mean()"
   ]
  },
  {
   "cell_type": "code",
   "execution_count": null,
   "metadata": {},
   "outputs": [],
   "source": []
  },
  {
   "cell_type": "code",
   "execution_count": 11,
   "metadata": {},
   "outputs": [
    {
     "data": {
      "text/html": [
       "<div>\n",
       "<style scoped>\n",
       "    .dataframe tbody tr th:only-of-type {\n",
       "        vertical-align: middle;\n",
       "    }\n",
       "\n",
       "    .dataframe tbody tr th {\n",
       "        vertical-align: top;\n",
       "    }\n",
       "\n",
       "    .dataframe thead th {\n",
       "        text-align: right;\n",
       "    }\n",
       "</style>\n",
       "<table border=\"1\" class=\"dataframe\">\n",
       "  <thead>\n",
       "    <tr style=\"text-align: right;\">\n",
       "      <th></th>\n",
       "      <th>pred_tgt</th>\n",
       "      <th>ground_tgt</th>\n",
       "      <th>10ma_tgt</th>\n",
       "      <th>pred_ghi</th>\n",
       "      <th>true_ghi</th>\n",
       "      <th>bias</th>\n",
       "    </tr>\n",
       "    <tr>\n",
       "      <th>Date</th>\n",
       "      <th></th>\n",
       "      <th></th>\n",
       "      <th></th>\n",
       "      <th></th>\n",
       "      <th></th>\n",
       "      <th></th>\n",
       "    </tr>\n",
       "  </thead>\n",
       "  <tbody>\n",
       "    <tr>\n",
       "      <th>2017-10-02</th>\n",
       "      <td>0.018542</td>\n",
       "      <td>0.009886</td>\n",
       "      <td>0.009886</td>\n",
       "      <td>75.307878</td>\n",
       "      <td>17.616049</td>\n",
       "      <td>64.224591</td>\n",
       "    </tr>\n",
       "    <tr>\n",
       "      <th>2017-01-24</th>\n",
       "      <td>0.033360</td>\n",
       "      <td>0.018081</td>\n",
       "      <td>0.018081</td>\n",
       "      <td>61.063836</td>\n",
       "      <td>21.770720</td>\n",
       "      <td>50.525964</td>\n",
       "    </tr>\n",
       "    <tr>\n",
       "      <th>2017-03-11</th>\n",
       "      <td>0.016147</td>\n",
       "      <td>0.018696</td>\n",
       "      <td>0.018696</td>\n",
       "      <td>49.762171</td>\n",
       "      <td>25.816710</td>\n",
       "      <td>40.951232</td>\n",
       "    </tr>\n",
       "    <tr>\n",
       "      <th>2017-10-30</th>\n",
       "      <td>0.021671</td>\n",
       "      <td>0.065791</td>\n",
       "      <td>0.065791</td>\n",
       "      <td>84.075176</td>\n",
       "      <td>28.710291</td>\n",
       "      <td>74.032695</td>\n",
       "    </tr>\n",
       "    <tr>\n",
       "      <th>2017-02-02</th>\n",
       "      <td>0.024375</td>\n",
       "      <td>0.008588</td>\n",
       "      <td>0.008588</td>\n",
       "      <td>56.907129</td>\n",
       "      <td>28.889159</td>\n",
       "      <td>34.709600</td>\n",
       "    </tr>\n",
       "    <tr>\n",
       "      <th>...</th>\n",
       "      <td>...</td>\n",
       "      <td>...</td>\n",
       "      <td>...</td>\n",
       "      <td>...</td>\n",
       "      <td>...</td>\n",
       "      <td>...</td>\n",
       "    </tr>\n",
       "    <tr>\n",
       "      <th>2017-07-17</th>\n",
       "      <td>0.102092</td>\n",
       "      <td>0.111410</td>\n",
       "      <td>0.111410</td>\n",
       "      <td>392.643948</td>\n",
       "      <td>411.405246</td>\n",
       "      <td>118.172341</td>\n",
       "    </tr>\n",
       "    <tr>\n",
       "      <th>2016-06-13</th>\n",
       "      <td>0.088393</td>\n",
       "      <td>0.121965</td>\n",
       "      <td>0.121965</td>\n",
       "      <td>322.466634</td>\n",
       "      <td>414.644159</td>\n",
       "      <td>223.774306</td>\n",
       "    </tr>\n",
       "    <tr>\n",
       "      <th>2017-07-08</th>\n",
       "      <td>0.099116</td>\n",
       "      <td>0.115515</td>\n",
       "      <td>0.115515</td>\n",
       "      <td>387.675414</td>\n",
       "      <td>427.880585</td>\n",
       "      <td>109.934765</td>\n",
       "    </tr>\n",
       "    <tr>\n",
       "      <th>2016-06-06</th>\n",
       "      <td>0.100718</td>\n",
       "      <td>0.121388</td>\n",
       "      <td>0.121388</td>\n",
       "      <td>387.828391</td>\n",
       "      <td>437.908267</td>\n",
       "      <td>136.333754</td>\n",
       "    </tr>\n",
       "    <tr>\n",
       "      <th>2017-07-20</th>\n",
       "      <td>0.097846</td>\n",
       "      <td>0.125929</td>\n",
       "      <td>0.125929</td>\n",
       "      <td>372.422235</td>\n",
       "      <td>447.977343</td>\n",
       "      <td>179.596690</td>\n",
       "    </tr>\n",
       "  </tbody>\n",
       "</table>\n",
       "<p>700 rows × 6 columns</p>\n",
       "</div>"
      ],
      "text/plain": [
       "            pred_tgt  ground_tgt  10ma_tgt    pred_ghi    true_ghi        bias\n",
       "Date                                                                          \n",
       "2017-10-02  0.018542    0.009886  0.009886   75.307878   17.616049   64.224591\n",
       "2017-01-24  0.033360    0.018081  0.018081   61.063836   21.770720   50.525964\n",
       "2017-03-11  0.016147    0.018696  0.018696   49.762171   25.816710   40.951232\n",
       "2017-10-30  0.021671    0.065791  0.065791   84.075176   28.710291   74.032695\n",
       "2017-02-02  0.024375    0.008588  0.008588   56.907129   28.889159   34.709600\n",
       "...              ...         ...       ...         ...         ...         ...\n",
       "2017-07-17  0.102092    0.111410  0.111410  392.643948  411.405246  118.172341\n",
       "2016-06-13  0.088393    0.121965  0.121965  322.466634  414.644159  223.774306\n",
       "2017-07-08  0.099116    0.115515  0.115515  387.675414  427.880585  109.934765\n",
       "2016-06-06  0.100718    0.121388  0.121388  387.828391  437.908267  136.333754\n",
       "2017-07-20  0.097846    0.125929  0.125929  372.422235  447.977343  179.596690\n",
       "\n",
       "[700 rows x 6 columns]"
      ]
     },
     "execution_count": 11,
     "metadata": {},
     "output_type": "execute_result"
    }
   ],
   "source": [
    "tst_preds.groupby(['Date']).agg('std').sort_values('true_ghi')"
   ]
  },
  {
   "cell_type": "code",
   "execution_count": 12,
   "metadata": {},
   "outputs": [
    {
     "data": {
      "text/plain": [
       "<AxesSubplot:xlabel='DateTime'>"
      ]
     },
     "execution_count": 12,
     "metadata": {},
     "output_type": "execute_result"
    },
    {
     "data": {
      "image/png": "[encoded data removed]",
      "text/plain": [
       "<Figure size 432x288 with 1 Axes>"
      ]
     },
     "metadata": {
      "needs_background": "light"
     },
     "output_type": "display_data"
    }
   ],
   "source": [
    "#more std\n",
    "tst_preds[tst_preds['Date'] == '2017-09-02'].plot(x='DateTime',y=['pred_ghi','true_ghi'])\n"
   ]
  },
  {
   "cell_type": "markdown",
   "metadata": {},
   "source": [
    "DYNAMIC TIME WARPING"
   ]
  },
  {
   "cell_type": "markdown",
   "metadata": {},
   "source": []
  },
  {
   "cell_type": "code",
   "execution_count": 9,
   "metadata": {},
   "outputs": [],
   "source": [
    "from matplotlib.patches import ConnectionPatch\n",
    "import matplotlib.pyplot as plt\n",
    "import numpy as np\n",
    "import scipy.spatial.distance as dist"
   ]
  },
  {
   "cell_type": "code",
   "execution_count": 10,
   "metadata": {},
   "outputs": [],
   "source": []
  },
  {
   "cell_type": "code",
   "execution_count": 147,
   "metadata": {},
   "outputs": [],
   "source": [
    "#bias\n",
    "tst_preds = pd.read_csv(data_dir/'joint_csi_infered_vals.csv')\n",
    "\n",
    "\n",
    "tst_preds['bias'] = tst_preds['pred_ghi'] - tst_preds['true_ghi']"
   ]
  },
  {
   "cell_type": "code",
   "execution_count": 148,
   "metadata": {},
   "outputs": [],
   "source": [
    "true_ghis = tst_preds.groupby('Date')['true_ghi'].apply(np.array)\n",
    "pred_ghis = tst_preds.groupby('Date')['pred_ghi'].apply(np.array)"
   ]
  },
  {
   "cell_type": "code",
   "execution_count": 149,
   "metadata": {},
   "outputs": [
    {
     "data": {
      "text/plain": [
       "(39, 39)"
      ]
     },
     "execution_count": 149,
     "metadata": {},
     "output_type": "execute_result"
    }
   ],
   "source": [
    "len(pred_ghis.iloc[0]),len(true_ghis.iloc[0])"
   ]
  },
  {
   "cell_type": "code",
   "execution_count": 11,
   "metadata": {},
   "outputs": [],
   "source": []
  },
  {
   "cell_type": "code",
   "execution_count": 151,
   "metadata": {},
   "outputs": [
    {
     "name": "stderr",
     "output_type": "stream",
     "text": [
      "100%|██████████| 700/700 [00:06<00:00, 101.18it/s]\n"
     ]
    }
   ],
   "source": [
    "out = {'tdi':[],'ptdi':[],'ntdi':[]}\n",
    "from tqdm import tqdm\n",
    "for i in tqdm(range(len(true_ghis))):\n",
    "    x = true_ghis.iloc[i]\n",
    "    y = pred_ghis.iloc[i]\n",
    "    tdi,pos_t,neg_t = getAreas(x,y)\n",
    "    out['tdi'].append(tdi)\n",
    "    out['ptdi'].append(pos_t)\n",
    "    out['ntdi'].append(neg_t)"
   ]
  },
  {
   "cell_type": "code",
   "execution_count": 152,
   "metadata": {},
   "outputs": [
    {
     "data": {
      "text/plain": [
       "0.3622088234939938"
      ]
     },
     "execution_count": 152,
     "metadata": {},
     "output_type": "execute_result"
    }
   ],
   "source": [
    "np.mean(out['tdi'])"
   ]
  },
  {
   "cell_type": "code",
   "execution_count": 153,
   "metadata": {},
   "outputs": [
    {
     "data": {
      "text/plain": [
       "0.0273421093851877"
      ]
     },
     "execution_count": 153,
     "metadata": {},
     "output_type": "execute_result"
    }
   ],
   "source": [
    "np.mean(out['ptdi'])"
   ]
  },
  {
   "cell_type": "code",
   "execution_count": 154,
   "metadata": {},
   "outputs": [
    {
     "data": {
      "text/plain": [
       "0.33486671410880603"
      ]
     },
     "execution_count": 154,
     "metadata": {},
     "output_type": "execute_result"
    }
   ],
   "source": [
    "np.mean(out['ntdi'])"
   ]
  },
  {
   "cell_type": "code",
   "execution_count": null,
   "metadata": {},
   "outputs": [],
   "source": []
  },
  {
   "cell_type": "code",
   "execution_count": 141,
   "metadata": {},
   "outputs": [],
   "source": [
    "x = tst_preds[tst_preds['Date'] == '2016-01-01']['true_ghi'].values\n",
    "y = tst_preds[tst_preds['Date'] == '2016-01-01']['pred_ghi'].values\n",
    "\n",
    "# Distance matrix\n",
    "N = x.shape[0]\n",
    "M = y.shape[0]\n",
    "\n",
    "dist_mat = np.zeros((N, M))\n",
    "for i in range(N):\n",
    "    for j in range(M):\n",
    "        dist_mat[i, j] = abs(x[i] - y[j])\n",
    "\n",
    "path, cost_mat = dp(dist_mat)\n"
   ]
  },
  {
   "cell_type": "code",
   "execution_count": 142,
   "metadata": {},
   "outputs": [
    {
     "data": {
      "image/png": "[encoded data removed]",
      "text/plain": [
       "<Figure size 432x288 with 1 Axes>"
      ]
     },
     "metadata": {
      "needs_background": "light"
     },
     "output_type": "display_data"
    }
   ],
   "source": [
    "import matplotlib.pyplot as plt\n",
    "y_path,x_path = zip(*path)\n",
    "x_true,y_true = zip(*zip(range(N+1),range(M+1)))\n",
    "plt.title('ideal vs optimal_path')\n",
    "plt.xlabel('pred_ghi')\n",
    "plt.ylabel('true_ghi')\n",
    "plt.plot(y_path, x_path)\n",
    "plt.plot(y_true,x_true)\n",
    "plt.grid()\n"
   ]
  },
  {
   "cell_type": "code",
   "execution_count": null,
   "metadata": {},
   "outputs": [],
   "source": []
  },
  {
   "cell_type": "code",
   "execution_count": 143,
   "metadata": {},
   "outputs": [],
   "source": [
    "points = path\n",
    "pos_area = 0\n",
    "neg_area = 0\n",
    "max_common = (N*M)/2\n",
    "\n",
    "\n",
    "points = path\n",
    "pos_area = 0\n",
    "neg_area = 0\n",
    "max_common = (N*M)/2\n",
    "for i in range(1,len(points)):\n",
    "    lst_p = points[i-1]\n",
    "    p_p = points[i]\n",
    "    scnd_co_diff = p_p[-1]-lst_p[-1]\n",
    "    if scnd_co_diff>0:\n",
    "        base_area = (lst_p[-1]+1) + 0.5\n",
    "        cur_area = (lst_p[0]+1) + 0.5 if p_p[0]>lst_p[0] else 0.0\n",
    "        if cur_area>base_area:\n",
    "            pos_area += abs(cur_area-base_area)\n",
    "        else:\n",
    "            neg_area += abs(cur_area-base_area)\n",
    "\n",
    "\n",
    "\n",
    "\n",
    "        "
   ]
  },
  {
   "cell_type": "code",
   "execution_count": 144,
   "metadata": {},
   "outputs": [
    {
     "data": {
      "text/plain": [
       "0.06969099276791585"
      ]
     },
     "execution_count": 144,
     "metadata": {},
     "output_type": "execute_result"
    }
   ],
   "source": [
    "pos_area/max_common"
   ]
  },
  {
   "cell_type": "code",
   "execution_count": 145,
   "metadata": {},
   "outputs": [
    {
     "data": {
      "text/plain": [
       "0.3214990138067061"
      ]
     },
     "execution_count": 145,
     "metadata": {},
     "output_type": "execute_result"
    }
   ],
   "source": [
    "neg_area/max_common"
   ]
  },
  {
   "cell_type": "code",
   "execution_count": 146,
   "metadata": {},
   "outputs": [
    {
     "data": {
      "text/plain": [
       "0.39119000657462194"
      ]
     },
     "execution_count": 146,
     "metadata": {},
     "output_type": "execute_result"
    }
   ],
   "source": [
    "(pos_area+neg_area)/max_common"
   ]
  },
  {
   "cell_type": "code",
   "execution_count": 94,
   "metadata": {},
   "outputs": [
    {
     "data": {
      "text/plain": [
       "(-1.9000000000000001, 39.9, -27.55712498492243, 566.5417964278535)"
      ]
     },
     "execution_count": 94,
     "metadata": {},
     "output_type": "execute_result"
    },
    {
     "data": {
      "image/png": "[encoded data removed]",
      "text/plain": [
       "<Figure size 432x288 with 1 Axes>"
      ]
     },
     "metadata": {
      "needs_background": "light"
     },
     "output_type": "display_data"
    }
   ],
   "source": [
    "plt.figure()\n",
    "for x_i, y_j in path:\n",
    "    plt.plot([x_i, y_j], [x[x_i] + 1.5, y[y_j] - 1.5], c=\"C7\")\n",
    "plt.plot(np.arange(x.shape[0]), x + 1.5, \"-o\", c=\"C3\")\n",
    "plt.plot(np.arange(y.shape[0]), y - 1.5, \"-o\", c=\"C0\")\n",
    "plt.axis(\"off\")"
   ]
  },
  {
   "cell_type": "code",
   "execution_count": null,
   "metadata": {},
   "outputs": [],
   "source": []
  },
  {
   "cell_type": "markdown",
   "metadata": {},
   "source": [
    "EXAMPLE"
   ]
  },
  {
   "cell_type": "markdown",
   "metadata": {},
   "source": []
  },
  {
   "cell_type": "code",
   "execution_count": 129,
   "metadata": {},
   "outputs": [
    {
     "data": {
      "text/plain": [
       "(-0.5, 10.5, -2.75, 2.75)"
      ]
     },
     "execution_count": 129,
     "metadata": {},
     "output_type": "execute_result"
    },
    {
     "data": {
      "image/png": "[encoded data removed]",
      "text/plain": [
       "<Figure size 432x288 with 1 Axes>"
      ]
     },
     "metadata": {
      "needs_background": "light"
     },
     "output_type": "display_data"
    }
   ],
   "source": [
    "import numpy as np\n",
    "import matplotlib.pyplot as plt\n",
    "x = np.array([0, 0, 1, 1, 0, 0, -1, 0, 0, 0, 0])\n",
    "y = np.array([0, 0, 0, 0, 1, 1, 0, 0, 0, -1, -0.5])\n",
    "\n",
    "plt.figure(figsize=(6, 4))\n",
    "plt.plot(np.arange(x.shape[0]), x + 1.5, \"-o\", c=\"C3\")\n",
    "plt.plot(np.arange(y.shape[0]), y - 1.5, \"-o\", c=\"C0\")\n",
    "plt.axis(\"off\")"
   ]
  },
  {
   "cell_type": "code",
   "execution_count": 130,
   "metadata": {},
   "outputs": [],
   "source": [
    "# Distance matrix\n",
    "N = x.shape[0]\n",
    "M = y.shape[0]\n",
    "dist_mat = np.zeros((N, M))\n",
    "for i in range(N):\n",
    "    for j in range(M):\n",
    "        dist_mat[i, j] = abs(x[i] - y[j])"
   ]
  },
  {
   "cell_type": "code",
   "execution_count": 131,
   "metadata": {},
   "outputs": [
    {
     "data": {
      "text/plain": [
       "(11, 11)"
      ]
     },
     "execution_count": 131,
     "metadata": {},
     "output_type": "execute_result"
    }
   ],
   "source": [
    "len(x),len(y)"
   ]
  },
  {
   "cell_type": "code",
   "execution_count": 132,
   "metadata": {},
   "outputs": [
    {
     "name": "stdout",
     "output_type": "stream",
     "text": [
      "Alignment cost: 2.0000\n",
      "Normalized alignment cost: 0.0909\n"
     ]
    },
    {
     "data": {
      "text/plain": [
       "[<matplotlib.lines.Line2D at 0x7fc83200ddc0>]"
      ]
     },
     "execution_count": 132,
     "metadata": {},
     "output_type": "execute_result"
    },
    {
     "data": {
      "image/png": "[encoded data removed]",
      "text/plain": [
       "<Figure size 432x288 with 2 Axes>"
      ]
     },
     "metadata": {
      "needs_background": "light"
     },
     "output_type": "display_data"
    }
   ],
   "source": [
    "# DTW\n",
    "path, cost_mat = dp(dist_mat)\n",
    "print(\"Alignment cost: {:.4f}\".format(cost_mat[N - 1, M - 1]))\n",
    "print(\"Normalized alignment cost: {:.4f}\".format(cost_mat[N - 1, M - 1]/(N + M)))\n",
    "\n",
    "plt.figure(figsize=(6, 4))\n",
    "plt.subplot(121)\n",
    "plt.title(\"Distance matrix\")\n",
    "plt.imshow(dist_mat, cmap=plt.cm.binary, interpolation=\"nearest\", origin=\"lower\")\n",
    "plt.subplot(122)\n",
    "plt.title(\"Cost matrix\")\n",
    "plt.imshow(cost_mat, cmap=plt.cm.binary, interpolation=\"nearest\", origin=\"lower\")\n",
    "x_path, y_path = zip(*path)\n",
    "plt.plot(y_path, x_path)"
   ]
  },
  {
   "cell_type": "code",
   "execution_count": 134,
   "metadata": {},
   "outputs": [
    {
     "data": {
      "text/plain": [
       "[<matplotlib.lines.Line2D at 0x7fc831f63cd0>]"
      ]
     },
     "execution_count": 134,
     "metadata": {},
     "output_type": "execute_result"
    },
    {
     "data": {
      "image/png": "[encoded data removed]",
      "text/plain": [
       "<Figure size 432x288 with 1 Axes>"
      ]
     },
     "metadata": {
      "needs_background": "light"
     },
     "output_type": "display_data"
    }
   ],
   "source": [
    "plt.plot(y_path,x_path)\n",
    "x_true,y_true = zip(*zip(range(N+1),range(M+1)))\n",
    "plt.plot(y_true,x_true)"
   ]
  },
  {
   "cell_type": "code",
   "execution_count": 137,
   "metadata": {},
   "outputs": [
    {
     "data": {
      "text/plain": [
       "[(0, 0),\n",
       " (0, 1),\n",
       " (0, 2),\n",
       " (1, 3),\n",
       " (2, 4),\n",
       " (3, 5),\n",
       " (4, 6),\n",
       " (4, 7),\n",
       " (5, 8),\n",
       " (6, 9),\n",
       " (7, 10),\n",
       " (8, 10),\n",
       " (9, 10),\n",
       " (10, 10)]"
      ]
     },
     "execution_count": 137,
     "metadata": {},
     "output_type": "execute_result"
    }
   ],
   "source": [
    "path"
   ]
  },
  {
   "cell_type": "code",
   "execution_count": 118,
   "metadata": {},
   "outputs": [
    {
     "data": {
      "text/plain": [
       "(0, 1, 2, 3, 4, 5, 6, 7, 8, 9, 10, 11)"
      ]
     },
     "execution_count": 118,
     "metadata": {},
     "output_type": "execute_result"
    }
   ],
   "source": [
    "y_true"
   ]
  },
  {
   "cell_type": "code",
   "execution_count": 139,
   "metadata": {},
   "outputs": [
    {
     "data": {
      "text/plain": [
       "(0.47107438016528924, 0.0, 0.47107438016528924)"
      ]
     },
     "execution_count": 139,
     "metadata": {},
     "output_type": "execute_result"
    }
   ],
   "source": [
    "getAreas(x,y)"
   ]
  },
  {
   "cell_type": "code",
   "execution_count": 110,
   "metadata": {},
   "outputs": [
    {
     "data": {
      "text/plain": [
       "(12, 12)"
      ]
     },
     "execution_count": 110,
     "metadata": {},
     "output_type": "execute_result"
    }
   ],
   "source": []
  },
  {
   "cell_type": "code",
   "execution_count": 2,
   "metadata": {},
   "outputs": [
    {
     "data": {
      "text/plain": [
       "[(0, 0), (0, 1), (0, 2), (1, 3)]"
      ]
     },
     "execution_count": 2,
     "metadata": {},
     "output_type": "execute_result"
    }
   ],
   "source": [
    "points = [(0, 0),\n",
    " (0, 1),\n",
    " (0, 2),\n",
    " (1, 3)]\n",
    "\n",
    "for i in range(1,len(points)):\n",
    "    pres = points[i]\n",
    "    last = points[i-1]\n",
    "    base_area = 0.5*1 + (i-1)"
   ]
  },
  {
   "cell_type": "code",
   "execution_count": 136,
   "metadata": {},
   "outputs": [
    {
     "data": {
      "text/plain": [
       "(-0.5, 10.5, -2.75, 2.75)"
      ]
     },
     "execution_count": 136,
     "metadata": {},
     "output_type": "execute_result"
    },
    {
     "data": {
      "image/png": "[encoded data removed]",
      "text/plain": [
       "<Figure size 432x288 with 1 Axes>"
      ]
     },
     "metadata": {
      "needs_background": "light"
     },
     "output_type": "display_data"
    }
   ],
   "source": [
    "plt.figure()\n",
    "for x_i, y_j in path:\n",
    "    plt.plot([x_i, y_j], [x[x_i] + 1.5, y[y_j] - 1.5], c=\"C7\")\n",
    "plt.plot(np.arange(x.shape[0]), x + 1.5, \"-o\", c=\"C3\")\n",
    "plt.plot(np.arange(y.shape[0]), y - 1.5, \"-o\", c=\"C0\")\n",
    "plt.axis(\"off\")"
   ]
  },
  {
   "cell_type": "code",
   "execution_count": 7,
   "metadata": {},
   "outputs": [],
   "source": [
    "true = pd.Series([i for i in range(30)])/29\n",
    "predict = true.shift(3).fillna(0)"
   ]
  },
  {
   "cell_type": "code",
   "execution_count": 12,
   "metadata": {},
   "outputs": [
    {
     "data": {
      "text/plain": [
       "(0.19, 0.0, 0.19)"
      ]
     },
     "execution_count": 12,
     "metadata": {},
     "output_type": "execute_result"
    }
   ],
   "source": [
    "getAreas(true,predict)"
   ]
  },
  {
   "cell_type": "code",
   "execution_count": null,
   "metadata": {},
   "outputs": [],
   "source": []
  }
 ],
 "metadata": {
  "interpreter": {
   "hash": "ba0eaf5009993b745d4aa7d6cba132d7a7c20d53b6841ddae3db28e24457bb23"
  },
  "kernelspec": {
   "display_name": "Python 3.8.12 ('Crossmdl')",
   "language": "python",
   "name": "python3"
  },
  "language_info": {
   "codemirror_mode": {
    "name": "ipython",
    "version": 3
   },
   "file_extension": ".py",
   "mimetype": "text/x-python",
   "name": "python",
   "nbconvert_exporter": "python",
   "pygments_lexer": "ipython3",
   "version": "3.8.12"
  },
  "orig_nbformat": 4,
  "vscode": {
   "interpreter": {
    "hash": "ba0eaf5009993b745d4aa7d6cba132d7a7c20d53b6841ddae3db28e24457bb23"
   }
  }
 },
 "nbformat": 4,
 "nbformat_minor": 2
}
