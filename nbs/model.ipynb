{
 "cells": [
  {
   "cell_type": "code",
   "execution_count": 1,
   "metadata": {},
   "outputs": [
    {
     "name": "stderr",
     "output_type": "stream",
     "text": [
      "/common/home/vk405/miniconda3/envs/Crossmdl/lib/python3.8/site-packages/tqdm/auto.py:22: TqdmWarning: IProgress not found. Please update jupyter and ipywidgets. See https://ipywidgets.readthedocs.io/en/stable/user_install.html\n",
      "  from .autonotebook import tqdm as notebook_tqdm\n"
     ]
    }
   ],
   "source": [
    "import torch\n",
    "import numpy as np\n",
    "import os\n",
    "import json\n",
    "import joblib\n",
    "from torch.utils.data import Dataset,DataLoader\n",
    "from itertools import repeat\n",
    "import pandas as pd\n",
    "import math\n",
    "import torch.nn as nn\n",
    "import torch.nn.functional as F\n",
    "import pytorch_lightning as pl\n",
    "from pytorch_lightning.loggers import CSVLogger\n",
    "from sklearn.preprocessing import MinMaxScaler\n",
    "from tqdm import tqdm"
   ]
  },
  {
   "cell_type": "code",
   "execution_count": 2,
   "metadata": {},
   "outputs": [],
   "source": [
    "from pathlib import Path\n",
    "data_dir =Path('/common/home/vk405/Projects/EnergyLab/Solar-forcast/Data/')\n",
    "image_dir = Path('/common/users/vk405/EnergyLab/Data')\n",
    "proc_data_dir = Path('/common/users/vk405/EnergyLab/Data/ProcData')\n",
    "df = pd.read_csv(f'{data_dir}/tgtimgs.csv')\n",
    "\n"
   ]
  },
  {
   "cell_type": "code",
   "execution_count": 3,
   "metadata": {},
   "outputs": [
    {
     "data": {
      "text/html": [
       "<div>\n",
       "<style scoped>\n",
       "    .dataframe tbody tr th:only-of-type {\n",
       "        vertical-align: middle;\n",
       "    }\n",
       "\n",
       "    .dataframe tbody tr th {\n",
       "        vertical-align: top;\n",
       "    }\n",
       "\n",
       "    .dataframe thead th {\n",
       "        text-align: right;\n",
       "    }\n",
       "</style>\n",
       "<table border=\"1\" class=\"dataframe\">\n",
       "  <thead>\n",
       "    <tr style=\"text-align: right;\">\n",
       "      <th></th>\n",
       "      <th>Date</th>\n",
       "      <th>MST</th>\n",
       "      <th>Imgs</th>\n",
       "      <th>Target</th>\n",
       "    </tr>\n",
       "  </thead>\n",
       "  <tbody>\n",
       "    <tr>\n",
       "      <th>100882</th>\n",
       "      <td>2017-11-30</td>\n",
       "      <td>15:20</td>\n",
       "      <td>['/common/users/vk405/EnergyLab/Data/20171130/...</td>\n",
       "      <td>161.97970</td>\n",
       "    </tr>\n",
       "    <tr>\n",
       "      <th>100883</th>\n",
       "      <td>2017-11-30</td>\n",
       "      <td>15:30</td>\n",
       "      <td>['/common/users/vk405/EnergyLab/Data/20171130/...</td>\n",
       "      <td>133.98670</td>\n",
       "    </tr>\n",
       "    <tr>\n",
       "      <th>100884</th>\n",
       "      <td>2017-11-30</td>\n",
       "      <td>16:00</td>\n",
       "      <td>['/common/users/vk405/EnergyLab/Data/20171130/...</td>\n",
       "      <td>47.26993</td>\n",
       "    </tr>\n",
       "    <tr>\n",
       "      <th>100885</th>\n",
       "      <td>2017-11-30</td>\n",
       "      <td>16:10</td>\n",
       "      <td>['/common/users/vk405/EnergyLab/Data/20171130/...</td>\n",
       "      <td>15.55378</td>\n",
       "    </tr>\n",
       "    <tr>\n",
       "      <th>100886</th>\n",
       "      <td>2017-11-30</td>\n",
       "      <td>16:20</td>\n",
       "      <td>['/common/users/vk405/EnergyLab/Data/20171130/...</td>\n",
       "      <td>9.61039</td>\n",
       "    </tr>\n",
       "  </tbody>\n",
       "</table>\n",
       "</div>"
      ],
      "text/plain": [
       "              Date    MST                                               Imgs  \\\n",
       "100882  2017-11-30  15:20  ['/common/users/vk405/EnergyLab/Data/20171130/...   \n",
       "100883  2017-11-30  15:30  ['/common/users/vk405/EnergyLab/Data/20171130/...   \n",
       "100884  2017-11-30  16:00  ['/common/users/vk405/EnergyLab/Data/20171130/...   \n",
       "100885  2017-11-30  16:10  ['/common/users/vk405/EnergyLab/Data/20171130/...   \n",
       "100886  2017-11-30  16:20  ['/common/users/vk405/EnergyLab/Data/20171130/...   \n",
       "\n",
       "           Target  \n",
       "100882  161.97970  \n",
       "100883  133.98670  \n",
       "100884   47.26993  \n",
       "100885   15.55378  \n",
       "100886    9.61039  "
      ]
     },
     "execution_count": 3,
     "metadata": {},
     "output_type": "execute_result"
    }
   ],
   "source": [
    "df.tail()"
   ]
  },
  {
   "cell_type": "code",
   "execution_count": null,
   "metadata": {},
   "outputs": [],
   "source": []
  },
  {
   "cell_type": "code",
   "execution_count": 4,
   "metadata": {},
   "outputs": [],
   "source": [
    "class Dset(Dataset):\n",
    "    def __init__(self,split= 'train',data_dir='/common/home/vk405/Projects/EnergyLab/Solar-forcast/Data/',\n",
    "    image_dir='/common/users/vk405/EnergyLab/Data/ProcData'):\n",
    "        self.split = split\n",
    "\n",
    "        #hardcoded dir locs \n",
    "        self.data_dir = Path(data_dir)\n",
    "        self.image_dir = Path(image_dir) \n",
    "        \n",
    "        base_df = pd.read_csv(f'{self.data_dir}/tgtimgs.csv')\n",
    "        base_df.loc[base_df.index[base_df['Target']>=1250.0],'Target'] = 1250.0\n",
    "        \n",
    "        trn_df = pd.DataFrame(base_df.loc[pd.to_datetime(base_df['Date']).dt.year <= 2014])\n",
    "        self.scalar = MinMaxScaler().fit(trn_df['Target'].values.reshape(-1,1))\n",
    "        #splits are hardcoded as per the original paper\n",
    "        if self.split == 'train':\n",
    "            self.df = pd.DataFrame(base_df.loc[pd.to_datetime(base_df['Date']).dt.year <= 2014])\n",
    "            \n",
    "        elif self.split == 'valid':\n",
    "            self.df = pd.DataFrame(base_df.loc[pd.to_datetime(base_df['Date']).dt.year == 2015])\n",
    "            \n",
    "        else:\n",
    "            self.df = pd.DataFrame(base_df.loc[pd.to_datetime(base_df['Date']).dt.year > 2015])\n",
    "        #set an upper-threshold.\n",
    "        self.df.loc[self.df.index[self.df['Target']>=1250.0],'Target'] = 1250.0\n",
    "        #self.df[self.df['Target']>=1300.0]['Target'] = 1300.0\n",
    "        rescaled = self.scalar.transform(self.df['Target'].values.reshape(-1,1))\n",
    "        self.df['Target'] = np.squeeze(rescaled)\n",
    "        \n",
    "        \n",
    "    def __len__(self):\n",
    "        return len(self.df)\n",
    "\n",
    "    def __getitem__(self,ind):\n",
    "        try:\n",
    "            imgs = sorted(eval(self.df.iloc[ind]['Imgs']),key = lambda x: int(x.split('/')[-1].split('.')[0]))\n",
    "            target = self.df.iloc[ind]['Target']\n",
    "            #image_dir = Path('/common/users/vk405/EnergyLab/Data/ProcData') \n",
    "            proc_imgs = [self.image_dir/(x.split('/')[-1].split('.')[0]+'.joblib') for x in imgs]\n",
    "            proc_arrays = [joblib.load(ele) for ele in proc_imgs]\n",
    "        except:\n",
    "            print(ind)\n",
    "            \n",
    "        return (np.concatenate(proc_arrays,-1).reshape(-1,256,256))/255.0,target\n",
    "\n",
    "\n",
    "\n",
    "\n",
    "    "
   ]
  },
  {
   "cell_type": "code",
   "execution_count": 4,
   "metadata": {},
   "outputs": [
    {
     "data": {
      "text/plain": [
       "Date                                             2012-02-29\n",
       "MST                                                   08:40\n",
       "Imgs      ['/common/users/vk405/EnergyLab/Data/20120229/...\n",
       "Target                                             0.284907\n",
       "Name: 3220, dtype: object"
      ]
     },
     "execution_count": 4,
     "metadata": {},
     "output_type": "execute_result"
    }
   ],
   "source": [
    "dset = Dset()\n",
    "dset.df.iloc[3220]"
   ]
  },
  {
   "cell_type": "code",
   "execution_count": 9,
   "metadata": {},
   "outputs": [
    {
     "name": "stderr",
     "output_type": "stream",
     "text": [
      "100%|██████████| 58531/58531 [03:37<00:00, 269.48it/s]\n"
     ]
    }
   ],
   "source": [
    "#sanity check\n",
    "\n",
    "# for i in tqdm(range(len(dset))):\n",
    "#     try:\n",
    "#         o=dset[i]\n",
    "#     except:\n",
    "#         print(i)"
   ]
  },
  {
   "cell_type": "code",
   "execution_count": null,
   "metadata": {},
   "outputs": [],
   "source": [
    "base_df = pd.read_csv(f'{data_dir}/tgtimgs.csv')\n",
    "trn_df = pd.DataFrame(base_df.loc[pd.to_datetime(base_df['Date']).dt.year <= 2014])"
   ]
  },
  {
   "cell_type": "code",
   "execution_count": 7,
   "metadata": {},
   "outputs": [
    {
     "data": {
      "text/plain": [
       "<AxesSubplot:ylabel='Frequency'>"
      ]
     },
     "execution_count": 7,
     "metadata": {},
     "output_type": "execute_result"
    },
    {
     "data": {
      "image/png": "[encoded data removed]",
      "text/plain": [
       "<Figure size 432x288 with 1 Axes>"
      ]
     },
     "metadata": {
      "needs_background": "light"
     },
     "output_type": "display_data"
    }
   ],
   "source": [
    "trn_df['Target'].plot.hist()"
   ]
  },
  {
   "cell_type": "code",
   "execution_count": 29,
   "metadata": {},
   "outputs": [],
   "source": [
    "trn_df.loc[trn_df.index[trn_df['Target']>=1250.0],'Target'] = 1250.0"
   ]
  },
  {
   "cell_type": "code",
   "execution_count": 30,
   "metadata": {},
   "outputs": [
    {
     "data": {
      "text/plain": [
       "<AxesSubplot:ylabel='Frequency'>"
      ]
     },
     "execution_count": 30,
     "metadata": {},
     "output_type": "execute_result"
    },
    {
     "data": {
      "image/png": "[encoded data removed]",
      "text/plain": [
       "<Figure size 432x288 with 1 Axes>"
      ]
     },
     "metadata": {
      "needs_background": "light"
     },
     "output_type": "display_data"
    }
   ],
   "source": [
    "trn_df.plot.hist()"
   ]
  },
  {
   "cell_type": "code",
   "execution_count": null,
   "metadata": {},
   "outputs": [],
   "source": []
  },
  {
   "cell_type": "code",
   "execution_count": 22,
   "metadata": {},
   "outputs": [
    {
     "data": {
      "text/plain": [
       "<AxesSubplot:ylabel='Frequency'>"
      ]
     },
     "execution_count": 22,
     "metadata": {},
     "output_type": "execute_result"
    },
    {
     "data": {
      "image/png": "[encoded data removed]",
      "text/plain": [
       "<Figure size 432x288 with 1 Axes>"
      ]
     },
     "metadata": {
      "needs_background": "light"
     },
     "output_type": "display_data"
    }
   ],
   "source": [
    "trn_df['Target'].plot.hist()"
   ]
  },
  {
   "cell_type": "code",
   "execution_count": 22,
   "metadata": {},
   "outputs": [],
   "source": [
    "df_trn = Dset('train')"
   ]
  },
  {
   "cell_type": "code",
   "execution_count": 38,
   "metadata": {},
   "outputs": [
    {
     "data": {
      "text/plain": [
       "0"
      ]
     },
     "execution_count": 38,
     "metadata": {},
     "output_type": "execute_result"
    }
   ],
   "source": [
    "base_df = pd.read_csv(f'{data_dir}/tgtimgs.csv')\n",
    "base_df.loc[base_df.index[base_df['Target']>=1250.0],'Target'] = 1250.0\n",
    "out = base_df['Imgs'].apply(lambda x: eval(x)).apply(lambda x: not isinstance(x,list))\n",
    "sum(out)"
   ]
  },
  {
   "cell_type": "code",
   "execution_count": 45,
   "metadata": {},
   "outputs": [
    {
     "data": {
      "text/plain": [
       "0"
      ]
     },
     "execution_count": 45,
     "metadata": {},
     "output_type": "execute_result"
    }
   ],
   "source": [
    "base_df = pd.read_csv(f'{data_dir}/tgtimgs.csv')\n",
    "base_df.loc[base_df.index[base_df['Target']>=1250.0],'Target'] = 1250.0\n",
    "\n",
    "trn_df = pd.DataFrame(base_df.loc[pd.to_datetime(base_df['Date']).dt.year <= 2014])\n",
    "scalar = MinMaxScaler().fit(trn_df['Target'].values.reshape(-1,1))\n",
    "\n",
    "df = pd.DataFrame(base_df.loc[pd.to_datetime(base_df['Date']).dt.year <= 2014])\n",
    "\n",
    "df.loc[df.index[df['Target']>=1250.0],'Target'] = 1250.0\n",
    "#self.df[self.df['Target']>=1300.0]['Target'] = 1300.0\n",
    "rescaled = scalar.transform(df['Target'].values.reshape(-1,1))\n",
    "out = df['Imgs'].apply(lambda x: eval(x)).apply(lambda x: not isinstance(x,list))\n",
    "sum(out)\n",
    "      "
   ]
  },
  {
   "cell_type": "code",
   "execution_count": 50,
   "metadata": {},
   "outputs": [
    {
     "data": {
      "text/plain": [
       "array([0.02127024, 0.03398448, 0.05475296, ..., 0.03809065, 0.01229214,\n",
       "       0.00736006])"
      ]
     },
     "execution_count": 50,
     "metadata": {},
     "output_type": "execute_result"
    }
   ],
   "source": [
    "np.squeeze(rescaled)"
   ]
  },
  {
   "cell_type": "code",
   "execution_count": 51,
   "metadata": {},
   "outputs": [],
   "source": [
    "df['Target'] = rescaled"
   ]
  },
  {
   "cell_type": "code",
   "execution_count": 53,
   "metadata": {},
   "outputs": [
    {
     "data": {
      "text/plain": [
       "0"
      ]
     },
     "execution_count": 53,
     "metadata": {},
     "output_type": "execute_result"
    }
   ],
   "source": [
    "out = df['Imgs'].apply(lambda x: eval(x)).apply(lambda x: not isinstance(x,list))\n",
    "sum(out)\n"
   ]
  },
  {
   "cell_type": "code",
   "execution_count": 39,
   "metadata": {},
   "outputs": [
    {
     "data": {
      "text/plain": [
       "0"
      ]
     },
     "execution_count": 39,
     "metadata": {},
     "output_type": "execute_result"
    }
   ],
   "source": [
    "df = pd.DataFrame(base_df.loc[pd.to_datetime(base_df['Date']).dt.year <= 2014])\n",
    "out = df['Imgs'].apply(lambda x: eval(x)).apply(lambda x: not isinstance(x,list))\n",
    "sum(out)"
   ]
  },
  {
   "cell_type": "code",
   "execution_count": 56,
   "metadata": {},
   "outputs": [
    {
     "data": {
      "text/plain": [
       "0"
      ]
     },
     "execution_count": 56,
     "metadata": {},
     "output_type": "execute_result"
    }
   ],
   "source": [
    "df_trn = Dset('train')\n",
    "\n",
    "sum(df_trn.df['Imgs'].apply(lambda x: eval(x)).apply(lambda x: not isinstance(x,list)))"
   ]
  },
  {
   "cell_type": "code",
   "execution_count": 24,
   "metadata": {},
   "outputs": [
    {
     "data": {
      "text/plain": [
       "\"['/common/users/vk405/EnergyLab/Data/20120802/20120802115000.raw.jpg', '/common/users/vk405/EnergyLab/Data/20120802/20120802114000.raw.jpg']\""
      ]
     },
     "execution_count": 24,
     "metadata": {},
     "output_type": "execute_result"
    }
   ],
   "source": [
    "df_trn.df.iloc[10565]['Imgs']"
   ]
  },
  {
   "cell_type": "code",
   "execution_count": 14,
   "metadata": {},
   "outputs": [
    {
     "data": {
      "text/plain": [
       "\"['/common/users/vk405/EnergyLab/Data/20120802/20120802114000.raw.jpg', '/common/users/vk405/EnergyLab/Data/20120802/20120802113000.raw.jpg']\""
      ]
     },
     "execution_count": 14,
     "metadata": {},
     "output_type": "execute_result"
    }
   ],
   "source": [
    "df_trn.df.iloc[10564]['Imgs']"
   ]
  },
  {
   "cell_type": "code",
   "execution_count": 13,
   "metadata": {},
   "outputs": [
    {
     "data": {
      "text/html": [
       "<div>\n",
       "<style scoped>\n",
       "    .dataframe tbody tr th:only-of-type {\n",
       "        vertical-align: middle;\n",
       "    }\n",
       "\n",
       "    .dataframe tbody tr th {\n",
       "        vertical-align: top;\n",
       "    }\n",
       "\n",
       "    .dataframe thead th {\n",
       "        text-align: right;\n",
       "    }\n",
       "</style>\n",
       "<table border=\"1\" class=\"dataframe\">\n",
       "  <thead>\n",
       "    <tr style=\"text-align: right;\">\n",
       "      <th></th>\n",
       "      <th>Date</th>\n",
       "      <th>MST</th>\n",
       "      <th>Imgs</th>\n",
       "      <th>Target</th>\n",
       "    </tr>\n",
       "  </thead>\n",
       "  <tbody>\n",
       "    <tr>\n",
       "      <th>0</th>\n",
       "      <td>2012-01-01</td>\n",
       "      <td>07:40</td>\n",
       "      <td>['/common/users/vk405/EnergyLab/Data/20120101/...</td>\n",
       "      <td>0.012111</td>\n",
       "    </tr>\n",
       "    <tr>\n",
       "      <th>1</th>\n",
       "      <td>2012-01-01</td>\n",
       "      <td>07:50</td>\n",
       "      <td>['/common/users/vk405/EnergyLab/Data/20120101/...</td>\n",
       "      <td>0.019796</td>\n",
       "    </tr>\n",
       "    <tr>\n",
       "      <th>2</th>\n",
       "      <td>2012-01-01</td>\n",
       "      <td>08:00</td>\n",
       "      <td>['/common/users/vk405/EnergyLab/Data/20120101/...</td>\n",
       "      <td>0.034064</td>\n",
       "    </tr>\n",
       "    <tr>\n",
       "      <th>3</th>\n",
       "      <td>2012-01-01</td>\n",
       "      <td>08:10</td>\n",
       "      <td>['/common/users/vk405/EnergyLab/Data/20120101/...</td>\n",
       "      <td>0.048355</td>\n",
       "    </tr>\n",
       "    <tr>\n",
       "      <th>4</th>\n",
       "      <td>2012-01-01</td>\n",
       "      <td>08:20</td>\n",
       "      <td>['/common/users/vk405/EnergyLab/Data/20120101/...</td>\n",
       "      <td>0.062177</td>\n",
       "    </tr>\n",
       "    <tr>\n",
       "      <th>...</th>\n",
       "      <td>...</td>\n",
       "      <td>...</td>\n",
       "      <td>...</td>\n",
       "      <td>...</td>\n",
       "    </tr>\n",
       "    <tr>\n",
       "      <th>175582</th>\n",
       "      <td>2014-12-31</td>\n",
       "      <td>15:50</td>\n",
       "      <td>['/common/users/vk405/EnergyLab/Data/20141231/...</td>\n",
       "      <td>0.080331</td>\n",
       "    </tr>\n",
       "    <tr>\n",
       "      <th>175583</th>\n",
       "      <td>2014-12-31</td>\n",
       "      <td>16:00</td>\n",
       "      <td>['/common/users/vk405/EnergyLab/Data/20141231/...</td>\n",
       "      <td>0.062049</td>\n",
       "    </tr>\n",
       "    <tr>\n",
       "      <th>175584</th>\n",
       "      <td>2014-12-31</td>\n",
       "      <td>16:10</td>\n",
       "      <td>['/common/users/vk405/EnergyLab/Data/20141231/...</td>\n",
       "      <td>0.044130</td>\n",
       "    </tr>\n",
       "    <tr>\n",
       "      <th>175585</th>\n",
       "      <td>2014-12-31</td>\n",
       "      <td>16:20</td>\n",
       "      <td>['/common/users/vk405/EnergyLab/Data/20141231/...</td>\n",
       "      <td>0.011740</td>\n",
       "    </tr>\n",
       "    <tr>\n",
       "      <th>175586</th>\n",
       "      <td>2014-12-31</td>\n",
       "      <td>16:30</td>\n",
       "      <td>['/common/users/vk405/EnergyLab/Data/20141231/...</td>\n",
       "      <td>0.007310</td>\n",
       "    </tr>\n",
       "  </tbody>\n",
       "</table>\n",
       "<p>175587 rows × 4 columns</p>\n",
       "</div>"
      ],
      "text/plain": [
       "              Date    MST                                               Imgs  \\\n",
       "0       2012-01-01  07:40  ['/common/users/vk405/EnergyLab/Data/20120101/...   \n",
       "1       2012-01-01  07:50  ['/common/users/vk405/EnergyLab/Data/20120101/...   \n",
       "2       2012-01-01  08:00  ['/common/users/vk405/EnergyLab/Data/20120101/...   \n",
       "3       2012-01-01  08:10  ['/common/users/vk405/EnergyLab/Data/20120101/...   \n",
       "4       2012-01-01  08:20  ['/common/users/vk405/EnergyLab/Data/20120101/...   \n",
       "...            ...    ...                                                ...   \n",
       "175582  2014-12-31  15:50  ['/common/users/vk405/EnergyLab/Data/20141231/...   \n",
       "175583  2014-12-31  16:00  ['/common/users/vk405/EnergyLab/Data/20141231/...   \n",
       "175584  2014-12-31  16:10  ['/common/users/vk405/EnergyLab/Data/20141231/...   \n",
       "175585  2014-12-31  16:20  ['/common/users/vk405/EnergyLab/Data/20141231/...   \n",
       "175586  2014-12-31  16:30  ['/common/users/vk405/EnergyLab/Data/20141231/...   \n",
       "\n",
       "          Target  \n",
       "0       0.012111  \n",
       "1       0.019796  \n",
       "2       0.034064  \n",
       "3       0.048355  \n",
       "4       0.062177  \n",
       "...          ...  \n",
       "175582  0.080331  \n",
       "175583  0.062049  \n",
       "175584  0.044130  \n",
       "175585  0.011740  \n",
       "175586  0.007310  \n",
       "\n",
       "[175587 rows x 4 columns]"
      ]
     },
     "execution_count": 13,
     "metadata": {},
     "output_type": "execute_result"
    }
   ],
   "source": [
    "df_trn.df"
   ]
  },
  {
   "cell_type": "code",
   "execution_count": 41,
   "metadata": {},
   "outputs": [],
   "source": [
    "x,y = df_trn[0]"
   ]
  },
  {
   "cell_type": "code",
   "execution_count": 42,
   "metadata": {},
   "outputs": [
    {
     "data": {
      "text/plain": [
       "1.0"
      ]
     },
     "execution_count": 42,
     "metadata": {},
     "output_type": "execute_result"
    }
   ],
   "source": [
    "x[:,:,0].max()"
   ]
  },
  {
   "cell_type": "code",
   "execution_count": 1,
   "metadata": {},
   "outputs": [],
   "source": [
    "#architecture\n",
    "\n"
   ]
  },
  {
   "cell_type": "code",
   "execution_count": 8,
   "metadata": {},
   "outputs": [],
   "source": [
    "def SCNN(n_ch=6):\n",
    "    \n",
    "    model = []\n",
    "    model.append(nn.Conv2d(in_channels=n_ch, out_channels=64, kernel_size=(3, 3), padding=\"same\"))\n",
    "    model.append(nn.ReLU())\n",
    "    model.append(nn.Conv2d(in_channels=64, out_channels=64, kernel_size=(3, 3), padding=\"same\"))\n",
    "    model.append(nn.ReLU())\n",
    "    model.append(nn.MaxPool2d((2,2),stride=(2,2)))\n",
    "    \n",
    "    model.append(nn.Conv2d(in_channels=64, out_channels=128, kernel_size=(3, 3), padding=\"same\"))\n",
    "    model.append(nn.ReLU())\n",
    "    model.append(nn.Conv2d(in_channels=128, out_channels=128, kernel_size=(3, 3), padding=\"same\"))\n",
    "    model.append(nn.ReLU())\n",
    "    model.append(nn.MaxPool2d((2,2),stride=(2,2)))\n",
    "\n",
    "    model.append(nn.Conv2d(in_channels=128, out_channels=256, kernel_size=(3, 3), padding=\"same\"))\n",
    "    model.append(nn.ReLU())\n",
    "    model.append(nn.Conv2d(in_channels=256, out_channels=256, kernel_size=(3, 3), padding=\"same\"))\n",
    "    model.append(nn.ReLU())\n",
    "    model.append(nn.Conv2d(in_channels=256, out_channels=256, kernel_size=(3, 3), padding=\"same\"))\n",
    "    model.append(nn.ReLU())\n",
    "    model.append(nn.MaxPool2d((2,2),stride=(2,2)))\n",
    "\n",
    "    model.append(nn.Conv2d(in_channels=256, out_channels=512, kernel_size=(3, 3), padding=\"same\"))\n",
    "    model.append(nn.ReLU())\n",
    "    model.append(nn.Conv2d(in_channels=512, out_channels=512, kernel_size=(3, 3), padding=\"same\"))\n",
    "    model.append(nn.ReLU())\n",
    "    #model.append(nn.Conv2d(in_channels=512, out_channels=512, kernel_size=(3, 3), padding=\"same\"))\n",
    "    #model.append(nn.ReLU())\n",
    "    model.append(nn.MaxPool2d((2,2),stride=(2,2)))\n",
    "\n",
    "    model.append(nn.Conv2d(in_channels=512, out_channels=512, kernel_size=(3, 3), padding=\"same\"))\n",
    "    model.append(nn.ReLU())\n",
    "    model.append(nn.Conv2d(in_channels=512, out_channels=512, kernel_size=(3, 3), padding=\"same\"))\n",
    "    model.append(nn.ReLU())\n",
    "    #model.append(nn.Conv2d(in_channels=512, out_channels=512, kernel_size=(3, 3), padding=\"same\"))\n",
    "    #model.append(nn.ReLU())\n",
    "    model.append(nn.MaxPool2d((2,2),stride=(2,2)))\n",
    "\n",
    "    model.append(nn.Conv2d(in_channels=512, out_channels=512, kernel_size=(3, 3), padding=\"same\"))\n",
    "    model.append(nn.ReLU())\n",
    "    model.append(nn.Conv2d(in_channels=512, out_channels=512, kernel_size=(3, 3), padding=\"same\"))\n",
    "    model.append(nn.ReLU())\n",
    "    model.append(nn.MaxPool2d((2,2),stride=(2,2)))\n",
    "\n",
    "\n",
    "\n",
    "\n",
    "    return nn.Sequential(*model)\n"
   ]
  },
  {
   "cell_type": "code",
   "execution_count": 11,
   "metadata": {},
   "outputs": [],
   "source": [
    "model = SCNN()"
   ]
  },
  {
   "cell_type": "code",
   "execution_count": 50,
   "metadata": {},
   "outputs": [
    {
     "data": {
      "text/plain": [
       "(6, 256, 256)"
      ]
     },
     "execution_count": 50,
     "metadata": {},
     "output_type": "execute_result"
    }
   ],
   "source": [
    "x.shape"
   ]
  },
  {
   "cell_type": "code",
   "execution_count": 51,
   "metadata": {},
   "outputs": [],
   "source": [
    "x_out = model(torch.Tensor(x.reshape(1,6,256, 256)))"
   ]
  },
  {
   "cell_type": "code",
   "execution_count": 54,
   "metadata": {},
   "outputs": [
    {
     "data": {
      "text/plain": [
       "torch.Size([1, 512, 4, 4])"
      ]
     },
     "execution_count": 54,
     "metadata": {},
     "output_type": "execute_result"
    }
   ],
   "source": [
    "x_out.shape"
   ]
  },
  {
   "cell_type": "code",
   "execution_count": 52,
   "metadata": {},
   "outputs": [
    {
     "data": {
      "text/plain": [
       "torch.Size([1, 8192])"
      ]
     },
     "execution_count": 52,
     "metadata": {},
     "output_type": "execute_result"
    }
   ],
   "source": [
    "nn.Flatten()(x_out).shape"
   ]
  },
  {
   "cell_type": "code",
   "execution_count": 9,
   "metadata": {},
   "outputs": [],
   "source": [
    "base_model = [SCNN()]"
   ]
  },
  {
   "cell_type": "code",
   "execution_count": 10,
   "metadata": {},
   "outputs": [],
   "source": [
    "base_model.extend([nn.Flatten(),nn.Dropout(0.2),nn.Linear(8192,256),nn.Dropout(0.2),nn.Linear(256,1)])"
   ]
  },
  {
   "cell_type": "code",
   "execution_count": 11,
   "metadata": {},
   "outputs": [],
   "source": [
    "class VggModel(pl.LightningModule):\n",
    "    def __init__(self,hparams,dset=None):\n",
    "        super().__init__()\n",
    "        self.save_hyperparameters()\n",
    "\n",
    "        \n",
    "        if hparams.framecnt != 2:\n",
    "            raise NotImplementedError\n",
    "\n",
    "        #get the complete model\n",
    "        base_model = [SCNN(hparams.framecnt*3)]\n",
    "        base_model.extend([nn.Flatten(),nn.Dropout(hparams.dropoutp),nn.Linear(8192,256),nn.Dropout(hparams.dropoutp),nn.Linear(256,1)])\n",
    "        self.net = nn.Sequential(*base_model)\n",
    "\n",
    "    def forward(self,x):\n",
    "        #keep this for inference\n",
    "        out = self.net(x)\n",
    "        return out\n",
    "\n",
    "    \n",
    "    def training_step(self,batch,batch_idx):\n",
    "        #for training\n",
    "        x,y = batch\n",
    "        y_hat = torch.squeeze(self.net(x.float()))\n",
    "\n",
    "        loss = F.l1_loss(y_hat,y.float())\n",
    "        self.log(\"train_loss\",loss,on_step=True)\n",
    "        return loss\n",
    "\n",
    "    \n",
    "    def validation_step(self,batch,batch_idx):\n",
    "        #for training\n",
    "        x,y = batch\n",
    "        y_hat = torch.squeeze(self.net(x.float()))\n",
    "\n",
    "        loss = F.l1_loss(y_hat,y.float())\n",
    "        self.log(\"val_loss\",loss,on_step=False, on_epoch=True)\n",
    "        return loss\n",
    "    \n",
    "    def configure_optimizers(self):\n",
    "        lr = self.hparams.lr if 'lr' in self.hparams else 1e-5\n",
    "        #lr=0.00001, beta_1=0.9, beta_2=0.999, decay=0.0, amsgrad=False\n",
    "        optimizer = torch.optim.Adam(self.parameters(), lr=lr,betas=(0.9,0.999),amsgrad=False)\n",
    "        return optimizer\n",
    "\n",
    "\n",
    "\n",
    "\n",
    "    "
   ]
  },
  {
   "cell_type": "code",
   "execution_count": null,
   "metadata": {},
   "outputs": [],
   "source": []
  },
  {
   "cell_type": "code",
   "execution_count": 12,
   "metadata": {},
   "outputs": [],
   "source": [
    "model = nn.Sequential(*base_model)"
   ]
  },
  {
   "cell_type": "code",
   "execution_count": 13,
   "metadata": {},
   "outputs": [],
   "source": [
    "import wandb\n",
    "import logging\n",
    "from pytorch_lightning.loggers import CSVLogger, TensorBoardLogger, WandbLogger\n",
    "from pytorch_lightning.callbacks import ModelCheckpoint\n",
    "from pytorch_lightning.callbacks.early_stopping import EarlyStopping\n",
    "import os\n",
    "\n",
    "logger = logging.getLogger(__name__)\n",
    "wandb_logger = lambda dir, version: WandbLogger(\n",
    "    name=\"wandb\", save_dir=dir, version=version\n",
    ")\n",
    "csvlogger = lambda dir, version: CSVLogger(dir, name=\"csvlogs\", version=version)\n",
    "tblogger = lambda dir, version: TensorBoardLogger(dir, name=\"tblogs\", version=version)\n",
    "\n",
    "def get_loggers(dir,version,lis=[\"csv\"]):\n",
    "    lgrs = []\n",
    "    if \"wandb\" in lis:\n",
    "        lgrs.append(wandb_logger(dir, version))\n",
    "    if \"csv\" in lis:\n",
    "        lgrs.append(csvlogger(dir, version))\n",
    "    if \"tb\" in lis:\n",
    "        lgrs.append(tblogger(dir, version))\n",
    "    return lgrs\n"
   ]
  },
  {
   "cell_type": "code",
   "execution_count": 16,
   "metadata": {},
   "outputs": [],
   "source": [
    "def run_model(cfg):\n",
    "    pl.seed_everything(cfg.seed)\n",
    "    dir = cfg.artifacts_loc\n",
    "    version = str(cfg.version)\n",
    "    logger_list = get_loggers(dir, version,cfg.loggers)\n",
    "    cbs = []\n",
    "    if \"early_stop\" in cfg.cbs:\n",
    "        #? does'nt really work atm\n",
    "        #params = cfg.model.cbs.early_stop\n",
    "        earlystopcb = EarlyStopping(monitor='val_loss',mode=\"min\",patience=3,verbose=False)\n",
    "        cbs.append(earlystopcb)\n",
    "    if \"checkpoint\" in cfg.cbs:\n",
    "        store_path = dir + \"ckpts/\" + str(cfg.version) + \"/\"\n",
    "        isExist = os.path.exists(store_path)\n",
    "        if not isExist:\n",
    "            os.makedirs(store_path)\n",
    "        fname = \"{epoch}-{val_loss:.2f}\"\n",
    "        params = cfg.checkpoint\n",
    "        checkptcb = ModelCheckpoint(**params, dirpath=store_path, filename=fname)\n",
    "        cbs.append(checkptcb)\n",
    "\n",
    "    #wandb.init(project=\"solarforecast\", config=cfg)\n",
    "    if cfg.mode == 'train':\n",
    "        trn_fdata = Dset(data_dir=cfg.data_dir,split=cfg.mode,image_dir= cfg.image_dir\\\n",
    "               )\n",
    "        vld_fdata = Dset(data_dir=cfg.data_dir,split='valid',image_dir= cfg.image_dir)\n",
    "\n",
    "        val_loader = DataLoader(vld_fdata,\\\n",
    "            batch_size=cfg.batch_size,shuffle=False,num_workers=4,pin_memory=True)\n",
    "        train_loader = DataLoader(trn_fdata,\\\n",
    "            batch_size=cfg.batch_size,shuffle=True,num_workers=4,pin_memory=True)\n",
    "            \n",
    "        hparams = cfg    \n",
    "        net = VggModel(hparams)\n",
    "        trainer = pl.Trainer(\n",
    "            logger=logger_list,callbacks=cbs, gpus=[2],deterministic=True, **cfg.trainer\n",
    "        )\n",
    "        trainer.fit(net,train_dataloaders=train_loader,val_dataloaders=val_loader)\n",
    "        return trainer\n",
    "        #trainer.tune(net,train_loader)\n",
    "            \n",
    "    else:\n",
    "        pass\n",
    "    "
   ]
  },
  {
   "cell_type": "code",
   "execution_count": 15,
   "metadata": {},
   "outputs": [],
   "source": [
    "from argparse import Namespace\n",
    "cfg = Namespace(\n",
    "    version = 'trail',\n",
    "    artifacts_loc = \"/common/home/vk405/Projects/EnergyLab/Solar-forcast/artifacts/\",\n",
    "    data_dir = \"/common/home/vk405/Projects/EnergyLab/Solar-forcast/Data/\",\n",
    "    image_dir = \"/common/users/vk405/EnergyLab/Data/ProcData/\",\n",
    "    mode = 'train',\n",
    "    loggers = [\"csv\"],\n",
    "    seed = 0,\n",
    "    cbs = [\"checkpoint\"],\n",
    "    trainer = {'log_every_n_steps': 50,\n",
    "    'max_epochs': 30},\n",
    "    checkpoint = {\"save_top_k\": 5,\n",
    "    \"monitor\": \"val_loss\",\"mode\":\"min\"},\n",
    "    dropoutp=0.2,\n",
    "    framecnt=2,\n",
    "    lr = 1.5e-5,\n",
    "    batch_size=64\n",
    ")"
   ]
  },
  {
   "cell_type": "code",
   "execution_count": 12,
   "metadata": {},
   "outputs": [
    {
     "name": "stderr",
     "output_type": "stream",
     "text": [
      "Global seed set to 0\n",
      "GPU available: True, used: True\n",
      "TPU available: False, using: 0 TPU cores\n",
      "IPU available: False, using: 0 IPUs\n",
      "LOCAL_RANK: 0 - CUDA_VISIBLE_DEVICES: [0,1,2,3]\n",
      "/common/home/vk405/miniconda3/envs/Crossmdl/lib/python3.8/site-packages/pytorch_lightning/loggers/csv_logs.py:57: UserWarning: Experiment logs directory /common/home/vk405/Projects/EnergyLab/Solar-forcast/artifacts/csvlogs/trail exists and is not empty. Previous log files in this directory will be deleted when the new ones are saved!\n",
      "  rank_zero_warn(\n",
      "\n",
      "  | Name | Type       | Params\n",
      "------------------------------------\n",
      "0 | net  | Sequential | 16.8 M\n",
      "------------------------------------\n",
      "16.8 M    Trainable params\n",
      "0         Non-trainable params\n",
      "16.8 M    Total params\n",
      "67.256    Total estimated model params size (MB)\n",
      "/common/home/vk405/miniconda3/envs/Crossmdl/lib/python3.8/site-packages/pytorch_lightning/callbacks/model_checkpoint.py:631: UserWarning: Checkpoint directory /common/home/vk405/Projects/EnergyLab/Solar-forcast/artifacts/ckpts/trail exists and is not empty.\n",
      "  rank_zero_warn(f\"Checkpoint directory {dirpath} exists and is not empty.\")\n"
     ]
    },
    {
     "name": "stdout",
     "output_type": "stream",
     "text": [
      "                                                                      "
     ]
    },
    {
     "name": "stderr",
     "output_type": "stream",
     "text": [
      "Global seed set to 0\n"
     ]
    },
    {
     "name": "stdout",
     "output_type": "stream",
     "text": [
      "Epoch 5:  41%|████      | 469/1142 [04:04<05:50,  1.92it/s, loss=0.0679, v_num=rail] "
     ]
    }
   ],
   "source": [
    "\n",
    "run_model(cfg)"
   ]
  },
  {
   "cell_type": "code",
   "execution_count": 55,
   "metadata": {},
   "outputs": [],
   "source": [
    "from prettytable import PrettyTable\n",
    "\n",
    "def count_parameters(model):\n",
    "    table = PrettyTable([\"Modules\", \"Parameters\"])\n",
    "    total_params = 0\n",
    "    for name, parameter in model.named_parameters():\n",
    "        if not parameter.requires_grad: continue\n",
    "        params = parameter.numel()\n",
    "        table.add_row([name, params])\n",
    "        total_params+=params\n",
    "    print(table)\n",
    "    print(f\"Total Trainable Params: {total_params}\")\n",
    "    return total_params"
   ]
  },
  {
   "cell_type": "code",
   "execution_count": 56,
   "metadata": {},
   "outputs": [
    {
     "name": "stdout",
     "output_type": "stream",
     "text": [
      "+-----------+------------+\n",
      "|  Modules  | Parameters |\n",
      "+-----------+------------+\n",
      "|  0.weight |    3456    |\n",
      "|   0.bias  |     64     |\n",
      "|  2.weight |   36864    |\n",
      "|   2.bias  |     64     |\n",
      "|  5.weight |   73728    |\n",
      "|   5.bias  |    128     |\n",
      "|  7.weight |   147456   |\n",
      "|   7.bias  |    128     |\n",
      "| 10.weight |   294912   |\n",
      "|  10.bias  |    256     |\n",
      "| 12.weight |   589824   |\n",
      "|  12.bias  |    256     |\n",
      "| 14.weight |   589824   |\n",
      "|  14.bias  |    256     |\n",
      "| 17.weight |  1179648   |\n",
      "|  17.bias  |    512     |\n",
      "| 19.weight |  2359296   |\n",
      "|  19.bias  |    512     |\n",
      "| 22.weight |  2359296   |\n",
      "|  22.bias  |    512     |\n",
      "| 24.weight |  2359296   |\n",
      "|  24.bias  |    512     |\n",
      "| 27.weight |  2359296   |\n",
      "|  27.bias  |    512     |\n",
      "| 29.weight |  2359296   |\n",
      "|  29.bias  |    512     |\n",
      "+-----------+------------+\n",
      "Total Trainable Params: 14716416\n"
     ]
    },
    {
     "data": {
      "text/plain": [
       "14716416"
      ]
     },
     "execution_count": 56,
     "metadata": {},
     "output_type": "execute_result"
    }
   ],
   "source": [
    "count_parameters(model)"
   ]
  },
  {
   "cell_type": "markdown",
   "metadata": {},
   "source": [
    "#some sanity check if the baseline deepmodel has trained well. Let's compare with naive forcecast model."
   ]
  },
  {
   "cell_type": "code",
   "execution_count": 3,
   "metadata": {},
   "outputs": [],
   "source": [
    "metric_file = '/common/home/vk405/Projects/EnergyLab/Solar-forcast/artifacts/csvlogs/trail/metrics.csv'\n",
    "\n",
    "data_file = pd.read_csv(metric_file)"
   ]
  },
  {
   "cell_type": "code",
   "execution_count": 4,
   "metadata": {},
   "outputs": [
    {
     "data": {
      "text/html": [
       "<div>\n",
       "<style scoped>\n",
       "    .dataframe tbody tr th:only-of-type {\n",
       "        vertical-align: middle;\n",
       "    }\n",
       "\n",
       "    .dataframe tbody tr th {\n",
       "        vertical-align: top;\n",
       "    }\n",
       "\n",
       "    .dataframe thead th {\n",
       "        text-align: right;\n",
       "    }\n",
       "</style>\n",
       "<table border=\"1\" class=\"dataframe\">\n",
       "  <thead>\n",
       "    <tr style=\"text-align: right;\">\n",
       "      <th></th>\n",
       "      <th>train_loss</th>\n",
       "      <th>epoch</th>\n",
       "      <th>step</th>\n",
       "      <th>val_loss</th>\n",
       "    </tr>\n",
       "  </thead>\n",
       "  <tbody>\n",
       "    <tr>\n",
       "      <th>0</th>\n",
       "      <td>0.161652</td>\n",
       "      <td>0</td>\n",
       "      <td>49</td>\n",
       "      <td>NaN</td>\n",
       "    </tr>\n",
       "    <tr>\n",
       "      <th>1</th>\n",
       "      <td>0.198499</td>\n",
       "      <td>0</td>\n",
       "      <td>99</td>\n",
       "      <td>NaN</td>\n",
       "    </tr>\n",
       "    <tr>\n",
       "      <th>2</th>\n",
       "      <td>0.189742</td>\n",
       "      <td>0</td>\n",
       "      <td>149</td>\n",
       "      <td>NaN</td>\n",
       "    </tr>\n",
       "    <tr>\n",
       "      <th>3</th>\n",
       "      <td>0.125779</td>\n",
       "      <td>0</td>\n",
       "      <td>199</td>\n",
       "      <td>NaN</td>\n",
       "    </tr>\n",
       "    <tr>\n",
       "      <th>4</th>\n",
       "      <td>0.095414</td>\n",
       "      <td>0</td>\n",
       "      <td>249</td>\n",
       "      <td>NaN</td>\n",
       "    </tr>\n",
       "    <tr>\n",
       "      <th>...</th>\n",
       "      <td>...</td>\n",
       "      <td>...</td>\n",
       "      <td>...</td>\n",
       "      <td>...</td>\n",
       "    </tr>\n",
       "    <tr>\n",
       "      <th>574</th>\n",
       "      <td>0.044565</td>\n",
       "      <td>29</td>\n",
       "      <td>27299</td>\n",
       "      <td>NaN</td>\n",
       "    </tr>\n",
       "    <tr>\n",
       "      <th>575</th>\n",
       "      <td>0.058814</td>\n",
       "      <td>29</td>\n",
       "      <td>27349</td>\n",
       "      <td>NaN</td>\n",
       "    </tr>\n",
       "    <tr>\n",
       "      <th>576</th>\n",
       "      <td>0.052449</td>\n",
       "      <td>29</td>\n",
       "      <td>27399</td>\n",
       "      <td>NaN</td>\n",
       "    </tr>\n",
       "    <tr>\n",
       "      <th>577</th>\n",
       "      <td>0.044258</td>\n",
       "      <td>29</td>\n",
       "      <td>27449</td>\n",
       "      <td>NaN</td>\n",
       "    </tr>\n",
       "    <tr>\n",
       "      <th>578</th>\n",
       "      <td>NaN</td>\n",
       "      <td>29</td>\n",
       "      <td>27449</td>\n",
       "      <td>0.075571</td>\n",
       "    </tr>\n",
       "  </tbody>\n",
       "</table>\n",
       "<p>579 rows × 4 columns</p>\n",
       "</div>"
      ],
      "text/plain": [
       "     train_loss  epoch   step  val_loss\n",
       "0      0.161652      0     49       NaN\n",
       "1      0.198499      0     99       NaN\n",
       "2      0.189742      0    149       NaN\n",
       "3      0.125779      0    199       NaN\n",
       "4      0.095414      0    249       NaN\n",
       "..          ...    ...    ...       ...\n",
       "574    0.044565     29  27299       NaN\n",
       "575    0.058814     29  27349       NaN\n",
       "576    0.052449     29  27399       NaN\n",
       "577    0.044258     29  27449       NaN\n",
       "578         NaN     29  27449  0.075571\n",
       "\n",
       "[579 rows x 4 columns]"
      ]
     },
     "execution_count": 4,
     "metadata": {},
     "output_type": "execute_result"
    }
   ],
   "source": []
  },
  {
   "cell_type": "code",
   "execution_count": 7,
   "metadata": {},
   "outputs": [
    {
     "data": {
      "text/plain": [
       "<AxesSubplot:>"
      ]
     },
     "execution_count": 7,
     "metadata": {},
     "output_type": "execute_result"
    },
    {
     "data": {
      "image/png": "[encoded data removed]",
      "text/plain": [
       "<Figure size 432x288 with 1 Axes>"
      ]
     },
     "metadata": {
      "needs_background": "light"
     },
     "output_type": "display_data"
    }
   ],
   "source": [
    "data_file['val_loss'].dropna().plot()\n"
   ]
  },
  {
   "cell_type": "code",
   "execution_count": 6,
   "metadata": {},
   "outputs": [
    {
     "data": {
      "text/plain": [
       "<AxesSubplot:>"
      ]
     },
     "execution_count": 6,
     "metadata": {},
     "output_type": "execute_result"
    },
    {
     "data": {
      "image/png": "[encoded data removed]",
      "text/plain": [
       "<Figure size 432x288 with 1 Axes>"
      ]
     },
     "metadata": {
      "needs_background": "light"
     },
     "output_type": "display_data"
    }
   ],
   "source": [
    "data_file['train_loss'].dropna().plot()"
   ]
  },
  {
   "cell_type": "code",
   "execution_count": 9,
   "metadata": {},
   "outputs": [],
   "source": [
    "weight_loc = '/common/home/vk405/Projects/EnergyLab/Solar-forcast/artifacts/ckpts/trail/epoch=27-val_loss=0.08.ckpt'"
   ]
  },
  {
   "cell_type": "code",
   "execution_count": null,
   "metadata": {},
   "outputs": [],
   "source": []
  },
  {
   "cell_type": "code",
   "execution_count": 13,
   "metadata": {},
   "outputs": [],
   "source": [
    "data_dir = Path('/common/home/vk405/Projects/EnergyLab/Solar-forcast/Data/')\n",
    "base_df = pd.read_csv(f'{data_dir}/tgtimgs.csv')\n",
    "vld_df = pd.DataFrame(base_df.loc[pd.to_datetime(base_df['Date']).dt.year == 2015])"
   ]
  },
  {
   "cell_type": "code",
   "execution_count": 23,
   "metadata": {},
   "outputs": [
    {
     "data": {
      "text/html": [
       "<div>\n",
       "<style scoped>\n",
       "    .dataframe tbody tr th:only-of-type {\n",
       "        vertical-align: middle;\n",
       "    }\n",
       "\n",
       "    .dataframe tbody tr th {\n",
       "        vertical-align: top;\n",
       "    }\n",
       "\n",
       "    .dataframe thead th {\n",
       "        text-align: right;\n",
       "    }\n",
       "</style>\n",
       "<table border=\"1\" class=\"dataframe\">\n",
       "  <thead>\n",
       "    <tr style=\"text-align: right;\">\n",
       "      <th></th>\n",
       "      <th>Date</th>\n",
       "      <th>MST</th>\n",
       "      <th>Imgs</th>\n",
       "      <th>Target</th>\n",
       "    </tr>\n",
       "  </thead>\n",
       "  <tbody>\n",
       "    <tr>\n",
       "      <th>175587</th>\n",
       "      <td>2015-01-01</td>\n",
       "      <td>10:00</td>\n",
       "      <td>['/common/users/vk405/EnergyLab/Data/20150101/...</td>\n",
       "      <td>305.080</td>\n",
       "    </tr>\n",
       "    <tr>\n",
       "      <th>175588</th>\n",
       "      <td>2015-01-01</td>\n",
       "      <td>10:10</td>\n",
       "      <td>['/common/users/vk405/EnergyLab/Data/20150101/...</td>\n",
       "      <td>100.016</td>\n",
       "    </tr>\n",
       "  </tbody>\n",
       "</table>\n",
       "</div>"
      ],
      "text/plain": [
       "              Date    MST                                               Imgs  \\\n",
       "175587  2015-01-01  10:00  ['/common/users/vk405/EnergyLab/Data/20150101/...   \n",
       "175588  2015-01-01  10:10  ['/common/users/vk405/EnergyLab/Data/20150101/...   \n",
       "\n",
       "         Target  \n",
       "175587  305.080  \n",
       "175588  100.016  "
      ]
     },
     "execution_count": 23,
     "metadata": {},
     "output_type": "execute_result"
    }
   ],
   "source": [
    "vld_df.head(2)"
   ]
  },
  {
   "cell_type": "code",
   "execution_count": 50,
   "metadata": {},
   "outputs": [],
   "source": [
    "trn_df = pd.DataFrame(base_df.loc[pd.to_datetime(base_df['Date']).dt.year <= 2014])\n",
    "scalar = MinMaxScaler().fit(trn_df['Target'].values.reshape(-1,1))"
   ]
  },
  {
   "cell_type": "code",
   "execution_count": 54,
   "metadata": {},
   "outputs": [
    {
     "data": {
      "text/plain": [
       "array([[254.69779416]])"
      ]
     },
     "execution_count": 54,
     "metadata": {},
     "output_type": "execute_result"
    }
   ],
   "source": [
    "scalar.inverse_transform([[0.16]])"
   ]
  },
  {
   "cell_type": "code",
   "execution_count": 22,
   "metadata": {},
   "outputs": [],
   "source": [
    "def transform(df):\n",
    "    trn_df = pd.DataFrame(base_df.loc[pd.to_datetime(base_df['Date']).dt.year <= 2014])\n",
    "    scalar = MinMaxScaler().fit(trn_df['Target'].values.reshape(-1,1))\n",
    "    df.loc[df.index[df['Target']>=1250.0],'Target'] = 1250.0\n",
    "#self.df[self.df['Target']>=1300.0]['Target'] = 1300.0\n",
    "    rescaled = scalar.transform(df['Target'].values.reshape(-1,1))\n",
    "    df['Target'] = rescaled[:,0]\n",
    "    return df\n",
    "\n",
    "        "
   ]
  },
  {
   "cell_type": "code",
   "execution_count": 17,
   "metadata": {},
   "outputs": [
    {
     "name": "stdout",
     "output_type": "stream",
     "text": [
      "20120101.csv  20150101.csv\t\t       tgtimgs.csv\n",
      "20120601.csv  SRRL_measurement_timeseries.csv\n"
     ]
    }
   ],
   "source": [
    "!ls '/common/home/vk405/Projects/EnergyLab/Solar-forcast/Data/'"
   ]
  },
  {
   "cell_type": "code",
   "execution_count": 18,
   "metadata": {},
   "outputs": [],
   "source": [
    "#get original data\n",
    "\n",
    "df_svd = pd.read_csv(os.path.join(data_dir, 'SRRL_measurement_timeseries.csv'))"
   ]
  },
  {
   "cell_type": "code",
   "execution_count": 30,
   "metadata": {},
   "outputs": [
    {
     "data": {
      "text/plain": [
       "'10:00'"
      ]
     },
     "execution_count": 30,
     "metadata": {},
     "output_type": "execute_result"
    }
   ],
   "source": [
    "#get persistance model predictios\n",
    "\n",
    "vld_df.iloc[0]['Date']\n",
    "\n",
    "vld_df.iloc[0]['MST']"
   ]
  },
  {
   "cell_type": "code",
   "execution_count": 34,
   "metadata": {},
   "outputs": [
    {
     "data": {
      "text/html": [
       "<div>\n",
       "<style scoped>\n",
       "    .dataframe tbody tr th:only-of-type {\n",
       "        vertical-align: middle;\n",
       "    }\n",
       "\n",
       "    .dataframe tbody tr th {\n",
       "        vertical-align: top;\n",
       "    }\n",
       "\n",
       "    .dataframe thead th {\n",
       "        text-align: right;\n",
       "    }\n",
       "</style>\n",
       "<table border=\"1\" class=\"dataframe\">\n",
       "  <thead>\n",
       "    <tr style=\"text-align: right;\">\n",
       "      <th></th>\n",
       "      <th>Date</th>\n",
       "      <th>MST</th>\n",
       "      <th>GHI</th>\n",
       "    </tr>\n",
       "  </thead>\n",
       "  <tbody>\n",
       "    <tr>\n",
       "      <th>2393075</th>\n",
       "      <td>2015-01-01</td>\n",
       "      <td>10:00</td>\n",
       "      <td>305.08</td>\n",
       "    </tr>\n",
       "    <tr>\n",
       "      <th>3173356</th>\n",
       "      <td>2015-01-01</td>\n",
       "      <td>10:00</td>\n",
       "      <td>305.08</td>\n",
       "    </tr>\n",
       "    <tr>\n",
       "      <th>3953637</th>\n",
       "      <td>2015-01-01</td>\n",
       "      <td>10:00</td>\n",
       "      <td>305.08</td>\n",
       "    </tr>\n",
       "  </tbody>\n",
       "</table>\n",
       "</div>"
      ],
      "text/plain": [
       "               Date    MST     GHI\n",
       "2393075  2015-01-01  10:00  305.08\n",
       "3173356  2015-01-01  10:00  305.08\n",
       "3953637  2015-01-01  10:00  305.08"
      ]
     },
     "execution_count": 34,
     "metadata": {},
     "output_type": "execute_result"
    }
   ],
   "source": [
    "df_svd[(df_svd['Date']==vld_df.iloc[0]['Date']) & (df_svd['MST'] == vld_df.iloc[0]['MST'])]"
   ]
  },
  {
   "cell_type": "code",
   "execution_count": 41,
   "metadata": {},
   "outputs": [],
   "source": [
    "one_day = df_svd[df_svd['Date']==vld_df.iloc[0]['Date']].reset_index(drop=True)"
   ]
  },
  {
   "cell_type": "code",
   "execution_count": 45,
   "metadata": {},
   "outputs": [],
   "source": [
    "one_day['roll_GHI'] = one_day['GHI'].shift(-10)\n"
   ]
  },
  {
   "cell_type": "code",
   "execution_count": 49,
   "metadata": {},
   "outputs": [
    {
     "data": {
      "text/html": [
       "<div>\n",
       "<style scoped>\n",
       "    .dataframe tbody tr th:only-of-type {\n",
       "        vertical-align: middle;\n",
       "    }\n",
       "\n",
       "    .dataframe tbody tr th {\n",
       "        vertical-align: top;\n",
       "    }\n",
       "\n",
       "    .dataframe thead th {\n",
       "        text-align: right;\n",
       "    }\n",
       "</style>\n",
       "<table border=\"1\" class=\"dataframe\">\n",
       "  <thead>\n",
       "    <tr style=\"text-align: right;\">\n",
       "      <th></th>\n",
       "      <th>Date</th>\n",
       "      <th>MST</th>\n",
       "      <th>GHI</th>\n",
       "      <th>roll_GHI</th>\n",
       "    </tr>\n",
       "  </thead>\n",
       "  <tbody>\n",
       "    <tr>\n",
       "      <th>0</th>\n",
       "      <td>2015-01-01</td>\n",
       "      <td>7:25</td>\n",
       "      <td>5.86459</td>\n",
       "      <td>28.5870</td>\n",
       "    </tr>\n",
       "    <tr>\n",
       "      <th>1</th>\n",
       "      <td>2015-01-01</td>\n",
       "      <td>7:26</td>\n",
       "      <td>6.56927</td>\n",
       "      <td>30.5948</td>\n",
       "    </tr>\n",
       "    <tr>\n",
       "      <th>2</th>\n",
       "      <td>2015-01-01</td>\n",
       "      <td>7:27</td>\n",
       "      <td>7.52287</td>\n",
       "      <td>32.4954</td>\n",
       "    </tr>\n",
       "    <tr>\n",
       "      <th>3</th>\n",
       "      <td>2015-01-01</td>\n",
       "      <td>7:28</td>\n",
       "      <td>10.23740</td>\n",
       "      <td>34.4483</td>\n",
       "    </tr>\n",
       "    <tr>\n",
       "      <th>4</th>\n",
       "      <td>2015-01-01</td>\n",
       "      <td>7:29</td>\n",
       "      <td>14.95910</td>\n",
       "      <td>36.4776</td>\n",
       "    </tr>\n",
       "    <tr>\n",
       "      <th>...</th>\n",
       "      <td>...</td>\n",
       "      <td>...</td>\n",
       "      <td>...</td>\n",
       "      <td>...</td>\n",
       "    </tr>\n",
       "    <tr>\n",
       "      <th>1675</th>\n",
       "      <td>2015-01-01</td>\n",
       "      <td>16:40</td>\n",
       "      <td>4.10389</td>\n",
       "      <td>NaN</td>\n",
       "    </tr>\n",
       "    <tr>\n",
       "      <th>1676</th>\n",
       "      <td>2015-01-01</td>\n",
       "      <td>16:41</td>\n",
       "      <td>3.67173</td>\n",
       "      <td>NaN</td>\n",
       "    </tr>\n",
       "    <tr>\n",
       "      <th>1677</th>\n",
       "      <td>2015-01-01</td>\n",
       "      <td>16:42</td>\n",
       "      <td>3.37306</td>\n",
       "      <td>NaN</td>\n",
       "    </tr>\n",
       "    <tr>\n",
       "      <th>1678</th>\n",
       "      <td>2015-01-01</td>\n",
       "      <td>16:43</td>\n",
       "      <td>3.00862</td>\n",
       "      <td>NaN</td>\n",
       "    </tr>\n",
       "    <tr>\n",
       "      <th>1679</th>\n",
       "      <td>2015-01-01</td>\n",
       "      <td>16:44</td>\n",
       "      <td>2.69260</td>\n",
       "      <td>NaN</td>\n",
       "    </tr>\n",
       "  </tbody>\n",
       "</table>\n",
       "<p>1680 rows × 4 columns</p>\n",
       "</div>"
      ],
      "text/plain": [
       "            Date    MST       GHI  roll_GHI\n",
       "0     2015-01-01   7:25   5.86459   28.5870\n",
       "1     2015-01-01   7:26   6.56927   30.5948\n",
       "2     2015-01-01   7:27   7.52287   32.4954\n",
       "3     2015-01-01   7:28  10.23740   34.4483\n",
       "4     2015-01-01   7:29  14.95910   36.4776\n",
       "...          ...    ...       ...       ...\n",
       "1675  2015-01-01  16:40   4.10389       NaN\n",
       "1676  2015-01-01  16:41   3.67173       NaN\n",
       "1677  2015-01-01  16:42   3.37306       NaN\n",
       "1678  2015-01-01  16:43   3.00862       NaN\n",
       "1679  2015-01-01  16:44   2.69260       NaN\n",
       "\n",
       "[1680 rows x 4 columns]"
      ]
     },
     "execution_count": 49,
     "metadata": {},
     "output_type": "execute_result"
    }
   ],
   "source": [
    "one_day"
   ]
  },
  {
   "cell_type": "code",
   "execution_count": null,
   "metadata": {},
   "outputs": [],
   "source": []
  }
 ],
 "metadata": {
  "interpreter": {
   "hash": "ba0eaf5009993b745d4aa7d6cba132d7a7c20d53b6841ddae3db28e24457bb23"
  },
  "kernelspec": {
   "display_name": "Python 3.8.12 ('Crossmdl')",
   "language": "python",
   "name": "python3"
  },
  "language_info": {
   "codemirror_mode": {
    "name": "ipython",
    "version": 3
   },
   "file_extension": ".py",
   "mimetype": "text/x-python",
   "name": "python",
   "nbconvert_exporter": "python",
   "pygments_lexer": "ipython3",
   "version": "3.8.12"
  },
  "orig_nbformat": 4
 },
 "nbformat": 4,
 "nbformat_minor": 2
}
