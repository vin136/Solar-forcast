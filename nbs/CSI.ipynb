{
 "cells": [
  {
   "cell_type": "code",
   "execution_count": 1,
   "metadata": {},
   "outputs": [],
   "source": [
    "import numpy as np\n",
    "import pvlib\n",
    "from pathlib import Path\n",
    "import pandas as pd\n",
    "from datetime import datetime\n",
    "import os\n",
    "from tqdm import tqdm\n",
    "data_dir =Path('/common/home/vk405/Projects/EnergyLab/Solar-forcast/Data/')\n",
    "image_dir = Path('/common/users/vk405/EnergyLab/Data')\n",
    "proc_data_dir = Path('/common/users/vk405/EnergyLab/Data/ProcData')\n",
    "df = pd.read_csv(f'{data_dir}/tgtimgs.csv')\n",
    "\n"
   ]
  },
  {
   "cell_type": "code",
   "execution_count": null,
   "metadata": {},
   "outputs": [],
   "source": []
  },
  {
   "cell_type": "code",
   "execution_count": 166,
   "metadata": {},
   "outputs": [],
   "source": [
    "def get_absolute_airmass(airmass_relative, pressure=101325.):\n",
    "    r'''\n",
    "    Determine absolute (pressure-adjusted) airmass from relative\n",
    "    airmass and pressure.\n",
    "\n",
    "    The calculation for absolute airmass (:math:`AM_a`) is\n",
    "\n",
    "    .. math::\n",
    "        AM_a = AM_r \\frac{P}{101325}\n",
    "\n",
    "    where :math:`AM_r` is relative air mass at sea level and :math:`P` is\n",
    "    atmospheric pressure.\n",
    "\n",
    "    Parameters\n",
    "    ----------\n",
    "    airmass_relative : numeric\n",
    "        The airmass at sea level. [unitless]\n",
    "\n",
    "    pressure : numeric, default 101325\n",
    "        Atmospheric pressure. [Pa]\n",
    "\n",
    "    Returns\n",
    "    -------\n",
    "    airmass_absolute : numeric\n",
    "        Absolute (pressure-adjusted) airmass\n",
    "\n",
    "    References\n",
    "    ----------\n",
    "    .. [1] C. Gueymard, \"Critical analysis and performance assessment of\n",
    "       clear sky solar irradiance models using theoretical and measured\n",
    "       data,\" Solar Energy, vol. 51, pp. 121-138, 1993.\n",
    "    '''\n",
    "\n",
    "    airmass_absolute = airmass_relative * pressure / 101325.\n",
    "\n",
    "    return airmass_absolute"
   ]
  },
  {
   "cell_type": "code",
   "execution_count": 167,
   "metadata": {},
   "outputs": [],
   "source": [
    "def combine_dfs(data_dir,date_start='2012-01-01',date_end='2017-11-30',save=False,\\\n",
    "    files=['20120101.csv','20120601.csv','20150101.csv']):\n",
    "    to_combine = []\n",
    "    if not files:\n",
    "        files = os.listdir(data_dir)\n",
    "    for file in files:\n",
    "        df1 = pd.read_csv(data_dir/file).dropna()\n",
    "        df1.columns.values[[0,2,3]] = ['Date','Dni','Zenith']\n",
    "        to_combine.append(df1.iloc[:,:])\n",
    "    df_combine = pd.concat(to_combine,axis=0)\n",
    "    df_combine['Date'] = pd.to_datetime(df_combine['Date'])\n",
    "    mask = (df_combine['Date'] >= datetime.strptime(str(date_start), '%Y-%m-%d')) & (df_combine['Date'] <= datetime.strptime(\n",
    "                str(date_end), '%Y-%m-%d'))\n",
    "    df_final = df_combine.loc[mask]\n",
    "    if save:\n",
    "        df_final.to_csv(os.path.join(data_dir, 'SRRL_measurement_timeseries.csv'), index=False)\n",
    "    return df_final"
   ]
  },
  {
   "cell_type": "code",
   "execution_count": 168,
   "metadata": {},
   "outputs": [],
   "source": [
    "comb_df = combine_dfs(data_dir/'CSI_data')"
   ]
  },
  {
   "cell_type": "code",
   "execution_count": 169,
   "metadata": {},
   "outputs": [
    {
     "data": {
      "text/plain": [
       "'2012-01-01'"
      ]
     },
     "execution_count": 169,
     "metadata": {},
     "output_type": "execute_result"
    }
   ],
   "source": [
    "comb_df['Date'].iloc[0].strftime('%Y-%m-%d')"
   ]
  },
  {
   "cell_type": "code",
   "execution_count": null,
   "metadata": {},
   "outputs": [],
   "source": [
    "dt_lis = []\n",
    "for i in tqdm(range(len(comb_df))):\n",
    "    dt = ' '.join([comb_df.iloc[i]['Date'].strftime('%Y-%m-%d'),comb_df.iloc[i]['MST']])\n",
    "    dt_lis.append(dt)"
   ]
  },
  {
   "cell_type": "code",
   "execution_count": null,
   "metadata": {},
   "outputs": [],
   "source": [
    "comb_df['DateTime'] = dt_lis"
   ]
  },
  {
   "cell_type": "code",
   "execution_count": null,
   "metadata": {},
   "outputs": [
    {
     "data": {
      "text/html": [
       "<div>\n",
       "<style scoped>\n",
       "    .dataframe tbody tr th:only-of-type {\n",
       "        vertical-align: middle;\n",
       "    }\n",
       "\n",
       "    .dataframe tbody tr th {\n",
       "        vertical-align: top;\n",
       "    }\n",
       "\n",
       "    .dataframe thead th {\n",
       "        text-align: right;\n",
       "    }\n",
       "</style>\n",
       "<table border=\"1\" class=\"dataframe\">\n",
       "  <thead>\n",
       "    <tr style=\"text-align: right;\">\n",
       "      <th></th>\n",
       "      <th>Date</th>\n",
       "      <th>MST</th>\n",
       "      <th>Dni</th>\n",
       "      <th>Zenith</th>\n",
       "      <th>Airmass</th>\n",
       "      <th>DateTime</th>\n",
       "    </tr>\n",
       "  </thead>\n",
       "  <tbody>\n",
       "    <tr>\n",
       "      <th>0</th>\n",
       "      <td>2012-01-01</td>\n",
       "      <td>07:25</td>\n",
       "      <td>1413.778</td>\n",
       "      <td>89.86485</td>\n",
       "      <td>35.97313</td>\n",
       "      <td>2012-01-01 07:25</td>\n",
       "    </tr>\n",
       "    <tr>\n",
       "      <th>1</th>\n",
       "      <td>2012-01-01</td>\n",
       "      <td>07:26</td>\n",
       "      <td>1413.778</td>\n",
       "      <td>89.72035</td>\n",
       "      <td>34.03509</td>\n",
       "      <td>2012-01-01 07:26</td>\n",
       "    </tr>\n",
       "  </tbody>\n",
       "</table>\n",
       "</div>"
      ],
      "text/plain": [
       "        Date    MST       Dni    Zenith   Airmass          DateTime\n",
       "0 2012-01-01  07:25  1413.778  89.86485  35.97313  2012-01-01 07:25\n",
       "1 2012-01-01  07:26  1413.778  89.72035  34.03509  2012-01-01 07:26"
      ]
     },
     "execution_count": 41,
     "metadata": {},
     "output_type": "execute_result"
    }
   ],
   "source": [
    "comb_df.head(2)"
   ]
  },
  {
   "cell_type": "code",
   "execution_count": null,
   "metadata": {},
   "outputs": [],
   "source": [
    "df = pd.read_csv(data_dir/'SRRL_measurement_timeseries.csv')"
   ]
  },
  {
   "cell_type": "code",
   "execution_count": null,
   "metadata": {},
   "outputs": [
    {
     "data": {
      "text/html": [
       "<div>\n",
       "<style scoped>\n",
       "    .dataframe tbody tr th:only-of-type {\n",
       "        vertical-align: middle;\n",
       "    }\n",
       "\n",
       "    .dataframe tbody tr th {\n",
       "        vertical-align: top;\n",
       "    }\n",
       "\n",
       "    .dataframe thead th {\n",
       "        text-align: right;\n",
       "    }\n",
       "</style>\n",
       "<table border=\"1\" class=\"dataframe\">\n",
       "  <thead>\n",
       "    <tr style=\"text-align: right;\">\n",
       "      <th></th>\n",
       "      <th>Date</th>\n",
       "      <th>MST</th>\n",
       "      <th>GHI</th>\n",
       "      <th>DateTime</th>\n",
       "    </tr>\n",
       "  </thead>\n",
       "  <tbody>\n",
       "    <tr>\n",
       "      <th>0</th>\n",
       "      <td>2012-01-01</td>\n",
       "      <td>07:25</td>\n",
       "      <td>10.991</td>\n",
       "      <td>2012-01-01 07:25</td>\n",
       "    </tr>\n",
       "    <tr>\n",
       "      <th>1</th>\n",
       "      <td>2012-01-01</td>\n",
       "      <td>07:26</td>\n",
       "      <td>12.329</td>\n",
       "      <td>2012-01-01 07:26</td>\n",
       "    </tr>\n",
       "  </tbody>\n",
       "</table>\n",
       "</div>"
      ],
      "text/plain": [
       "         Date    MST     GHI          DateTime\n",
       "0  2012-01-01  07:25  10.991  2012-01-01 07:25\n",
       "1  2012-01-01  07:26  12.329  2012-01-01 07:26"
      ]
     },
     "execution_count": 40,
     "metadata": {},
     "output_type": "execute_result"
    }
   ],
   "source": [
    "df.head(2)"
   ]
  },
  {
   "cell_type": "code",
   "execution_count": null,
   "metadata": {},
   "outputs": [],
   "source": [
    "merged_inner = pd.merge(left=df, right=comb_df, left_on='DateTime', right_on='DateTime')"
   ]
  },
  {
   "cell_type": "code",
   "execution_count": null,
   "metadata": {},
   "outputs": [],
   "source": [
    "merged_inner.drop(['Date_y','MST_y'],axis=1,inplace=True)"
   ]
  },
  {
   "cell_type": "code",
   "execution_count": null,
   "metadata": {},
   "outputs": [],
   "source": [
    "merged_inner.columns.values[[0,1]] = ['Date','MST']"
   ]
  },
  {
   "cell_type": "code",
   "execution_count": null,
   "metadata": {},
   "outputs": [],
   "source": [
    "#merged_inner.to_csv(os.path.join(data_dir, 'Full_SRRL_measurement_timeseries.csv'), index=False)"
   ]
  },
  {
   "cell_type": "code",
   "execution_count": null,
   "metadata": {},
   "outputs": [
    {
     "name": "stderr",
     "output_type": "stream",
     "text": [
      "100%|██████████| 1317114/1317114 [06:58<00:00, 3145.22it/s]\n"
     ]
    }
   ],
   "source": [
    "altitude = 1828.8 \n",
    "turbidity = 4.0\n",
    "clear_sky_ghi = []\n",
    "for i in tqdm(range(len(merged_inner))):\n",
    "    airmass_abs = get_absolute_airmass(merged_inner.iloc[i]['Airmass'])\n",
    "    ghi = pvlib.clearsky.ineichen(merged_inner.iloc[i]['Zenith'],airmass_abs,\\\n",
    "            turbidity,altitude,dni_extra=merged_inner.iloc[i]['Dni'])['ghi']\n",
    "    clear_sky_ghi.append(ghi)"
   ]
  },
  {
   "cell_type": "code",
   "execution_count": null,
   "metadata": {},
   "outputs": [],
   "source": [
    "\n",
    "# merged_inner['CSGHI'] = clear_sky_ghi\n",
    "# merged_inner.to_csv(os.path.join(data_dir, 'Full_SRRL_measurement_timeseries.csv'), index=False)\n"
   ]
  },
  {
   "cell_type": "code",
   "execution_count": 3,
   "metadata": {},
   "outputs": [],
   "source": [
    "merged_inner = pd.read_csv(os.path.join(data_dir, 'Full_SRRL_measurement_timeseries.csv'))"
   ]
  },
  {
   "cell_type": "code",
   "execution_count": null,
   "metadata": {},
   "outputs": [],
   "source": []
  },
  {
   "cell_type": "code",
   "execution_count": null,
   "metadata": {},
   "outputs": [],
   "source": []
  },
  {
   "cell_type": "code",
   "execution_count": 4,
   "metadata": {},
   "outputs": [
    {
     "data": {
      "text/plain": [
       "2.609869239896448e-06"
      ]
     },
     "execution_count": 4,
     "metadata": {},
     "output_type": "execute_result"
    }
   ],
   "source": [
    "(merged_inner['CSGHI']).min()"
   ]
  },
  {
   "cell_type": "code",
   "execution_count": null,
   "metadata": {},
   "outputs": [
    {
     "data": {
      "text/plain": [
       "1029.0682113155144"
      ]
     },
     "execution_count": 83,
     "metadata": {},
     "output_type": "execute_result"
    }
   ],
   "source": [
    "(merged_inner['CSGHI']).max()"
   ]
  },
  {
   "cell_type": "code",
   "execution_count": null,
   "metadata": {},
   "outputs": [],
   "source": [
    "out = merged_inner['GHI']/merged_inner['CSGHI']\n",
    "merged_inner['tgt'] = out"
   ]
  },
  {
   "cell_type": "code",
   "execution_count": null,
   "metadata": {},
   "outputs": [
    {
     "data": {
      "text/plain": [
       "7.342885683055639"
      ]
     },
     "execution_count": 120,
     "metadata": {},
     "output_type": "execute_result"
    }
   ],
   "source": [
    "merged_inner['tgt'].quantile(0.97)"
   ]
  },
  {
   "cell_type": "code",
   "execution_count": null,
   "metadata": {},
   "outputs": [
    {
     "data": {
      "text/plain": [
       "7.342885683055639"
      ]
     },
     "execution_count": 121,
     "metadata": {},
     "output_type": "execute_result"
    }
   ],
   "source": [
    "inpute_val = merged_inner['tgt'].quantile(0.97)\n",
    "inpute_val"
   ]
  },
  {
   "cell_type": "code",
   "execution_count": null,
   "metadata": {},
   "outputs": [
    {
     "data": {
      "text/plain": [
       "[]"
      ]
     },
     "execution_count": 122,
     "metadata": {},
     "output_type": "execute_result"
    },
    {
     "data": {
      "image/png": "[encoded data removed]",
      "text/plain": [
       "<Figure size 432x288 with 1 Axes>"
      ]
     },
     "metadata": {
      "needs_background": "light"
     },
     "output_type": "display_data"
    }
   ],
   "source": [
    "merged_inner[merged_inner['tgt']>=inpute_val]['GHI'].hist().plot()"
   ]
  },
  {
   "cell_type": "code",
   "execution_count": null,
   "metadata": {},
   "outputs": [],
   "source": [
    "merged_inner['mod_tgt'] = merged_inner['tgt']\n",
    "merged_inner.loc[merged_inner.index[merged_inner['tgt']>=inpute_val],'mod_tgt'] = inpute_val"
   ]
  },
  {
   "cell_type": "code",
   "execution_count": null,
   "metadata": {},
   "outputs": [
    {
     "data": {
      "text/plain": [
       "[]"
      ]
     },
     "execution_count": 114,
     "metadata": {},
     "output_type": "execute_result"
    },
    {
     "data": {
      "image/png": "[encoded data removed]",
      "text/plain": [
       "<Figure size 432x288 with 1 Axes>"
      ]
     },
     "metadata": {
      "needs_background": "light"
     },
     "output_type": "display_data"
    }
   ],
   "source": [
    "merged_inner['mod_tgt'].hist().plot()"
   ]
  },
  {
   "cell_type": "code",
   "execution_count": null,
   "metadata": {},
   "outputs": [
    {
     "data": {
      "text/plain": [
       "[]"
      ]
     },
     "execution_count": 124,
     "metadata": {},
     "output_type": "execute_result"
    },
    {
     "data": {
      "image/png": "[encoded data removed]",
      "text/plain": [
       "<Figure size 432x288 with 1 Axes>"
      ]
     },
     "metadata": {
      "needs_background": "light"
     },
     "output_type": "display_data"
    }
   ],
   "source": [
    "merged_inner['GHI'].hist().plot()"
   ]
  },
  {
   "cell_type": "code",
   "execution_count": null,
   "metadata": {},
   "outputs": [
    {
     "data": {
      "text/plain": [
       "<AxesSubplot:xlabel='MST'>"
      ]
     },
     "execution_count": 131,
     "metadata": {},
     "output_type": "execute_result"
    },
    {
     "data": {
      "image/png": "[encoded data removed]",
      "text/plain": [
       "<Figure size 432x288 with 1 Axes>"
      ]
     },
     "metadata": {
      "needs_background": "light"
     },
     "output_type": "display_data"
    }
   ],
   "source": [
    "#due to high correlation between the values the prediction task becomes easy as can be seen in the distribution.\n",
    "\n",
    "\n",
    "merged_inner[merged_inner['Date'] == '2014-11-03'].plot(x= 'MST',y=['GHI','CSGHI','tgt','mod_tgt'])"
   ]
  },
  {
   "cell_type": "code",
   "execution_count": null,
   "metadata": {},
   "outputs": [
    {
     "data": {
      "text/plain": [
       "<AxesSubplot:>"
      ]
     },
     "execution_count": 138,
     "metadata": {},
     "output_type": "execute_result"
    },
    {
     "data": {
      "image/png": "[encoded data removed]",
      "text/plain": [
       "<Figure size 432x288 with 1 Axes>"
      ]
     },
     "metadata": {
      "needs_background": "light"
     },
     "output_type": "display_data"
    }
   ],
   "source": [
    "merged_inner[merged_inner['Date'] == '2014-11-03'][merged_inner[merged_inner['Date'] == '2014-11-03']['mod_tgt']<=3]['mod_tgt'].plot()"
   ]
  },
  {
   "cell_type": "code",
   "execution_count": null,
   "metadata": {},
   "outputs": [],
   "source": [
    "merged_inner['10ma_tgt'] = merged_inner['tgt'].rolling(10).mean().shift(-10)\n",
    "#rolling(10).mean()"
   ]
  },
  {
   "cell_type": "code",
   "execution_count": null,
   "metadata": {},
   "outputs": [],
   "source": [
    "fin_merged = merged_inner.dropna()"
   ]
  },
  {
   "cell_type": "code",
   "execution_count": null,
   "metadata": {},
   "outputs": [
    {
     "data": {
      "text/plain": [
       "count    1.317104e+06\n",
       "mean     1.599539e+01\n",
       "std      5.395915e+02\n",
       "min      0.000000e+00\n",
       "25%      5.502860e-01\n",
       "50%      1.010000e+00\n",
       "75%      1.175444e+00\n",
       "max      1.088986e+05\n",
       "Name: 10ma_tgt, dtype: float64"
      ]
     },
     "execution_count": 155,
     "metadata": {},
     "output_type": "execute_result"
    }
   ],
   "source": [
    "fin_merged['10ma_tgt'].describe()"
   ]
  },
  {
   "cell_type": "code",
   "execution_count": null,
   "metadata": {},
   "outputs": [
    {
     "data": {
      "text/plain": [
       "[]"
      ]
     },
     "execution_count": 162,
     "metadata": {},
     "output_type": "execute_result"
    },
    {
     "data": {
      "image/png": "[encoded data removed]",
      "text/plain": [
       "<Figure size 432x288 with 1 Axes>"
      ]
     },
     "metadata": {
      "needs_background": "light"
     },
     "output_type": "display_data"
    }
   ],
   "source": [
    "fin_merged[fin_merged['10ma_tgt']>=fin_merged['10ma_tgt'].quantile(0.96)]['GHI'].hist().plot()"
   ]
  },
  {
   "cell_type": "code",
   "execution_count": 171,
   "metadata": {},
   "outputs": [
    {
     "data": {
      "text/html": [
       "<div>\n",
       "<style scoped>\n",
       "    .dataframe tbody tr th:only-of-type {\n",
       "        vertical-align: middle;\n",
       "    }\n",
       "\n",
       "    .dataframe tbody tr th {\n",
       "        vertical-align: top;\n",
       "    }\n",
       "\n",
       "    .dataframe thead th {\n",
       "        text-align: right;\n",
       "    }\n",
       "</style>\n",
       "<table border=\"1\" class=\"dataframe\">\n",
       "  <thead>\n",
       "    <tr style=\"text-align: right;\">\n",
       "      <th></th>\n",
       "      <th>Date</th>\n",
       "      <th>MST</th>\n",
       "      <th>GHI</th>\n",
       "      <th>DateTime</th>\n",
       "      <th>Dni</th>\n",
       "      <th>Zenith</th>\n",
       "      <th>Airmass</th>\n",
       "      <th>CSGHI</th>\n",
       "      <th>tgt</th>\n",
       "      <th>mod_tgt</th>\n",
       "      <th>10ma_tgt</th>\n",
       "    </tr>\n",
       "  </thead>\n",
       "  <tbody>\n",
       "    <tr>\n",
       "      <th>0</th>\n",
       "      <td>2012-01-01</td>\n",
       "      <td>07:25</td>\n",
       "      <td>10.991</td>\n",
       "      <td>2012-01-01 07:25</td>\n",
       "      <td>1413.778</td>\n",
       "      <td>89.86485</td>\n",
       "      <td>35.97313</td>\n",
       "      <td>0.008625</td>\n",
       "      <td>1274.291555</td>\n",
       "      <td>7.342886</td>\n",
       "      <td>129.033106</td>\n",
       "    </tr>\n",
       "    <tr>\n",
       "      <th>1</th>\n",
       "      <td>2012-01-01</td>\n",
       "      <td>07:26</td>\n",
       "      <td>12.329</td>\n",
       "      <td>2012-01-01 07:26</td>\n",
       "      <td>1413.778</td>\n",
       "      <td>89.72035</td>\n",
       "      <td>34.03509</td>\n",
       "      <td>0.024549</td>\n",
       "      <td>502.227473</td>\n",
       "      <td>7.342886</td>\n",
       "      <td>80.127671</td>\n",
       "    </tr>\n",
       "    <tr>\n",
       "      <th>2</th>\n",
       "      <td>2012-01-01</td>\n",
       "      <td>07:27</td>\n",
       "      <td>13.698</td>\n",
       "      <td>2012-01-01 07:27</td>\n",
       "      <td>1413.778</td>\n",
       "      <td>89.57500</td>\n",
       "      <td>32.22821</td>\n",
       "      <td>0.050222</td>\n",
       "      <td>272.751410</td>\n",
       "      <td>7.342886</td>\n",
       "      <td>53.882535</td>\n",
       "    </tr>\n",
       "  </tbody>\n",
       "</table>\n",
       "</div>"
      ],
      "text/plain": [
       "         Date    MST     GHI          DateTime       Dni    Zenith   Airmass  \\\n",
       "0  2012-01-01  07:25  10.991  2012-01-01 07:25  1413.778  89.86485  35.97313   \n",
       "1  2012-01-01  07:26  12.329  2012-01-01 07:26  1413.778  89.72035  34.03509   \n",
       "2  2012-01-01  07:27  13.698  2012-01-01 07:27  1413.778  89.57500  32.22821   \n",
       "\n",
       "      CSGHI          tgt   mod_tgt    10ma_tgt  \n",
       "0  0.008625  1274.291555  7.342886  129.033106  \n",
       "1  0.024549   502.227473  7.342886   80.127671  \n",
       "2  0.050222   272.751410  7.342886   53.882535  "
      ]
     },
     "execution_count": 171,
     "metadata": {},
     "output_type": "execute_result"
    }
   ],
   "source": [
    "fin_merged.head(3)"
   ]
  },
  {
   "cell_type": "code",
   "execution_count": 172,
   "metadata": {},
   "outputs": [],
   "source": [
    "#fin_merged.to_csv(os.path.join(data_dir, 'Full_SRRL_measurement_timeseries.csv'), index=False)"
   ]
  },
  {
   "cell_type": "code",
   "execution_count": 173,
   "metadata": {},
   "outputs": [
    {
     "data": {
      "text/html": [
       "<div>\n",
       "<style scoped>\n",
       "    .dataframe tbody tr th:only-of-type {\n",
       "        vertical-align: middle;\n",
       "    }\n",
       "\n",
       "    .dataframe tbody tr th {\n",
       "        vertical-align: top;\n",
       "    }\n",
       "\n",
       "    .dataframe thead th {\n",
       "        text-align: right;\n",
       "    }\n",
       "</style>\n",
       "<table border=\"1\" class=\"dataframe\">\n",
       "  <thead>\n",
       "    <tr style=\"text-align: right;\">\n",
       "      <th></th>\n",
       "      <th>Date</th>\n",
       "      <th>MST</th>\n",
       "      <th>GHI</th>\n",
       "      <th>DateTime</th>\n",
       "      <th>Dni</th>\n",
       "      <th>Zenith</th>\n",
       "      <th>Airmass</th>\n",
       "      <th>CSGHI</th>\n",
       "      <th>tgt</th>\n",
       "      <th>mod_tgt</th>\n",
       "      <th>10ma_tgt</th>\n",
       "    </tr>\n",
       "  </thead>\n",
       "  <tbody>\n",
       "    <tr>\n",
       "      <th>1317101</th>\n",
       "      <td>2017-11-30</td>\n",
       "      <td>16:22</td>\n",
       "      <td>11.4936</td>\n",
       "      <td>2017-11-30 16:22</td>\n",
       "      <td>1405.855</td>\n",
       "      <td>88.08384</td>\n",
       "      <td>19.88829</td>\n",
       "      <td>1.714075</td>\n",
       "      <td>6.705424</td>\n",
       "      <td>6.705424</td>\n",
       "      <td>42.211431</td>\n",
       "    </tr>\n",
       "    <tr>\n",
       "      <th>1317102</th>\n",
       "      <td>2017-11-30</td>\n",
       "      <td>16:23</td>\n",
       "      <td>10.8756</td>\n",
       "      <td>2017-11-30 16:23</td>\n",
       "      <td>1405.856</td>\n",
       "      <td>88.23911</td>\n",
       "      <td>20.78075</td>\n",
       "      <td>1.360136</td>\n",
       "      <td>7.995967</td>\n",
       "      <td>7.342886</td>\n",
       "      <td>71.184187</td>\n",
       "    </tr>\n",
       "    <tr>\n",
       "      <th>1317103</th>\n",
       "      <td>2017-11-30</td>\n",
       "      <td>16:24</td>\n",
       "      <td>10.3137</td>\n",
       "      <td>2017-11-30 16:24</td>\n",
       "      <td>1405.856</td>\n",
       "      <td>88.39391</td>\n",
       "      <td>21.74016</td>\n",
       "      <td>1.059466</td>\n",
       "      <td>9.734807</td>\n",
       "      <td>7.342886</td>\n",
       "      <td>164.812736</td>\n",
       "    </tr>\n",
       "  </tbody>\n",
       "</table>\n",
       "</div>"
      ],
      "text/plain": [
       "               Date    MST      GHI          DateTime       Dni    Zenith  \\\n",
       "1317101  2017-11-30  16:22  11.4936  2017-11-30 16:22  1405.855  88.08384   \n",
       "1317102  2017-11-30  16:23  10.8756  2017-11-30 16:23  1405.856  88.23911   \n",
       "1317103  2017-11-30  16:24  10.3137  2017-11-30 16:24  1405.856  88.39391   \n",
       "\n",
       "          Airmass     CSGHI       tgt   mod_tgt    10ma_tgt  \n",
       "1317101  19.88829  1.714075  6.705424  6.705424   42.211431  \n",
       "1317102  20.78075  1.360136  7.995967  7.342886   71.184187  \n",
       "1317103  21.74016  1.059466  9.734807  7.342886  164.812736  "
      ]
     },
     "execution_count": 173,
     "metadata": {},
     "output_type": "execute_result"
    }
   ],
   "source": [
    "fin_merged.tail(3)"
   ]
  },
  {
   "cell_type": "code",
   "execution_count": 57,
   "metadata": {},
   "outputs": [],
   "source": [
    "base_df = pd.read_csv(f'{data_dir}/tgtimgs.csv')"
   ]
  },
  {
   "cell_type": "code",
   "execution_count": 175,
   "metadata": {},
   "outputs": [
    {
     "data": {
      "text/html": [
       "<div>\n",
       "<style scoped>\n",
       "    .dataframe tbody tr th:only-of-type {\n",
       "        vertical-align: middle;\n",
       "    }\n",
       "\n",
       "    .dataframe tbody tr th {\n",
       "        vertical-align: top;\n",
       "    }\n",
       "\n",
       "    .dataframe thead th {\n",
       "        text-align: right;\n",
       "    }\n",
       "</style>\n",
       "<table border=\"1\" class=\"dataframe\">\n",
       "  <thead>\n",
       "    <tr style=\"text-align: right;\">\n",
       "      <th></th>\n",
       "      <th>Date</th>\n",
       "      <th>MST</th>\n",
       "      <th>Imgs</th>\n",
       "      <th>Target</th>\n",
       "    </tr>\n",
       "  </thead>\n",
       "  <tbody>\n",
       "    <tr>\n",
       "      <th>0</th>\n",
       "      <td>2012-01-01</td>\n",
       "      <td>07:40</td>\n",
       "      <td>['/common/users/vk405/EnergyLab/Data/20120101/...</td>\n",
       "      <td>26.5878</td>\n",
       "    </tr>\n",
       "    <tr>\n",
       "      <th>1</th>\n",
       "      <td>2012-01-01</td>\n",
       "      <td>07:50</td>\n",
       "      <td>['/common/users/vk405/EnergyLab/Data/20120101/...</td>\n",
       "      <td>42.4806</td>\n",
       "    </tr>\n",
       "  </tbody>\n",
       "</table>\n",
       "</div>"
      ],
      "text/plain": [
       "         Date    MST                                               Imgs  \\\n",
       "0  2012-01-01  07:40  ['/common/users/vk405/EnergyLab/Data/20120101/...   \n",
       "1  2012-01-01  07:50  ['/common/users/vk405/EnergyLab/Data/20120101/...   \n",
       "\n",
       "    Target  \n",
       "0  26.5878  \n",
       "1  42.4806  "
      ]
     },
     "execution_count": 175,
     "metadata": {},
     "output_type": "execute_result"
    }
   ],
   "source": [
    "base_df.head(2)"
   ]
  },
  {
   "cell_type": "code",
   "execution_count": 176,
   "metadata": {},
   "outputs": [
    {
     "data": {
      "text/plain": [
       "Date       object\n",
       "MST        object\n",
       "Imgs       object\n",
       "Target    float64\n",
       "dtype: object"
      ]
     },
     "execution_count": 176,
     "metadata": {},
     "output_type": "execute_result"
    }
   ],
   "source": [
    "base_df.dtypes"
   ]
  },
  {
   "cell_type": "code",
   "execution_count": 188,
   "metadata": {},
   "outputs": [
    {
     "name": "stderr",
     "output_type": "stream",
     "text": [
      "100%|██████████| 100887/100887 [00:14<00:00, 6805.26it/s]\n"
     ]
    }
   ],
   "source": [
    "base_dts = []\n",
    "\n",
    "for i in tqdm(range(len(base_df))):\n",
    "    dt = ' '.join([base_df.iloc[i]['Date'],base_df.iloc[i]['MST']])\n",
    "    base_dts.append(dt)\n",
    "    \n",
    "    "
   ]
  },
  {
   "cell_type": "code",
   "execution_count": 194,
   "metadata": {},
   "outputs": [
    {
     "data": {
      "text/plain": [
       "100887"
      ]
     },
     "execution_count": 194,
     "metadata": {},
     "output_type": "execute_result"
    }
   ],
   "source": [
    "len(base_dts)"
   ]
  },
  {
   "cell_type": "code",
   "execution_count": 196,
   "metadata": {},
   "outputs": [],
   "source": [
    "base_df['DateTime'] = base_dts"
   ]
  },
  {
   "cell_type": "code",
   "execution_count": 203,
   "metadata": {},
   "outputs": [],
   "source": [
    "base_df_ddp = base_df.drop_duplicates(subset=['DateTime'])\n",
    "fin_merged_ddp = fin_merged.drop_duplicates(subset=['DateTime'])"
   ]
  },
  {
   "cell_type": "code",
   "execution_count": null,
   "metadata": {},
   "outputs": [],
   "source": []
  },
  {
   "cell_type": "code",
   "execution_count": 207,
   "metadata": {},
   "outputs": [],
   "source": [
    "comb_tgt = pd.merge(left=base_df_ddp, right=fin_merged_ddp, left_on='DateTime', right_on='DateTime')"
   ]
  },
  {
   "cell_type": "code",
   "execution_count": 209,
   "metadata": {},
   "outputs": [
    {
     "data": {
      "text/plain": [
       "100885"
      ]
     },
     "execution_count": 209,
     "metadata": {},
     "output_type": "execute_result"
    }
   ],
   "source": [
    "len(comb_tgt)"
   ]
  },
  {
   "cell_type": "code",
   "execution_count": 212,
   "metadata": {},
   "outputs": [],
   "source": [
    "comb_tgt.drop(labels=['Date_y','MST_y'],axis=1,inplace=True)"
   ]
  },
  {
   "cell_type": "code",
   "execution_count": 214,
   "metadata": {},
   "outputs": [],
   "source": [
    "comb_tgt.columns.values[[0,1]] = ['Date','MST']"
   ]
  },
  {
   "cell_type": "code",
   "execution_count": 216,
   "metadata": {},
   "outputs": [],
   "source": [
    "\n",
    "#comb_tgt.to_csv(os.path.join(data_dir, 'tgtimgs.csv'), index=False)\n",
    "#data_dir}/tgtimgs.csv'"
   ]
  },
  {
   "cell_type": "code",
   "execution_count": 218,
   "metadata": {},
   "outputs": [
    {
     "data": {
      "text/html": [
       "<div>\n",
       "<style scoped>\n",
       "    .dataframe tbody tr th:only-of-type {\n",
       "        vertical-align: middle;\n",
       "    }\n",
       "\n",
       "    .dataframe tbody tr th {\n",
       "        vertical-align: top;\n",
       "    }\n",
       "\n",
       "    .dataframe thead th {\n",
       "        text-align: right;\n",
       "    }\n",
       "</style>\n",
       "<table border=\"1\" class=\"dataframe\">\n",
       "  <thead>\n",
       "    <tr style=\"text-align: right;\">\n",
       "      <th></th>\n",
       "      <th>Date</th>\n",
       "      <th>MST</th>\n",
       "      <th>Imgs</th>\n",
       "      <th>Target</th>\n",
       "      <th>DateTime</th>\n",
       "      <th>GHI</th>\n",
       "      <th>Dni</th>\n",
       "      <th>Zenith</th>\n",
       "      <th>Airmass</th>\n",
       "      <th>CSGHI</th>\n",
       "      <th>tgt</th>\n",
       "      <th>mod_tgt</th>\n",
       "      <th>10ma_tgt</th>\n",
       "    </tr>\n",
       "  </thead>\n",
       "  <tbody>\n",
       "    <tr>\n",
       "      <th>0</th>\n",
       "      <td>2012-01-01</td>\n",
       "      <td>07:40</td>\n",
       "      <td>['/common/users/vk405/EnergyLab/Data/20120101/...</td>\n",
       "      <td>26.5878</td>\n",
       "      <td>2012-01-01 07:40</td>\n",
       "      <td>20.072</td>\n",
       "      <td>1413.778</td>\n",
       "      <td>87.61860</td>\n",
       "      <td>17.57278</td>\n",
       "      <td>3.135137</td>\n",
       "      <td>6.402271</td>\n",
       "      <td>6.402271</td>\n",
       "      <td>3.900481</td>\n",
       "    </tr>\n",
       "    <tr>\n",
       "      <th>1</th>\n",
       "      <td>2012-01-01</td>\n",
       "      <td>07:50</td>\n",
       "      <td>['/common/users/vk405/EnergyLab/Data/20120101/...</td>\n",
       "      <td>42.4806</td>\n",
       "      <td>2012-01-01 07:50</td>\n",
       "      <td>32.264</td>\n",
       "      <td>1413.778</td>\n",
       "      <td>86.07792</td>\n",
       "      <td>12.48786</td>\n",
       "      <td>11.912806</td>\n",
       "      <td>2.708346</td>\n",
       "      <td>2.708346</td>\n",
       "      <td>2.203238</td>\n",
       "    </tr>\n",
       "    <tr>\n",
       "      <th>2</th>\n",
       "      <td>2012-01-01</td>\n",
       "      <td>08:00</td>\n",
       "      <td>['/common/users/vk405/EnergyLab/Data/20120101/...</td>\n",
       "      <td>68.4412</td>\n",
       "      <td>2012-01-01 08:00</td>\n",
       "      <td>54.900</td>\n",
       "      <td>1413.778</td>\n",
       "      <td>84.54333</td>\n",
       "      <td>9.58421</td>\n",
       "      <td>26.702780</td>\n",
       "      <td>2.055966</td>\n",
       "      <td>2.055966</td>\n",
       "      <td>1.860471</td>\n",
       "    </tr>\n",
       "  </tbody>\n",
       "</table>\n",
       "</div>"
      ],
      "text/plain": [
       "         Date    MST                                               Imgs  \\\n",
       "0  2012-01-01  07:40  ['/common/users/vk405/EnergyLab/Data/20120101/...   \n",
       "1  2012-01-01  07:50  ['/common/users/vk405/EnergyLab/Data/20120101/...   \n",
       "2  2012-01-01  08:00  ['/common/users/vk405/EnergyLab/Data/20120101/...   \n",
       "\n",
       "    Target          DateTime     GHI       Dni    Zenith   Airmass      CSGHI  \\\n",
       "0  26.5878  2012-01-01 07:40  20.072  1413.778  87.61860  17.57278   3.135137   \n",
       "1  42.4806  2012-01-01 07:50  32.264  1413.778  86.07792  12.48786  11.912806   \n",
       "2  68.4412  2012-01-01 08:00  54.900  1413.778  84.54333   9.58421  26.702780   \n",
       "\n",
       "        tgt   mod_tgt  10ma_tgt  \n",
       "0  6.402271  6.402271  3.900481  \n",
       "1  2.708346  2.708346  2.203238  \n",
       "2  2.055966  2.055966  1.860471  "
      ]
     },
     "execution_count": 218,
     "metadata": {},
     "output_type": "execute_result"
    }
   ],
   "source": [
    "comb_tgt.head(3)"
   ]
  },
  {
   "cell_type": "code",
   "execution_count": 6,
   "metadata": {},
   "outputs": [
    {
     "data": {
      "text/plain": [
       "array([[1.       , 0.6257823],\n",
       "       [0.6257823, 1.       ]])"
      ]
     },
     "execution_count": 6,
     "metadata": {},
     "output_type": "execute_result"
    }
   ],
   "source": [
    "np.corrcoef(comb_tgt['GHI'],comb_tgt['CSGHI'])"
   ]
  },
  {
   "cell_type": "code",
   "execution_count": null,
   "metadata": {},
   "outputs": [],
   "source": []
  },
  {
   "cell_type": "code",
   "execution_count": 2,
   "metadata": {},
   "outputs": [],
   "source": [
    "comb_tgt = pd.read_csv(os.path.join(data_dir, 'tgtimgs.csv'))"
   ]
  },
  {
   "cell_type": "code",
   "execution_count": 3,
   "metadata": {},
   "outputs": [
    {
     "data": {
      "text/plain": [
       "count    100885.000000\n",
       "mean          3.044470\n",
       "std         142.362152\n",
       "min           0.000000\n",
       "25%           0.533611\n",
       "50%           0.996001\n",
       "75%           1.115014\n",
       "max       27786.416545\n",
       "Name: 10ma_tgt, dtype: float64"
      ]
     },
     "execution_count": 3,
     "metadata": {},
     "output_type": "execute_result"
    }
   ],
   "source": [
    "comb_tgt['10ma_tgt'].describe()"
   ]
  },
  {
   "cell_type": "code",
   "execution_count": 5,
   "metadata": {},
   "outputs": [
    {
     "data": {
      "text/plain": [
       "array([[ 1.        , -0.02135687],\n",
       "       [-0.02135687,  1.        ]])"
      ]
     },
     "execution_count": 5,
     "metadata": {},
     "output_type": "execute_result"
    }
   ],
   "source": [
    "np.corrcoef(x = comb_tgt['Target'],y = comb_tgt['10ma_tgt'])"
   ]
  },
  {
   "cell_type": "code",
   "execution_count": null,
   "metadata": {},
   "outputs": [],
   "source": []
  },
  {
   "cell_type": "code",
   "execution_count": 6,
   "metadata": {},
   "outputs": [
    {
     "data": {
      "text/plain": [
       "3.571555706400608"
      ]
     },
     "execution_count": 6,
     "metadata": {},
     "output_type": "execute_result"
    }
   ],
   "source": [
    "comb_tgt['10ma_tgt'].quantile(0.99)"
   ]
  },
  {
   "cell_type": "code",
   "execution_count": 225,
   "metadata": {},
   "outputs": [
    {
     "data": {
      "text/plain": [
       "3.571555706400608"
      ]
     },
     "execution_count": 225,
     "metadata": {},
     "output_type": "execute_result"
    }
   ],
   "source": [
    "comb_tgt['10ma_tgt'].quantile(0.99)"
   ]
  },
  {
   "cell_type": "code",
   "execution_count": 8,
   "metadata": {},
   "outputs": [
    {
     "data": {
      "text/plain": [
       "375.05655548438006"
      ]
     },
     "execution_count": 8,
     "metadata": {},
     "output_type": "execute_result"
    }
   ],
   "source": [
    "comb_tgt['10ma_tgt'].quantile(0.999)"
   ]
  },
  {
   "cell_type": "code",
   "execution_count": 10,
   "metadata": {},
   "outputs": [
    {
     "data": {
      "text/plain": [
       "[]"
      ]
     },
     "execution_count": 10,
     "metadata": {},
     "output_type": "execute_result"
    },
    {
     "data": {
      "image/png": "[encoded data removed]",
      "text/plain": [
       "<Figure size 432x288 with 1 Axes>"
      ]
     },
     "metadata": {
      "needs_background": "light"
     },
     "output_type": "display_data"
    }
   ],
   "source": [
    "comb_tgt[comb_tgt['10ma_tgt']<=comb_tgt['10ma_tgt'].quantile(0.99)]['10ma_tgt'].hist().plot()"
   ]
  },
  {
   "cell_type": "code",
   "execution_count": 15,
   "metadata": {},
   "outputs": [
    {
     "data": {
      "text/plain": [
       "[]"
      ]
     },
     "execution_count": 15,
     "metadata": {},
     "output_type": "execute_result"
    },
    {
     "data": {
      "image/png": "[encoded data removed]",
      "text/plain": [
       "<Figure size 432x288 with 1 Axes>"
      ]
     },
     "metadata": {
      "needs_background": "light"
     },
     "output_type": "display_data"
    }
   ],
   "source": [
    "comb_tgt[comb_tgt['10ma_tgt']<=comb_tgt['10ma_tgt'].quantile(0.99)]['Target'].hist().plot()"
   ]
  },
  {
   "cell_type": "code",
   "execution_count": 11,
   "metadata": {},
   "outputs": [
    {
     "data": {
      "text/plain": [
       "99876"
      ]
     },
     "execution_count": 11,
     "metadata": {},
     "output_type": "execute_result"
    }
   ],
   "source": []
  },
  {
   "cell_type": "code",
   "execution_count": 18,
   "metadata": {},
   "outputs": [
    {
     "data": {
      "text/html": [
       "<div>\n",
       "<style scoped>\n",
       "    .dataframe tbody tr th:only-of-type {\n",
       "        vertical-align: middle;\n",
       "    }\n",
       "\n",
       "    .dataframe tbody tr th {\n",
       "        vertical-align: top;\n",
       "    }\n",
       "\n",
       "    .dataframe thead th {\n",
       "        text-align: right;\n",
       "    }\n",
       "</style>\n",
       "<table border=\"1\" class=\"dataframe\">\n",
       "  <thead>\n",
       "    <tr style=\"text-align: right;\">\n",
       "      <th></th>\n",
       "      <th>Date</th>\n",
       "      <th>MST</th>\n",
       "      <th>Imgs</th>\n",
       "      <th>Target</th>\n",
       "      <th>DateTime</th>\n",
       "      <th>GHI</th>\n",
       "      <th>Dni</th>\n",
       "      <th>Zenith</th>\n",
       "      <th>Airmass</th>\n",
       "      <th>CSGHI</th>\n",
       "      <th>tgt</th>\n",
       "      <th>mod_tgt</th>\n",
       "      <th>10ma_tgt</th>\n",
       "    </tr>\n",
       "  </thead>\n",
       "  <tbody>\n",
       "    <tr>\n",
       "      <th>0</th>\n",
       "      <td>2012-01-01</td>\n",
       "      <td>07:40</td>\n",
       "      <td>['/common/users/vk405/EnergyLab/Data/20120101/...</td>\n",
       "      <td>26.58780</td>\n",
       "      <td>2012-01-01 07:40</td>\n",
       "      <td>20.0720</td>\n",
       "      <td>1413.778</td>\n",
       "      <td>87.61860</td>\n",
       "      <td>17.57278</td>\n",
       "      <td>3.135137</td>\n",
       "      <td>6.402271</td>\n",
       "      <td>6.402271</td>\n",
       "      <td>3.900481</td>\n",
       "    </tr>\n",
       "    <tr>\n",
       "      <th>1</th>\n",
       "      <td>2012-01-01</td>\n",
       "      <td>07:50</td>\n",
       "      <td>['/common/users/vk405/EnergyLab/Data/20120101/...</td>\n",
       "      <td>42.48060</td>\n",
       "      <td>2012-01-01 07:50</td>\n",
       "      <td>32.2640</td>\n",
       "      <td>1413.778</td>\n",
       "      <td>86.07792</td>\n",
       "      <td>12.48786</td>\n",
       "      <td>11.912806</td>\n",
       "      <td>2.708346</td>\n",
       "      <td>2.708346</td>\n",
       "      <td>2.203238</td>\n",
       "    </tr>\n",
       "    <tr>\n",
       "      <th>2</th>\n",
       "      <td>2012-01-01</td>\n",
       "      <td>08:00</td>\n",
       "      <td>['/common/users/vk405/EnergyLab/Data/20120101/...</td>\n",
       "      <td>68.44120</td>\n",
       "      <td>2012-01-01 08:00</td>\n",
       "      <td>54.9000</td>\n",
       "      <td>1413.778</td>\n",
       "      <td>84.54333</td>\n",
       "      <td>9.58421</td>\n",
       "      <td>26.702780</td>\n",
       "      <td>2.055966</td>\n",
       "      <td>2.055966</td>\n",
       "      <td>1.860471</td>\n",
       "    </tr>\n",
       "    <tr>\n",
       "      <th>3</th>\n",
       "      <td>2012-01-01</td>\n",
       "      <td>08:10</td>\n",
       "      <td>['/common/users/vk405/EnergyLab/Data/20120101/...</td>\n",
       "      <td>89.95900</td>\n",
       "      <td>2012-01-01 08:10</td>\n",
       "      <td>77.5730</td>\n",
       "      <td>1413.779</td>\n",
       "      <td>83.02945</td>\n",
       "      <td>7.75703</td>\n",
       "      <td>46.028014</td>\n",
       "      <td>1.685343</td>\n",
       "      <td>1.685343</td>\n",
       "      <td>1.557430</td>\n",
       "    </tr>\n",
       "    <tr>\n",
       "      <th>4</th>\n",
       "      <td>2012-01-01</td>\n",
       "      <td>08:20</td>\n",
       "      <td>['/common/users/vk405/EnergyLab/Data/20120101/...</td>\n",
       "      <td>100.74350</td>\n",
       "      <td>2012-01-01 08:20</td>\n",
       "      <td>99.5010</td>\n",
       "      <td>1413.779</td>\n",
       "      <td>81.54404</td>\n",
       "      <td>6.51961</td>\n",
       "      <td>68.362607</td>\n",
       "      <td>1.455489</td>\n",
       "      <td>1.455489</td>\n",
       "      <td>1.246774</td>\n",
       "    </tr>\n",
       "    <tr>\n",
       "      <th>...</th>\n",
       "      <td>...</td>\n",
       "      <td>...</td>\n",
       "      <td>...</td>\n",
       "      <td>...</td>\n",
       "      <td>...</td>\n",
       "      <td>...</td>\n",
       "      <td>...</td>\n",
       "      <td>...</td>\n",
       "      <td>...</td>\n",
       "      <td>...</td>\n",
       "      <td>...</td>\n",
       "      <td>...</td>\n",
       "      <td>...</td>\n",
       "    </tr>\n",
       "    <tr>\n",
       "      <th>100880</th>\n",
       "      <td>2017-11-30</td>\n",
       "      <td>15:20</td>\n",
       "      <td>['/common/users/vk405/EnergyLab/Data/20171130/...</td>\n",
       "      <td>161.97970</td>\n",
       "      <td>2017-11-30 15:20</td>\n",
       "      <td>178.5480</td>\n",
       "      <td>1405.835</td>\n",
       "      <td>78.60572</td>\n",
       "      <td>4.94447</td>\n",
       "      <td>118.342626</td>\n",
       "      <td>1.508738</td>\n",
       "      <td>1.508738</td>\n",
       "      <td>1.558826</td>\n",
       "    </tr>\n",
       "    <tr>\n",
       "      <th>100881</th>\n",
       "      <td>2017-11-30</td>\n",
       "      <td>15:30</td>\n",
       "      <td>['/common/users/vk405/EnergyLab/Data/20171130/...</td>\n",
       "      <td>133.98670</td>\n",
       "      <td>2017-11-30 15:30</td>\n",
       "      <td>150.5350</td>\n",
       "      <td>1405.839</td>\n",
       "      <td>80.06339</td>\n",
       "      <td>5.61915</td>\n",
       "      <td>92.507951</td>\n",
       "      <td>1.627266</td>\n",
       "      <td>1.627266</td>\n",
       "      <td>1.705357</td>\n",
       "    </tr>\n",
       "    <tr>\n",
       "      <th>100882</th>\n",
       "      <td>2017-11-30</td>\n",
       "      <td>16:00</td>\n",
       "      <td>['/common/users/vk405/EnergyLab/Data/20171130/...</td>\n",
       "      <td>47.26993</td>\n",
       "      <td>2017-11-30 16:00</td>\n",
       "      <td>68.9675</td>\n",
       "      <td>1405.848</td>\n",
       "      <td>84.63234</td>\n",
       "      <td>9.71726</td>\n",
       "      <td>25.555628</td>\n",
       "      <td>2.698721</td>\n",
       "      <td>2.698721</td>\n",
       "      <td>2.682461</td>\n",
       "    </tr>\n",
       "    <tr>\n",
       "      <th>100883</th>\n",
       "      <td>2017-11-30</td>\n",
       "      <td>16:10</td>\n",
       "      <td>['/common/users/vk405/EnergyLab/Data/20171130/...</td>\n",
       "      <td>15.55378</td>\n",
       "      <td>2017-11-30 16:10</td>\n",
       "      <td>18.9934</td>\n",
       "      <td>1405.852</td>\n",
       "      <td>86.20132</td>\n",
       "      <td>12.79288</td>\n",
       "      <td>10.912339</td>\n",
       "      <td>1.740544</td>\n",
       "      <td>1.740544</td>\n",
       "      <td>3.059256</td>\n",
       "    </tr>\n",
       "    <tr>\n",
       "      <th>100884</th>\n",
       "      <td>2017-11-30</td>\n",
       "      <td>16:20</td>\n",
       "      <td>['/common/users/vk405/EnergyLab/Data/20171130/...</td>\n",
       "      <td>9.61039</td>\n",
       "      <td>2017-11-30 16:20</td>\n",
       "      <td>12.9467</td>\n",
       "      <td>1405.855</td>\n",
       "      <td>87.77208</td>\n",
       "      <td>18.28269</td>\n",
       "      <td>2.595254</td>\n",
       "      <td>4.988606</td>\n",
       "      <td>4.988606</td>\n",
       "      <td>19.856472</td>\n",
       "    </tr>\n",
       "  </tbody>\n",
       "</table>\n",
       "<p>100885 rows × 13 columns</p>\n",
       "</div>"
      ],
      "text/plain": [
       "              Date    MST                                               Imgs  \\\n",
       "0       2012-01-01  07:40  ['/common/users/vk405/EnergyLab/Data/20120101/...   \n",
       "1       2012-01-01  07:50  ['/common/users/vk405/EnergyLab/Data/20120101/...   \n",
       "2       2012-01-01  08:00  ['/common/users/vk405/EnergyLab/Data/20120101/...   \n",
       "3       2012-01-01  08:10  ['/common/users/vk405/EnergyLab/Data/20120101/...   \n",
       "4       2012-01-01  08:20  ['/common/users/vk405/EnergyLab/Data/20120101/...   \n",
       "...            ...    ...                                                ...   \n",
       "100880  2017-11-30  15:20  ['/common/users/vk405/EnergyLab/Data/20171130/...   \n",
       "100881  2017-11-30  15:30  ['/common/users/vk405/EnergyLab/Data/20171130/...   \n",
       "100882  2017-11-30  16:00  ['/common/users/vk405/EnergyLab/Data/20171130/...   \n",
       "100883  2017-11-30  16:10  ['/common/users/vk405/EnergyLab/Data/20171130/...   \n",
       "100884  2017-11-30  16:20  ['/common/users/vk405/EnergyLab/Data/20171130/...   \n",
       "\n",
       "           Target          DateTime       GHI       Dni    Zenith   Airmass  \\\n",
       "0        26.58780  2012-01-01 07:40   20.0720  1413.778  87.61860  17.57278   \n",
       "1        42.48060  2012-01-01 07:50   32.2640  1413.778  86.07792  12.48786   \n",
       "2        68.44120  2012-01-01 08:00   54.9000  1413.778  84.54333   9.58421   \n",
       "3        89.95900  2012-01-01 08:10   77.5730  1413.779  83.02945   7.75703   \n",
       "4       100.74350  2012-01-01 08:20   99.5010  1413.779  81.54404   6.51961   \n",
       "...           ...               ...       ...       ...       ...       ...   \n",
       "100880  161.97970  2017-11-30 15:20  178.5480  1405.835  78.60572   4.94447   \n",
       "100881  133.98670  2017-11-30 15:30  150.5350  1405.839  80.06339   5.61915   \n",
       "100882   47.26993  2017-11-30 16:00   68.9675  1405.848  84.63234   9.71726   \n",
       "100883   15.55378  2017-11-30 16:10   18.9934  1405.852  86.20132  12.79288   \n",
       "100884    9.61039  2017-11-30 16:20   12.9467  1405.855  87.77208  18.28269   \n",
       "\n",
       "             CSGHI       tgt   mod_tgt   10ma_tgt  \n",
       "0         3.135137  6.402271  6.402271   3.900481  \n",
       "1        11.912806  2.708346  2.708346   2.203238  \n",
       "2        26.702780  2.055966  2.055966   1.860471  \n",
       "3        46.028014  1.685343  1.685343   1.557430  \n",
       "4        68.362607  1.455489  1.455489   1.246774  \n",
       "...            ...       ...       ...        ...  \n",
       "100880  118.342626  1.508738  1.508738   1.558826  \n",
       "100881   92.507951  1.627266  1.627266   1.705357  \n",
       "100882   25.555628  2.698721  2.698721   2.682461  \n",
       "100883   10.912339  1.740544  1.740544   3.059256  \n",
       "100884    2.595254  4.988606  4.988606  19.856472  \n",
       "\n",
       "[100885 rows x 13 columns]"
      ]
     },
     "execution_count": 18,
     "metadata": {},
     "output_type": "execute_result"
    }
   ],
   "source": [
    "comb_tgt"
   ]
  },
  {
   "cell_type": "code",
   "execution_count": 14,
   "metadata": {},
   "outputs": [
    {
     "data": {
      "text/plain": [
       "[]"
      ]
     },
     "execution_count": 14,
     "metadata": {},
     "output_type": "execute_result"
    },
    {
     "data": {
      "image/png": "[encoded data removed]",
      "text/plain": [
       "<Figure size 432x288 with 1 Axes>"
      ]
     },
     "metadata": {
      "needs_background": "light"
     },
     "output_type": "display_data"
    }
   ],
   "source": [
    "comb_tgt[comb_tgt['10ma_tgt']>comb_tgt['10ma_tgt'].quantile(0.99)]['GHI'].hist().plot()"
   ]
  },
  {
   "cell_type": "code",
   "execution_count": 4,
   "metadata": {},
   "outputs": [],
   "source": [
    "b_df = pd.read_csv(os.path.join(data_dir, 'Full_SRRL_measurement_timeseries.csv'))"
   ]
  },
  {
   "cell_type": "code",
   "execution_count": 20,
   "metadata": {},
   "outputs": [],
   "source": [
    "b_df['DateTime'] = pd.to_datetime(b_df['DateTime'])"
   ]
  },
  {
   "cell_type": "code",
   "execution_count": null,
   "metadata": {},
   "outputs": [],
   "source": []
  },
  {
   "cell_type": "code",
   "execution_count": 5,
   "metadata": {},
   "outputs": [
    {
     "data": {
      "text/html": [
       "<div>\n",
       "<style scoped>\n",
       "    .dataframe tbody tr th:only-of-type {\n",
       "        vertical-align: middle;\n",
       "    }\n",
       "\n",
       "    .dataframe tbody tr th {\n",
       "        vertical-align: top;\n",
       "    }\n",
       "\n",
       "    .dataframe thead th {\n",
       "        text-align: right;\n",
       "    }\n",
       "</style>\n",
       "<table border=\"1\" class=\"dataframe\">\n",
       "  <thead>\n",
       "    <tr style=\"text-align: right;\">\n",
       "      <th></th>\n",
       "      <th>Date</th>\n",
       "      <th>MST</th>\n",
       "      <th>Imgs</th>\n",
       "      <th>Target</th>\n",
       "      <th>DateTime</th>\n",
       "      <th>GHI</th>\n",
       "      <th>Dni</th>\n",
       "      <th>Zenith</th>\n",
       "      <th>Airmass</th>\n",
       "      <th>CSGHI</th>\n",
       "      <th>tgt</th>\n",
       "      <th>mod_tgt</th>\n",
       "      <th>10ma_tgt</th>\n",
       "    </tr>\n",
       "  </thead>\n",
       "  <tbody>\n",
       "    <tr>\n",
       "      <th>0</th>\n",
       "      <td>2012-01-01</td>\n",
       "      <td>07:40</td>\n",
       "      <td>['/common/users/vk405/EnergyLab/Data/20120101/...</td>\n",
       "      <td>26.5878</td>\n",
       "      <td>2012-01-01 07:40</td>\n",
       "      <td>20.072</td>\n",
       "      <td>1413.778</td>\n",
       "      <td>87.61860</td>\n",
       "      <td>17.57278</td>\n",
       "      <td>3.135137</td>\n",
       "      <td>6.402271</td>\n",
       "      <td>6.402271</td>\n",
       "      <td>3.900481</td>\n",
       "    </tr>\n",
       "    <tr>\n",
       "      <th>1</th>\n",
       "      <td>2012-01-01</td>\n",
       "      <td>07:50</td>\n",
       "      <td>['/common/users/vk405/EnergyLab/Data/20120101/...</td>\n",
       "      <td>42.4806</td>\n",
       "      <td>2012-01-01 07:50</td>\n",
       "      <td>32.264</td>\n",
       "      <td>1413.778</td>\n",
       "      <td>86.07792</td>\n",
       "      <td>12.48786</td>\n",
       "      <td>11.912806</td>\n",
       "      <td>2.708346</td>\n",
       "      <td>2.708346</td>\n",
       "      <td>2.203238</td>\n",
       "    </tr>\n",
       "    <tr>\n",
       "      <th>2</th>\n",
       "      <td>2012-01-01</td>\n",
       "      <td>08:00</td>\n",
       "      <td>['/common/users/vk405/EnergyLab/Data/20120101/...</td>\n",
       "      <td>68.4412</td>\n",
       "      <td>2012-01-01 08:00</td>\n",
       "      <td>54.900</td>\n",
       "      <td>1413.778</td>\n",
       "      <td>84.54333</td>\n",
       "      <td>9.58421</td>\n",
       "      <td>26.702780</td>\n",
       "      <td>2.055966</td>\n",
       "      <td>2.055966</td>\n",
       "      <td>1.860471</td>\n",
       "    </tr>\n",
       "  </tbody>\n",
       "</table>\n",
       "</div>"
      ],
      "text/plain": [
       "         Date    MST                                               Imgs  \\\n",
       "0  2012-01-01  07:40  ['/common/users/vk405/EnergyLab/Data/20120101/...   \n",
       "1  2012-01-01  07:50  ['/common/users/vk405/EnergyLab/Data/20120101/...   \n",
       "2  2012-01-01  08:00  ['/common/users/vk405/EnergyLab/Data/20120101/...   \n",
       "\n",
       "    Target          DateTime     GHI       Dni    Zenith   Airmass      CSGHI  \\\n",
       "0  26.5878  2012-01-01 07:40  20.072  1413.778  87.61860  17.57278   3.135137   \n",
       "1  42.4806  2012-01-01 07:50  32.264  1413.778  86.07792  12.48786  11.912806   \n",
       "2  68.4412  2012-01-01 08:00  54.900  1413.778  84.54333   9.58421  26.702780   \n",
       "\n",
       "        tgt   mod_tgt  10ma_tgt  \n",
       "0  6.402271  6.402271  3.900481  \n",
       "1  2.708346  2.708346  2.203238  \n",
       "2  2.055966  2.055966  1.860471  "
      ]
     },
     "execution_count": 5,
     "metadata": {},
     "output_type": "execute_result"
    }
   ],
   "source": [
    "\n",
    "base_df = pd.read_csv(os.path.join(data_dir, 'tgtimgs.csv'))\n",
    "base_df.head(3)\n"
   ]
  },
  {
   "cell_type": "code",
   "execution_count": 7,
   "metadata": {},
   "outputs": [
    {
     "data": {
      "text/plain": [
       "datetime.datetime(2012, 1, 1, 7, 30)"
      ]
     },
     "execution_count": 7,
     "metadata": {},
     "output_type": "execute_result"
    }
   ],
   "source": [
    "import datetime as dt\n",
    "#from datetime import datetime\n",
    "dt.datetime.fromisoformat(\"2012-01-01 07:30\")"
   ]
  },
  {
   "cell_type": "code",
   "execution_count": 11,
   "metadata": {},
   "outputs": [],
   "source": [
    "end = dt.datetime.fromisoformat(base_df.iloc[0]['DateTime'])\n",
    "\n",
    "st = end-dt.timedelta(minutes=10)"
   ]
  },
  {
   "cell_type": "code",
   "execution_count": 14,
   "metadata": {},
   "outputs": [
    {
     "data": {
      "text/plain": [
       "datetime.datetime(2012, 1, 1, 7, 30)"
      ]
     },
     "execution_count": 14,
     "metadata": {},
     "output_type": "execute_result"
    }
   ],
   "source": [
    "st"
   ]
  },
  {
   "cell_type": "code",
   "execution_count": 15,
   "metadata": {},
   "outputs": [],
   "source": [
    "b_df['DateTime'] = pd.to_datetime(b_df['DateTime'])"
   ]
  },
  {
   "cell_type": "code",
   "execution_count": 16,
   "metadata": {},
   "outputs": [],
   "source": [
    "t = b_df[(b_df['DateTime'] > st) & (b_df['DateTime'] <= end)]['GHI']"
   ]
  },
  {
   "cell_type": "code",
   "execution_count": 26,
   "metadata": {},
   "outputs": [
    {
     "data": {
      "text/plain": [
       "10"
      ]
     },
     "execution_count": 26,
     "metadata": {},
     "output_type": "execute_result"
    }
   ],
   "source": [
    "len(t)"
   ]
  },
  {
   "cell_type": "code",
   "execution_count": 17,
   "metadata": {},
   "outputs": [
    {
     "name": "stderr",
     "output_type": "stream",
     "text": [
      "  3%|▎         | 2869/100885 [00:17<10:28, 155.99it/s]"
     ]
    }
   ],
   "source": [
    "miss = []\n",
    "for i in tqdm(range(len(base_df))):\n",
    "    end = dt.datetime.fromisoformat(base_df.iloc[i]['DateTime'])\n",
    "    st = end-dt.timedelta(minutes=10)\n",
    "    t = b_df[(b_df['DateTime'] > st) & (b_df['DateTime'] <= end)]['GHI']\n",
    "    if len(t) != 10:\n",
    "        miss.append(end)\n",
    "        \n",
    "\n",
    "    "
   ]
  },
  {
   "cell_type": "code",
   "execution_count": null,
   "metadata": {},
   "outputs": [],
   "source": [
    "len(miss)"
   ]
  },
  {
   "cell_type": "code",
   "execution_count": null,
   "metadata": {},
   "outputs": [],
   "source": [
    "miss"
   ]
  },
  {
   "cell_type": "code",
   "execution_count": 1,
   "metadata": {},
   "outputs": [
    {
     "ename": "NameError",
     "evalue": "name 'miss' is not defined",
     "output_type": "error",
     "traceback": [
      "\u001b[0;31m---------------------------------------------------------------------------\u001b[0m",
      "\u001b[0;31mNameError\u001b[0m                                 Traceback (most recent call last)",
      "\u001b[1;32m/common/home/vk405/Projects/EnergyLab/Solar-forcast/nbs/CSI.ipynb Cell 1'\u001b[0m in \u001b[0;36m<cell line: 1>\u001b[0;34m()\u001b[0m\n\u001b[0;32m----> <a href='vscode-notebook-cell://ssh-remote%2Bilab.cs.rutgers.edu/common/home/vk405/Projects/EnergyLab/Solar-forcast/nbs/CSI.ipynb#ch0000000vscode-remote?line=0'>1</a>\u001b[0m miss\n",
      "\u001b[0;31mNameError\u001b[0m: name 'miss' is not defined"
     ]
    }
   ],
   "source": [
    "miss"
   ]
  },
  {
   "cell_type": "code",
   "execution_count": 33,
   "metadata": {},
   "outputs": [
    {
     "data": {
      "text/plain": [
       "0          10.9910\n",
       "1          12.3290\n",
       "2          13.6980\n",
       "3          15.0070\n",
       "4          15.5160\n",
       "            ...   \n",
       "1317099    12.9467\n",
       "1317100    12.2368\n",
       "1317101    11.4936\n",
       "1317102    10.8756\n",
       "1317103    10.3137\n",
       "Name: GHI, Length: 1317104, dtype: float64"
      ]
     },
     "execution_count": 33,
     "metadata": {},
     "output_type": "execute_result"
    }
   ],
   "source": [
    "b_df['GHI'].clip(upper=1250.0,lower=0.0)"
   ]
  },
  {
   "cell_type": "code",
   "execution_count": 41,
   "metadata": {},
   "outputs": [
    {
     "data": {
      "text/plain": [
       "0.000      0.000000\n",
       "0.900      1.267987\n",
       "0.950      1.501955\n",
       "0.990      3.571556\n",
       "0.999    375.056555\n",
       "Name: 10ma_tgt, dtype: float64"
      ]
     },
     "execution_count": 41,
     "metadata": {},
     "output_type": "execute_result"
    }
   ],
   "source": [
    "base_df['10ma_tgt'].quantile([0.0,0.9,0.95,0.99,0.999])"
   ]
  },
  {
   "cell_type": "code",
   "execution_count": 15,
   "metadata": {},
   "outputs": [],
   "source": [
    "#checking trained model\n",
    "\n",
    "df = pd.read_csv('/common/home/vk405/Projects/EnergyLab/Solar-forcast/artifacts/csvlogs/trail/metrics.csv')"
   ]
  },
  {
   "cell_type": "code",
   "execution_count": 16,
   "metadata": {},
   "outputs": [
    {
     "data": {
      "text/plain": [
       "<AxesSubplot:>"
      ]
     },
     "execution_count": 16,
     "metadata": {},
     "output_type": "execute_result"
    },
    {
     "data": {
      "image/png": "[encoded data removed]",
      "text/plain": [
       "<Figure size 432x288 with 1 Axes>"
      ]
     },
     "metadata": {
      "needs_background": "light"
     },
     "output_type": "display_data"
    }
   ],
   "source": [
    "df['val_loss'].dropna().plot()"
   ]
  },
  {
   "cell_type": "code",
   "execution_count": 17,
   "metadata": {},
   "outputs": [],
   "source": [
    "df_svd = pd.read_csv(os.path.join(data_dir, 'SRRL_measurement_timeseries.csv'))"
   ]
  },
  {
   "cell_type": "code",
   "execution_count": 18,
   "metadata": {},
   "outputs": [
    {
     "data": {
      "text/html": [
       "<div>\n",
       "<style scoped>\n",
       "    .dataframe tbody tr th:only-of-type {\n",
       "        vertical-align: middle;\n",
       "    }\n",
       "\n",
       "    .dataframe tbody tr th {\n",
       "        vertical-align: top;\n",
       "    }\n",
       "\n",
       "    .dataframe thead th {\n",
       "        text-align: right;\n",
       "    }\n",
       "</style>\n",
       "<table border=\"1\" class=\"dataframe\">\n",
       "  <thead>\n",
       "    <tr style=\"text-align: right;\">\n",
       "      <th></th>\n",
       "      <th>Date</th>\n",
       "      <th>MST</th>\n",
       "      <th>GHI</th>\n",
       "      <th>DateTime</th>\n",
       "    </tr>\n",
       "  </thead>\n",
       "  <tbody>\n",
       "    <tr>\n",
       "      <th>0</th>\n",
       "      <td>2012-01-01</td>\n",
       "      <td>07:25</td>\n",
       "      <td>10.99100</td>\n",
       "      <td>2012-01-01 07:25</td>\n",
       "    </tr>\n",
       "    <tr>\n",
       "      <th>1</th>\n",
       "      <td>2012-01-01</td>\n",
       "      <td>07:26</td>\n",
       "      <td>12.32900</td>\n",
       "      <td>2012-01-01 07:26</td>\n",
       "    </tr>\n",
       "    <tr>\n",
       "      <th>2</th>\n",
       "      <td>2012-01-01</td>\n",
       "      <td>07:27</td>\n",
       "      <td>13.69800</td>\n",
       "      <td>2012-01-01 07:27</td>\n",
       "    </tr>\n",
       "    <tr>\n",
       "      <th>3</th>\n",
       "      <td>2012-01-01</td>\n",
       "      <td>07:28</td>\n",
       "      <td>15.00700</td>\n",
       "      <td>2012-01-01 07:28</td>\n",
       "    </tr>\n",
       "    <tr>\n",
       "      <th>4</th>\n",
       "      <td>2012-01-01</td>\n",
       "      <td>07:29</td>\n",
       "      <td>15.51600</td>\n",
       "      <td>2012-01-01 07:29</td>\n",
       "    </tr>\n",
       "    <tr>\n",
       "      <th>...</th>\n",
       "      <td>...</td>\n",
       "      <td>...</td>\n",
       "      <td>...</td>\n",
       "      <td>...</td>\n",
       "    </tr>\n",
       "    <tr>\n",
       "      <th>1577916</th>\n",
       "      <td>2017-11-30</td>\n",
       "      <td>16:30</td>\n",
       "      <td>7.39022</td>\n",
       "      <td>2017-11-30 16:30</td>\n",
       "    </tr>\n",
       "    <tr>\n",
       "      <th>1577917</th>\n",
       "      <td>2017-11-30</td>\n",
       "      <td>16:31</td>\n",
       "      <td>6.93717</td>\n",
       "      <td>2017-11-30 16:31</td>\n",
       "    </tr>\n",
       "    <tr>\n",
       "      <th>1577918</th>\n",
       "      <td>2017-11-30</td>\n",
       "      <td>16:32</td>\n",
       "      <td>6.44949</td>\n",
       "      <td>2017-11-30 16:32</td>\n",
       "    </tr>\n",
       "    <tr>\n",
       "      <th>1577919</th>\n",
       "      <td>2017-11-30</td>\n",
       "      <td>16:33</td>\n",
       "      <td>5.92687</td>\n",
       "      <td>2017-11-30 16:33</td>\n",
       "    </tr>\n",
       "    <tr>\n",
       "      <th>1577920</th>\n",
       "      <td>2017-11-30</td>\n",
       "      <td>16:34</td>\n",
       "      <td>5.44278</td>\n",
       "      <td>2017-11-30 16:34</td>\n",
       "    </tr>\n",
       "  </tbody>\n",
       "</table>\n",
       "<p>1577921 rows × 4 columns</p>\n",
       "</div>"
      ],
      "text/plain": [
       "               Date    MST       GHI          DateTime\n",
       "0        2012-01-01  07:25  10.99100  2012-01-01 07:25\n",
       "1        2012-01-01  07:26  12.32900  2012-01-01 07:26\n",
       "2        2012-01-01  07:27  13.69800  2012-01-01 07:27\n",
       "3        2012-01-01  07:28  15.00700  2012-01-01 07:28\n",
       "4        2012-01-01  07:29  15.51600  2012-01-01 07:29\n",
       "...             ...    ...       ...               ...\n",
       "1577916  2017-11-30  16:30   7.39022  2017-11-30 16:30\n",
       "1577917  2017-11-30  16:31   6.93717  2017-11-30 16:31\n",
       "1577918  2017-11-30  16:32   6.44949  2017-11-30 16:32\n",
       "1577919  2017-11-30  16:33   5.92687  2017-11-30 16:33\n",
       "1577920  2017-11-30  16:34   5.44278  2017-11-30 16:34\n",
       "\n",
       "[1577921 rows x 4 columns]"
      ]
     },
     "execution_count": 18,
     "metadata": {},
     "output_type": "execute_result"
    }
   ],
   "source": [
    "df_svd"
   ]
  },
  {
   "cell_type": "code",
   "execution_count": null,
   "metadata": {},
   "outputs": [],
   "source": [
    "\n",
    "class Dset(Dataset):\n",
    "    def __init__(self,split= 'train',data_dir='/common/home/vk405/Projects/EnergyLab/Solar-forcast/Data/',\n",
    "    image_dir='/common/users/vk405/EnergyLab/Data/ProcData',seq_length=10):\n",
    "        self.split = split\n",
    "\n",
    "        #hardcoded dir locs \n",
    "        self.data_dir = Path(data_dir)\n",
    "        self.image_dir = Path(image_dir) \n",
    "        self.seq_length = seq_length\n",
    "        \n",
    "        base_df = pd.read_csv(f'{self.data_dir}/tgtimgs.csv')\n",
    "        #remove outliers\n",
    "        base_df['GHI'] = b_df['GHI'].clip(upper=1250.0,lower=0.0)\n",
    "        base_df['10ma_tgt'] = b_df['10ma_tgt'].clip(upper=base_df['10ma_tgt'].quantile,lower=0.0)\n",
    "\n",
    "\n",
    "        full_df = pd.read_csv(f'{self.data_dir}/Full_SRRL_measurement_timeseries.csv')\n",
    "        full_df['GHI'] = full_df['GHI'].clip(upper=1250.0,lower=0.0)\n",
    "                \n",
    "        trn_base_df = pd.DataFrame(base_df.loc[pd.to_datetime(base_df['Date']).dt.year <= 2014])\n",
    "        trn_full_df = pd.DataFrame(base_df.loc[pd.to_datetime(full_df['Date']).dt.year <= 2014])\n",
    "        \n",
    "        trn_x,trn_y = extract(trn_base_df,trn_full_df)\n",
    "\n",
    "\n",
    "        scalar = MinMaxScaler().fit(trn_x.reshape(-1,1))\n",
    "\n",
    "        scalar_tgt = MinMaxScaler().fit(trn_y.reshape(-1,1))\n",
    "\n",
    "        if self.split == 'train':\n",
    "            self.base_df,self.full_df = trn_base_df,trn_full_df\n",
    "\n",
    "        \n",
    "        elif self.split == 'valid':\n",
    "            self.base_df = pd.DataFrame(base_df.loc[pd.to_datetime(base_df['Date']).dt.year == 2015])\n",
    "            self.full_df = pd.DataFrame(base_df.loc[pd.to_datetime(full_df['Date']).dt.year == 2015])\n",
    "        \n",
    "        else:\n",
    "            self.base_df = pd.DataFrame(base_df.loc[pd.to_datetime(base_df['Date']).dt.year > 2015])\n",
    "            self.full_df = pd.DataFrame(base_df.loc[pd.to_datetime(full_df['Date']).dt.year > 2015])\n",
    "        \n",
    "            \n",
    "        \n",
    "\n",
    "            \n",
    "\n",
    "        x,y = self.extract(self.base_df,self.full_df)\n",
    "        r,c = x.shape\n",
    "        self.x = np.squeeze(scalar.transform(trn_x.reshape(-1,1))).reshape(r,c)\n",
    "        self.y = np.squeeze(scalar_tgt.transform(trn_y.reshape(-1,1)))\n",
    "            \n",
    "        \n",
    "    def __len__(self):\n",
    "        return len(self.x)\n",
    "\n",
    "    def __getitem__(self,ind):\n",
    "        return self.x[ind].reshape(-1,1),self.y[ind]\n",
    "\n",
    "    def extract(self,base_df,full_df):\n",
    "        xs = []\n",
    "        ys = []\n",
    "        for i in tqdm(range(len(base_df))):\n",
    "            end = dt.datetime.fromisoformat(base_df.iloc[i]['DateTime'])\n",
    "            st = end-dt.timedelta(minutes=self.seq_length)\n",
    "            t = full_df[(b_df['DateTime'] > st) & (full_df['DateTime'] <= end)]['GHI']\n",
    "            xs.append(t.values)\n",
    "            ys.append(base_df.iloc[i]['10ma_tgt'])\n",
    "            if len(t) != 10:\n",
    "                miss.append(end)\n",
    "\n",
    "    \n",
    "\n",
    "    def sliding_windows(self,data, seq_length):\n",
    "        x = []\n",
    "        y = []\n",
    "        dates = sorted(set(data['Date']))\n",
    "        for date in tqdm(dates):\n",
    "            #print(date)\n",
    "            dt_data = data[data['Date'].isin([date])]\n",
    "            for i in range(len(dt_data)-seq_length-1):\n",
    "                _x = dt_data.iloc[i:(i+seq_length)]['norm_GHI']\n",
    "                _y = dt_data.iloc[i+seq_length-1]['norm_Target']\n",
    "                x.append(_x)\n",
    "                y.append(_y)\n",
    "            \n",
    "\n",
    "        return np.array(x),np.array(y)"
   ]
  },
  {
   "cell_type": "code",
   "execution_count": 2,
   "metadata": {},
   "outputs": [],
   "source": [
    "from sklearn.preprocessing import MinMaxScaler\n",
    "base_df = pd.read_csv(f'{data_dir}/tgtimgs.csv')\n",
    "thresh = base_df['10ma_tgt'].quantile(0.99)\n",
    "base_df.loc[base_df.index[base_df['10ma_tgt']>=thresh],'10ma_tgt'] = thresh\n",
    "\n",
    "trn_df = pd.DataFrame(base_df.loc[pd.to_datetime(base_df['Date']).dt.year <= 2014])\n",
    "scalar = MinMaxScaler().fit(trn_df['10ma_tgt'].values.reshape(-1,1))"
   ]
  },
  {
   "cell_type": "code",
   "execution_count": 3,
   "metadata": {},
   "outputs": [
    {
     "data": {
      "text/plain": [
       "3.214400135760547"
      ]
     },
     "execution_count": 3,
     "metadata": {},
     "output_type": "execute_result"
    }
   ],
   "source": [
    "scalar.inverse_transform([[0.9]])[0][0]"
   ]
  },
  {
   "cell_type": "code",
   "execution_count": 4,
   "metadata": {},
   "outputs": [],
   "source": [
    "# inference\n",
    "\n",
    "tst_preds = pd.read_csv(data_dir/'infered_vals_csi.csv')\n",
    "b_df = pd.read_csv(os.path.join(data_dir, 'Full_SRRL_measurement_timeseries.csv'))"
   ]
  },
  {
   "cell_type": "code",
   "execution_count": 5,
   "metadata": {},
   "outputs": [],
   "source": [
    "b_df['DateTime'] = pd.to_datetime(b_df['DateTime'])"
   ]
  },
  {
   "cell_type": "code",
   "execution_count": 6,
   "metadata": {},
   "outputs": [
    {
     "data": {
      "text/html": [
       "<div>\n",
       "<style scoped>\n",
       "    .dataframe tbody tr th:only-of-type {\n",
       "        vertical-align: middle;\n",
       "    }\n",
       "\n",
       "    .dataframe tbody tr th {\n",
       "        vertical-align: top;\n",
       "    }\n",
       "\n",
       "    .dataframe thead th {\n",
       "        text-align: right;\n",
       "    }\n",
       "</style>\n",
       "<table border=\"1\" class=\"dataframe\">\n",
       "  <thead>\n",
       "    <tr style=\"text-align: right;\">\n",
       "      <th></th>\n",
       "      <th>Date</th>\n",
       "      <th>MST</th>\n",
       "      <th>GHI</th>\n",
       "      <th>DateTime</th>\n",
       "      <th>Dni</th>\n",
       "      <th>Zenith</th>\n",
       "      <th>Airmass</th>\n",
       "      <th>CSGHI</th>\n",
       "      <th>tgt</th>\n",
       "      <th>mod_tgt</th>\n",
       "      <th>10ma_tgt</th>\n",
       "    </tr>\n",
       "  </thead>\n",
       "  <tbody>\n",
       "    <tr>\n",
       "      <th>0</th>\n",
       "      <td>2012-01-01</td>\n",
       "      <td>07:25</td>\n",
       "      <td>10.991</td>\n",
       "      <td>2012-01-01 07:25:00</td>\n",
       "      <td>1413.778</td>\n",
       "      <td>89.86485</td>\n",
       "      <td>35.97313</td>\n",
       "      <td>0.008625</td>\n",
       "      <td>1274.291555</td>\n",
       "      <td>7.342886</td>\n",
       "      <td>129.033106</td>\n",
       "    </tr>\n",
       "    <tr>\n",
       "      <th>1</th>\n",
       "      <td>2012-01-01</td>\n",
       "      <td>07:26</td>\n",
       "      <td>12.329</td>\n",
       "      <td>2012-01-01 07:26:00</td>\n",
       "      <td>1413.778</td>\n",
       "      <td>89.72035</td>\n",
       "      <td>34.03509</td>\n",
       "      <td>0.024549</td>\n",
       "      <td>502.227473</td>\n",
       "      <td>7.342886</td>\n",
       "      <td>80.127671</td>\n",
       "    </tr>\n",
       "  </tbody>\n",
       "</table>\n",
       "</div>"
      ],
      "text/plain": [
       "         Date    MST     GHI            DateTime       Dni    Zenith  \\\n",
       "0  2012-01-01  07:25  10.991 2012-01-01 07:25:00  1413.778  89.86485   \n",
       "1  2012-01-01  07:26  12.329 2012-01-01 07:26:00  1413.778  89.72035   \n",
       "\n",
       "    Airmass     CSGHI          tgt   mod_tgt    10ma_tgt  \n",
       "0  35.97313  0.008625  1274.291555  7.342886  129.033106  \n",
       "1  34.03509  0.024549   502.227473  7.342886   80.127671  "
      ]
     },
     "execution_count": 6,
     "metadata": {},
     "output_type": "execute_result"
    }
   ],
   "source": [
    "b_df.head(2)"
   ]
  },
  {
   "cell_type": "code",
   "execution_count": 7,
   "metadata": {},
   "outputs": [],
   "source": [
    "tst_preds.head(2)\n",
    "import datetime as dt"
   ]
  },
  {
   "cell_type": "code",
   "execution_count": null,
   "metadata": {},
   "outputs": [],
   "source": [
    "end = dt.datetime.fromisoformat(base_df.iloc[0]['DateTime'])\n",
    "\n",
    "st = end-dt.timedelta(minutes=10)"
   ]
  },
  {
   "cell_type": "code",
   "execution_count": 8,
   "metadata": {},
   "outputs": [
    {
     "name": "stderr",
     "output_type": "stream",
     "text": [
      " 48%|████▊     | 13431/27849 [02:10<02:15, 106.72it/s]"
     ]
    }
   ],
   "source": [
    "pred_ghilis = []\n",
    "true_ghilis = []\n",
    "\n",
    "chnk = None\n",
    "for i in tqdm(range(len(tst_preds))):\n",
    "    pred_val = tst_preds.iloc[i]['pred_tgt']\n",
    "    pred_csi = scalar.inverse_transform([[pred_val]])[0][0]\n",
    "    \n",
    "    index = tst_preds.iloc[i]['DateTime']\n",
    "    index = dt.datetime.fromisoformat(index)\n",
    "    st = index\n",
    "    end = st + dt.timedelta(minutes=10)\n",
    "    chnk  = b_df[(b_df['DateTime']>st) &  (b_df['DateTime']<=end)]\n",
    "    ghi = chnk['GHI']\n",
    "    csghi_mean = chnk['CSGHI'].mean()\n",
    "    ghi_mean = ghi.where(ghi<=1250.0,1250.0).mean()\n",
    "\n",
    "    pred_ghi = csghi_mean*pred_csi\n",
    "    pred_ghilis.append(pred_ghi)\n",
    "    true_ghilis.append(ghi_mean)\n",
    "\n",
    "\n",
    "    \n",
    "    \n",
    "    "
   ]
  },
  {
   "cell_type": "code",
   "execution_count": null,
   "metadata": {},
   "outputs": [],
   "source": [
    "tst_preds['pred_ghi'] = pred_ghilis\n",
    "tst_preds['true_ghi'] = true_ghilis"
   ]
  },
  {
   "cell_type": "code",
   "execution_count": null,
   "metadata": {},
   "outputs": [],
   "source": [
    "tst_preds.to_csv(data_dir/'infered_vals_csi.csv',index=False)"
   ]
  },
  {
   "cell_type": "code",
   "execution_count": 38,
   "metadata": {},
   "outputs": [],
   "source": [
    "\n",
    "fstq,sndq,thirdq = tst_preds['10ma_tgt'].quantile(0.25),tst_preds['10ma_tgt'].quantile(0.5),tst_preds['10ma_tgt'].quantile(0.75)\n",
    "\n",
    "first = tst_preds[tst_preds['10ma_tgt']<=fstq]\n",
    "second  = tst_preds[(tst_preds['10ma_tgt']>fstq) & (tst_preds['10ma_tgt']<=sndq)]\n",
    "third = tst_preds[(tst_preds['10ma_tgt']>sndq) & (tst_preds['10ma_tgt']<=thirdq)]\n",
    "fourth = tst_preds[(tst_preds['10ma_tgt']>thirdq)]"
   ]
  },
  {
   "cell_type": "code",
   "execution_count": 39,
   "metadata": {},
   "outputs": [
    {
     "data": {
      "text/plain": [
       "171.23590910073054"
      ]
     },
     "execution_count": 39,
     "metadata": {},
     "output_type": "execute_result"
    }
   ],
   "source": [
    "# yes cloudy is bad(can do hypothesis testing for better confirmation.)\n",
    "np.sqrt(np.mean((cloudy['pred_ghi'] - cloudy['true_ghi'])**2))"
   ]
  },
  {
   "cell_type": "code",
   "execution_count": null,
   "metadata": {},
   "outputs": [],
   "source": []
  },
  {
   "cell_type": "code",
   "execution_count": 10,
   "metadata": {},
   "outputs": [
    {
     "data": {
      "text/plain": [
       "0.0697177608734202"
      ]
     },
     "execution_count": 10,
     "metadata": {},
     "output_type": "execute_result"
    }
   ],
   "source": [
    "# yes cloudy is bad(can do hypothesis testing for better confirmation.)\n",
    "np.sqrt(np.mean((cloudy['pred_tgt'] - cloudy['ground_tgt'])**2))"
   ]
  },
  {
   "cell_type": "code",
   "execution_count": 12,
   "metadata": {},
   "outputs": [
    {
     "data": {
      "text/plain": [
       "0.03861520165644683"
      ]
     },
     "execution_count": 12,
     "metadata": {},
     "output_type": "execute_result"
    }
   ],
   "source": [
    "np.sqrt(np.mean((normal['pred_tgt'] - normal['ground_tgt'])**2))"
   ]
  },
  {
   "cell_type": "code",
   "execution_count": 13,
   "metadata": {},
   "outputs": [
    {
     "data": {
      "text/plain": [
       "0.13775842925064014"
      ]
     },
     "execution_count": 13,
     "metadata": {},
     "output_type": "execute_result"
    }
   ],
   "source": [
    "np.sqrt(np.mean((sunny['pred_tgt'] - sunny['ground_tgt'])**2))"
   ]
  },
  {
   "cell_type": "code",
   "execution_count": null,
   "metadata": {},
   "outputs": [],
   "source": []
  },
  {
   "cell_type": "code",
   "execution_count": 4,
   "metadata": {},
   "outputs": [
    {
     "data": {
      "text/plain": [
       "[]"
      ]
     },
     "execution_count": 4,
     "metadata": {},
     "output_type": "execute_result"
    },
    {
     "data": {
      "image/png": "[encoded data removed]",
      "text/plain": [
       "<Figure size 432x288 with 1 Axes>"
      ]
     },
     "metadata": {
      "needs_background": "light"
     },
     "output_type": "display_data"
    }
   ],
   "source": [
    "df_test['10ma_tgt'].hist().plot()"
   ]
  },
  {
   "cell_type": "code",
   "execution_count": 6,
   "metadata": {},
   "outputs": [
    {
     "data": {
      "text/plain": [
       "[]"
      ]
     },
     "execution_count": 6,
     "metadata": {},
     "output_type": "execute_result"
    },
    {
     "data": {
      "image/png": "[encoded data removed]",
      "text/plain": [
       "<Figure size 432x288 with 1 Axes>"
      ]
     },
     "metadata": {
      "needs_background": "light"
     },
     "output_type": "display_data"
    }
   ],
   "source": [
    "df_test['pred_tgt'].hist().plot()"
   ]
  },
  {
   "cell_type": "code",
   "execution_count": 3,
   "metadata": {},
   "outputs": [],
   "source": [
    "base_df = pd.read_csv(f'{data_dir}/tgtimgs.csv')"
   ]
  },
  {
   "cell_type": "code",
   "execution_count": 6,
   "metadata": {},
   "outputs": [
    {
     "data": {
      "text/plain": [
       "count    100885.000000\n",
       "mean          3.044470\n",
       "std         142.362152\n",
       "min           0.000000\n",
       "25%           0.533611\n",
       "50%           0.996001\n",
       "75%           1.115014\n",
       "max       27786.416545\n",
       "Name: 10ma_tgt, dtype: float64"
      ]
     },
     "execution_count": 6,
     "metadata": {},
     "output_type": "execute_result"
    }
   ],
   "source": [
    "base_df['10ma_tgt'].describe()"
   ]
  },
  {
   "cell_type": "markdown",
   "metadata": {},
   "source": []
  },
  {
   "cell_type": "code",
   "execution_count": null,
   "metadata": {},
   "outputs": [],
   "source": []
  }
 ],
 "metadata": {
  "interpreter": {
   "hash": "ba0eaf5009993b745d4aa7d6cba132d7a7c20d53b6841ddae3db28e24457bb23"
  },
  "kernelspec": {
   "display_name": "Python 3 (ipykernel)",
   "language": "python",
   "name": "python3"
  },
  "language_info": {
   "codemirror_mode": {
    "name": "ipython",
    "version": 3
   },
   "file_extension": ".py",
   "mimetype": "text/x-python",
   "name": "python",
   "nbconvert_exporter": "python",
   "pygments_lexer": "ipython3",
   "version": "3.8.12"
  }
 },
 "nbformat": 4,
 "nbformat_minor": 4
}
